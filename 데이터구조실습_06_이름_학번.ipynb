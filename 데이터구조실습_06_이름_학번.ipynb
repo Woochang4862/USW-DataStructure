{
 "cells": [
  {
   "cell_type": "code",
   "execution_count": 1,
   "metadata": {
    "ExecuteTime": {
     "end_time": "2019-09-03T15:10:03.561712Z",
     "start_time": "2019-09-03T15:10:03.552711Z"
    }
   },
   "outputs": [
    {
     "data": {
      "text/html": [
       "<style>.container { width:95% !important; }</style>"
      ],
      "text/plain": [
       "<IPython.core.display.HTML object>"
      ]
     },
     "metadata": {},
     "output_type": "display_data"
    },
    {
     "data": {
      "text/html": [
       "<style>.input_area pre {font-family: Consolas; font-size: 15pt; line-height: 140%; font-weight: bold}</style>"
      ],
      "text/plain": [
       "<IPython.core.display.HTML object>"
      ]
     },
     "metadata": {},
     "output_type": "display_data"
    },
    {
     "data": {
      "text/html": [
       "<style>.output_area pre {font-family: Consolas; font-size: 15pt; line-height: 140%;}</style>"
      ],
      "text/plain": [
       "<IPython.core.display.HTML object>"
      ]
     },
     "metadata": {},
     "output_type": "display_data"
    }
   ],
   "source": [
    "from IPython.core.display import display, HTML\n",
    "display(HTML(\"<style>.container { width:95% !important; }</style>\"))\n",
    "display(HTML(\"<style>.input_area pre {font-family: Consolas; font-size: 15pt; line-height: 140%; font-weight: bold}</style>\"))\n",
    "display(HTML(\"<style>.output_area pre {font-family: Consolas; font-size: 15pt; line-height: 140%;}</style>\"))\n"
   ]
  },
  {
   "cell_type": "markdown",
   "metadata": {},
   "source": [
    "# 파일 이름에서 '학번'을 자신의 학번으로, '이름'을 자신의 이름으로 고치시오."
   ]
  },
  {
   "cell_type": "code",
   "execution_count": 1,
   "metadata": {},
   "outputs": [],
   "source": [
    "# 이 셀을 실행시키세요.\n",
    "from __future__ import annotations\n",
    "from typing import Any"
   ]
  },
  {
   "cell_type": "markdown",
   "metadata": {},
   "source": [
    "# 문제1\n",
    "\n",
    "LinkedListQueue의 enqueue()와 dequeue() 메소드를 완성하시오.\n",
    "\n",
    "### 결과\n",
    "```\n",
    "1\n",
    "2\n",
    "------\n",
    "Front: 3->4->5 :Rear\n",
    "peek(): 3\n",
    "__len__(): 3\n",
    "------\n",
    "3\n",
    "Front:  :Rear\n",
    "```"
   ]
  },
  {
   "cell_type": "code",
   "execution_count": 5,
   "metadata": {},
   "outputs": [
    {
     "name": "stdout",
     "output_type": "stream",
     "text": [
      "1\n",
      "2\n",
      "------\n",
      "Front: 3->4->5 :Rear\n",
      "peek(): 3\n",
      "__len__(): 3\n",
      "------\n",
      "3\n",
      "Front:  :Rear\n"
     ]
    }
   ],
   "source": [
    "from __future__ import annotations\n",
    "from typing import Any, List, Tuple, Dict\n",
    "\n",
    "class Node:\n",
    "    \"\"\"연결 리스트용 노드 클래스\"\"\"\n",
    "\n",
    "    def __init__(self, data: Any = None, next: Node = None):\n",
    "        \"\"\"초기화\"\"\"\n",
    "        self.data = data  # 데이터\n",
    "        self.next = next  # 뒤쪽 포인터\n",
    "\n",
    "\n",
    "class LinkedListQueue:\n",
    "    \"\"\"연결리스트를 이용한 큐 클래스\"\"\"\n",
    "\n",
    "    def __init__(self) -> None:\n",
    "        \"\"\"초기화\"\"\"\n",
    "        self.no = 0 # 노드의 개수\n",
    "        self.front = None # 프런트 노드\n",
    "        self.rear = None # 리어 노드     \n",
    "\n",
    "    def __len__(self) -> int:\n",
    "        \"\"\"큐의 크기 반환\"\"\"\n",
    "        return self.no\n",
    "    \n",
    "    def is_empty(self) -> bool:\n",
    "        \"\"\"큐가 비어있는지 확인\"\"\"\n",
    "        return self.front is None\n",
    "\n",
    "    def enqueue(self, data: Any) -> None:\n",
    "        \"\"\"큐의 리어에 데이터를 삽입\"\"\"\n",
    "        node = Node(data)\n",
    "        if self.is_empty():\n",
    "            self.front = node\n",
    "            self.rear = node\n",
    "        else:\n",
    "            self.rear.next = node\n",
    "            self.rear = self.rear.next\n",
    "        self.no += 1\n",
    "        \n",
    "    def dequeue(self) -> Any:\n",
    "        \"\"\"큐에서 프런트에 있는 데이터를 꺼냄(삭제)\"\"\"\n",
    "        if not self.is_empty():\n",
    "            data = self.front.data\n",
    "            self.front = self.front.next\n",
    "            self.no -= 1\n",
    "            return data\n",
    "        else:\n",
    "            raise IndexError('Queue is empty.')\n",
    "            \n",
    "    def peek(self) -> Any:\n",
    "        \"\"\"큐에서 프런트에 있는 데이터를 반환\"\"\"\n",
    "        if not self.is_empty():\n",
    "            return self.front.data\n",
    "        else:\n",
    "            raise IndexError(\"Queue is empty.\")\n",
    "    \n",
    "    def print(self) -> None:\n",
    "        \"\"\"큐의 모든 데이터를 프런트에서부터 출력\"\"\"\n",
    "        ptr = self.front\n",
    "        print(\"Front: \", end='')\n",
    "        while ptr is not None:\n",
    "            print(ptr.data, end='')\n",
    "            if ptr.next is not None:\n",
    "                print('->', end='')\n",
    "            ptr = ptr.next\n",
    "        print(' :Rear')\n",
    "        \n",
    "\n",
    "    def clear(self) -> None:\n",
    "        \"\"\"전체 노드를 삭제\"\"\"\n",
    "        while not self.is_empty():  # 전체가 비어 있게 될 때까지\n",
    "            self.dequeue() # 디큐 연산\n",
    "        self.no = 0\n",
    "\n",
    "# 아래는 수정하지 마시오.\n",
    "queue = LinkedListQueue()\n",
    "\n",
    "queue.enqueue(1)\n",
    "queue.enqueue(2)\n",
    "print(queue.dequeue())\n",
    "queue.enqueue(3)\n",
    "print(queue.dequeue())\n",
    "queue.enqueue(4)\n",
    "queue.enqueue(5)\n",
    "\n",
    "print(\"------\")\n",
    "queue.print()\n",
    "print(\"peek():\", queue.peek())\n",
    "print(\"__len__():\", len(queue))\n",
    "\n",
    "print(\"------\")\n",
    "print(queue.dequeue())\n",
    "\n",
    "queue.clear()\n",
    "queue.print()\n"
   ]
  },
  {
   "cell_type": "markdown",
   "metadata": {},
   "source": [
    "# 문제2\n",
    "\n",
    "데크를 이용하여 Queue 클래스를 구현하시오.\n",
    "\n",
    "is_empty(), enqueue(), dequeue(), peek() 메소드를 구현하시오.\n",
    "\n",
    "### 결과\n",
    "```\n",
    "1\n",
    "2\n",
    "------\n",
    "Front: deque([3, 4, 5]) :Rear\n",
    "peek(): 3\n",
    "__len__(): 3\n",
    "------\n",
    "3\n",
    "Front: deque([]) :Rear\n",
    "```"
   ]
  },
  {
   "cell_type": "code",
   "execution_count": 6,
   "metadata": {
    "ExecuteTime": {
     "end_time": "2019-09-03T15:17:20.681860Z",
     "start_time": "2019-09-03T15:17:20.678869Z"
    },
    "scrolled": true
   },
   "outputs": [
    {
     "name": "stdout",
     "output_type": "stream",
     "text": [
      "1\n",
      "2\n",
      "------\n",
      "Front: deque([3, 4, 5]) :Rear\n",
      "peek(): 3\n",
      "__len__(): 3\n",
      "------\n",
      "3\n",
      "Front: deque([]) :Rear\n"
     ]
    }
   ],
   "source": [
    "from __future__ import annotations\n",
    "from typing import Any, List, Tuple, Dict\n",
    "from collections import deque\n",
    "\n",
    "class Queue:\n",
    "    def __init__(self) -> None:\n",
    "        \"\"\"큐 생성자\"\"\"\n",
    "        self.queue = deque()\n",
    "        \n",
    "    def is_empty(self) -> bool:\n",
    "        \"\"\"큐가 비어있는지 확인\"\"\"\n",
    "        return len(self.queue) == 0\n",
    "    \n",
    "    def enqueue(self, data: Any):\n",
    "        \"\"\"큐에 데이터를 삽입\"\"\"\n",
    "        self.queue.append(data)\n",
    "        \n",
    "    def dequeue(self) -> Any:\n",
    "        \"\"\"큐에서 프런트에 있는 데이터를 꺼냄\"\"\"\n",
    "        return self.queue.popleft()\n",
    "        \n",
    "    def peek(self) -> Any:\n",
    "        \"\"\"큐에서 프런트에 있는 데이터를 리턴\"\"\"\n",
    "        if not self.is_empty():\n",
    "            return self.queue[0]\n",
    "        else:\n",
    "            raise IndexError(\"Queue is empty.\")\n",
    "            \n",
    "    def print(self) -> None:\n",
    "        \"\"\"큐의 모든 데이터들을 출력\"\"\"\n",
    "        print(f\"Front: {self.queue} :Rear\")\n",
    "  \n",
    "    def clear(self) -> None:\n",
    "        \"\"\"큐의 모든 데이터를 삭제\"\"\"\n",
    "        while not self.is_empty():  \n",
    "            self.dequeue()\n",
    "        \n",
    "    def __len__(self) -> int:\n",
    "        \"\"\"큐의 크기 리턴\"\"\"\n",
    "        return len(self.queue)\n",
    "\n",
    "# 아래는 수정하지 마시오.\n",
    "queue = Queue()\n",
    "\n",
    "queue.enqueue(1)\n",
    "queue.enqueue(2)\n",
    "print(queue.dequeue())\n",
    "queue.enqueue(3)\n",
    "print(queue.dequeue())\n",
    "queue.enqueue(4)\n",
    "queue.enqueue(5)\n",
    "\n",
    "print(\"------\")\n",
    "queue.print()\n",
    "print(\"peek():\", queue.peek())\n",
    "print(\"__len__():\", len(queue))\n",
    "\n",
    "print(\"------\")\n",
    "print(queue.dequeue())\n",
    "\n",
    "queue.clear()\n",
    "queue.print()"
   ]
  },
  {
   "cell_type": "markdown",
   "metadata": {},
   "source": [
    "# 문제3\n",
    "\n",
    "### 큐를 활용하는 문제\n",
    "\n",
    "```\n",
    "N장의 카드가 있다. 각각의 카드는 차례로 1부터 N까지의 번호가 붙어 있으며, 1번 카드가 제일 위에, N번 카드가 제일 아래인 상태로 순서대로 카드가 놓여 있다.\n",
    "\n",
    "이제 다음과 같은 동작을 카드가 한 장 남을 때까지 반복하게 된다. \n",
    "우선, 제일 위에 있는 카드를 바닥에 버린다. 그 다음, 제일 위에 있는 카드를 제일 아래에 있는 카드 밑으로 옮긴다.\n",
    "\n",
    "예를 들어 N=4인 경우를 생각해 보자. 카드는 제일 위에서부터 1234 의 순서로 놓여있다. 1을 버리면 234가 남는다. 여기서 2를 제일 아래로 옮기면 342가 된다. 3을 버리면 42가 되고, 4를 밑으로 옮기면 24가 된다. 마지막으로 2를 버리고 나면, 버린 카드들은 순서대로 1 3 2가 되고, 남는 카드는 4가 된다.\n",
    "N이 주어졌을 때, 버린 카드들을 순서대로 출력하고, 마지막에 남게 되는 카드를 출력하는 프로그램을 작성하시오.\n",
    "```\n",
    "\n",
    "### 결과\n",
    "```\n",
    "1 3 2 4 \n",
    "1 3 5 7 4 2 6\n",
    "```"
   ]
  },
  {
   "cell_type": "code",
   "execution_count": 14,
   "metadata": {},
   "outputs": [
    {
     "name": "stdout",
     "output_type": "stream",
     "text": [
      "1 3 2 4\n",
      "1 3 5 7 4 2 6\n"
     ]
    }
   ],
   "source": [
    "from collections import deque\n",
    "\n",
    "def cards_play(n: int) -> None:\n",
    "    queue = deque(list(range(1, n+1)))\n",
    "\n",
    "    while len(queue) > 1:\n",
    "        card = queue.popleft()\n",
    "        print(card, end=' ')\n",
    "        queue.append(queue.popleft())\n",
    "    print(queue[0])\n",
    "\n",
    "# 아래는 수정하지 마시오.\n",
    "cards_play(4)\n",
    "cards_play(7)\n",
    "    \n",
    "    "
   ]
  },
  {
   "cell_type": "markdown",
   "metadata": {},
   "source": [
    "# 문제4\n",
    "\n",
    "## 공주 구하기\n",
    "\n",
    "```\n",
    "어느 왕국의 이웃 나라 외동딸 공주가 숲 속의 괴물에게 잡혀갔습니다.\n",
    "왕국에는 왕자가 N명이 있는데 서로 공주를 구하러 가겠다고 합니다. 왕국의 왕은 다음과 같은 방법으로 공주를 구하러 갈 왕자를 결정하기로 했습니다.\n",
    "\n",
    "왕은 왕자들을 나이 순으로 1번부터 N번까지 차례로 번호를 매기고 1번 왕자부터 N번 왕자까지 순서대로 시계 방향으로 돌아가게 동그랗게 앉게 합니다. 그리고 1번 왕자부터 시계 방향으로 돌아가며 1부터 시작하여 번호를 외치게 합니다. 한 왕자가 K(특정 숫자)를 외치면 그 왕자는 공주를 구하러 가는데서 제외되고 원 밖으로 나오게 됩니다. 그리고 다음 왕자부터 다시 1부터 시작하여 번호를 외칩니다.\n",
    "\n",
    "이렇게 해서 마지막까지 남은 왕자가 공주를 구하러 갈 수 있습니다. 마지막에 남은 왕자의 번호는 무엇인가요?\n",
    "\n",
    "n과 k가 주어 졌을 때, 마지막에 남은 왕자의 번호를 리턴하는 함수를 작성하시오.\n",
    "```\n",
    "\n",
    "\n",
    "\n",
    "***결과***\n",
    "```\n",
    "3\n",
    "7\n",
    "```"
   ]
  },
  {
   "cell_type": "code",
   "execution_count": 15,
   "metadata": {},
   "outputs": [
    {
     "name": "stdout",
     "output_type": "stream",
     "text": [
      "3\n",
      "7\n"
     ]
    }
   ],
   "source": [
    "from collections import deque\n",
    "def save_princess(n: int, k: int) -> int:\n",
    "    queue = deque(range(1,n+1))\n",
    "    count = 0\n",
    "    while len(queue) > 1:\n",
    "        prince = queue.popleft()\n",
    "        count += 1\n",
    "        if count == k:\n",
    "            count = 0\n",
    "        else:\n",
    "            queue.append(prince)\n",
    "    return queue[0]\n",
    "\n",
    "print(save_princess(3, 2))\n",
    "print(save_princess(8, 3))\n",
    "    "
   ]
  }
 ],
 "metadata": {
  "kernelspec": {
   "display_name": "Python 3",
   "language": "python",
   "name": "python3"
  },
  "language_info": {
   "codemirror_mode": {
    "name": "ipython",
    "version": 3
   },
   "file_extension": ".py",
   "mimetype": "text/x-python",
   "name": "python",
   "nbconvert_exporter": "python",
   "pygments_lexer": "ipython3",
   "version": "3.10.13"
  }
 },
 "nbformat": 4,
 "nbformat_minor": 4
}
