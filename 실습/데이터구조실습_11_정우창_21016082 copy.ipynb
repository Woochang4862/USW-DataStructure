{
 "cells": [
  {
   "cell_type": "code",
   "execution_count": 1,
   "metadata": {
    "ExecuteTime": {
     "end_time": "2019-09-03T15:10:03.561712Z",
     "start_time": "2019-09-03T15:10:03.552711Z"
    }
   },
   "outputs": [
    {
     "data": {
      "text/html": [
       "<style>.container { width:100% !important; }</style>"
      ],
      "text/plain": [
       "<IPython.core.display.HTML object>"
      ]
     },
     "metadata": {},
     "output_type": "display_data"
    },
    {
     "data": {
      "text/html": [
       "<style>\n",
       "div.CodeMirror, div.CodeMirror pre, div.CodeMirror-code,\n",
       "div.output_area pre, div.output_wrapper pre,\n",
       ".text_cell_render, .text_cell_render *\n",
       "{ font-family: Consolas; font-size: 15pt; line-height: 140%;}\n",
       "</style>"
      ],
      "text/plain": [
       "<IPython.core.display.HTML object>"
      ]
     },
     "metadata": {},
     "output_type": "display_data"
    }
   ],
   "source": [
    "from IPython.display import display, HTML, Markdown\n",
    "display(HTML(\"<style>.container { width:100% !important; }</style>\"))\n",
    "display(HTML(\"\"\"<style>\n",
    "div.CodeMirror, div.CodeMirror pre, div.CodeMirror-code,\n",
    "div.output_area pre, div.output_wrapper pre,\n",
    ".text_cell_render, .text_cell_render *\n",
    "{ font-family: Consolas; font-size: 15pt; line-height: 140%;}\n",
    "</style>\"\"\"))"
   ]
  },
  {
   "cell_type": "markdown",
   "metadata": {},
   "source": [
    "# 파일 이름에서 '학번'을 자신의 학번으로, '이름'을 자신의 이름으로 고치시오."
   ]
  },
  {
   "cell_type": "markdown",
   "metadata": {},
   "source": [
    "# 문제1\n",
    "\n",
    "graph_DFS() 를 완성하시오. \n",
    "\n",
    "- 파라미터:\n",
    "    - graph: 인접리스트\n",
    "- 리턴:\n",
    "    - 방문한 순서대로 노드의 키값이 들어 있는 리스트\n",
    "\n",
    "### 결과\n",
    "```\n",
    "[1, 2, 5, 6, 7, 3, 4]\n",
    "```\n"
   ]
  },
  {
   "cell_type": "code",
   "execution_count": 4,
   "metadata": {},
   "outputs": [
    {
     "name": "stdout",
     "output_type": "stream",
     "text": [
      "[1, 2, 5, 6, 7, 3, 4]\n"
     ]
    }
   ],
   "source": [
    "from typing import Any, Dict, List\n",
    "def graph_DFS(graph: Dict[Any, List]) -> List:\n",
    "    order = []\n",
    "    visited = {k:False for k in graph.keys()}\n",
    "\n",
    "    def dfs(node):\n",
    "        if not visited[node]:\n",
    "            visited[node] = True\n",
    "            order.append(node)\n",
    "            for node in graph[node]:\n",
    "                dfs(node)\n",
    "\n",
    "    for i in graph.keys():\n",
    "        dfs(i)\n",
    "\n",
    "    return order\n",
    "\n",
    "graph = {\n",
    "    1: [2, 3, 4],\n",
    "    2: [5],\n",
    "    3: [5],\n",
    "    4: [],\n",
    "    5: [6, 7],\n",
    "    6: [],\n",
    "    7: [3],\n",
    "}\n",
    "print(graph_DFS(graph))"
   ]
  },
  {
   "cell_type": "markdown",
   "metadata": {},
   "source": [
    "# 문제2\n",
    "\n",
    "graph_BFS() 를 완성하시오. \n",
    "\n",
    "- 파라미터:\n",
    "    - graph: 인접리스트\n",
    "- 리턴:\n",
    "    - 방문한 순서대로 노드의 키값이 들어 있는 리스트\n",
    "\n",
    "### 결과\n",
    "```\n",
    "[1, 2, 3, 4, 5, 6, 7]\n",
    "```\n"
   ]
  },
  {
   "cell_type": "code",
   "execution_count": 5,
   "metadata": {
    "scrolled": true
   },
   "outputs": [
    {
     "name": "stdout",
     "output_type": "stream",
     "text": [
      "[1, 2, 3, 4, 5, 6, 7]\n"
     ]
    }
   ],
   "source": [
    "from typing import Any\n",
    "from collections import deque\n",
    "def graph_BFS(graph: Dict[Any, List]) -> None:\n",
    "    order = []\n",
    "    visited = {k:False for k in graph.keys()}\n",
    "    \n",
    "    def bfs(start):\n",
    "        queue = deque([start])\n",
    "        while queue:\n",
    "            node = queue.popleft()\n",
    "            if not visited[node]:\n",
    "                order.append(node)\n",
    "                visited[node] = True\n",
    "                for v in graph[node]:\n",
    "                    queue.append(v)\n",
    "\n",
    "    for i in graph:\n",
    "        if not visited[i]:\n",
    "            bfs(i)\n",
    "    return order\n",
    "\n",
    "graph = {\n",
    "    1: [2, 3, 4],\n",
    "    2: [5],\n",
    "    3: [5],\n",
    "    4: [],\n",
    "    5: [6, 7],\n",
    "    6: [],\n",
    "    7: [3]\n",
    "}\n",
    "print(graph_BFS(graph))"
   ]
  },
  {
   "cell_type": "markdown",
   "metadata": {},
   "source": [
    "# 문제3\n",
    "\n",
    "DFS 를 이용하여 가장 큰 섬의 크기를 리턴하는 max_island_size() 함수를 완성하시오.\n",
    "\n",
    "그리드맵에서 1은 육지이고 0은 물이다. 육지들은 상하좌우만로 연결될 수 있다.\n",
    "\n",
    "- max_island_size() 파라미터:\n",
    "    - grid: 이중리스트로 된 그리드 맵\n",
    "- max_island_size() 리턴: 가장 큰 섬의 크기\n",
    "\n",
    "### 결과\n",
    "```\n",
    "4\n",
    "5\n",
    "```\n"
   ]
  },
  {
   "cell_type": "code",
   "execution_count": 20,
   "metadata": {},
   "outputs": [
    {
     "name": "stdout",
     "output_type": "stream",
     "text": [
      "4\n",
      "5\n"
     ]
    }
   ],
   "source": [
    "from typing import Any\n",
    "\n",
    "def max_island_size(grid: List[List[int]], method='BFS') -> int:\n",
    "    n_rows = len(grid)\n",
    "    n_cols = len(grid[0])\n",
    "    visited = [[False]*n_cols for _ in range(n_rows)]\n",
    "\n",
    "    count = 0\n",
    "\n",
    "    dxdy = [(0,1),(0,-1),(1,0),(-1,0)]\n",
    "\n",
    "    def is_promising(row, col):\n",
    "        return 0<=row<n_rows and 0<=col<n_cols and grid[row][col] != 0 and not visited[row][col]\n",
    "\n",
    "    def dfs(row, col):\n",
    "        if is_promising(row,col):\n",
    "            visited[row][col] = True\n",
    "            return sum([dfs(row+dx, col+dy) for dx, dy in dxdy]) + 1\n",
    "        return 0\n",
    "                \n",
    "                    \n",
    "\n",
    "    def bfs(row, col):\n",
    "        queue = deque([(row,col)])\n",
    "        count = 0\n",
    "        while queue:\n",
    "            x, y = queue.popleft()\n",
    "            if is_promising(x,y):\n",
    "                visited[x][y] = True\n",
    "                count += 1\n",
    "                for dx, dy in dxdy:\n",
    "                    queue.append((x+dx,y+dy))\n",
    "        return count\n",
    "\n",
    "    search_method = {\n",
    "        'DFS':dfs,\n",
    "        'BFS':bfs\n",
    "    }\n",
    "\n",
    "    sizes = []\n",
    "    for i in range(n_rows):\n",
    "        for j in range(n_cols):\n",
    "            if is_promising(i,j):\n",
    "                sizes.append(search_method[method](i,j))\n",
    "\n",
    "    return max(sizes)\n",
    "\n",
    "# 아래는 수정하지 마시오.\n",
    "grid = [\n",
    "    [1,1,0,0,0],\n",
    "    [1,1,0,0,0],\n",
    "    [0,0,1,0,0],\n",
    "    [0,0,0,1,1],\n",
    "]\n",
    "print(max_island_size(grid))\n",
    "\n",
    "grid = [\n",
    "    [1,1,0,0,1],\n",
    "    [1,1,0,0,0],\n",
    "    [0,0,0,1,1],\n",
    "    [0,0,1,1,1],\n",
    "] # 이 경우에 max(...) 를 이용한 풀이는 grid[1][0] 이 빠져서 계산됨 (이유는 분기되는 경우!! 분기된 경우를 더해주지 않으면 해당 경우가 누락되기 때문임)\n",
    "print(max_island_size(grid))"
   ]
  },
  {
   "cell_type": "markdown",
   "metadata": {},
   "source": [
    "# 문제4\n",
    "\n",
    "미로 탈출 문제\n",
    "\n",
    "1을 지날 갈 수 칸으로 0을 벽으로 가정한 2D 그리드 맵이 주어졌을 때, (1,1) 에서 출발하여 우측 하단으로 이동할 때 지나야 하는 최소의 칸 수를 구하시오.\n",
    "\n",
    "### 결과\n",
    "```\n",
    "5\n",
    "15\n",
    "```"
   ]
  },
  {
   "cell_type": "code",
   "execution_count": 29,
   "metadata": {},
   "outputs": [
    {
     "name": "stdout",
     "output_type": "stream",
     "text": [
      "5\n",
      "15\n"
     ]
    }
   ],
   "source": [
    "from typing import Any, List\n",
    "from collections import deque\n",
    "def miro(grid:List[List]) -> int:\n",
    "    start = (0,0)\n",
    "    n_rows = len(grid)\n",
    "    n_cols = len(grid[0])\n",
    "    target = (n_rows-1, n_cols-1)\n",
    "    visited = [[0]*n_cols for _ in range(n_rows)]\n",
    "    dxdy = [(0,1),(0,-1),(1,0),(-1,0)]\n",
    "    \n",
    "    def is_promising(x,y):\n",
    "        return 0<=x<n_rows and 0<=y<n_cols and grid[x][y] == 1 and not visited[x][y]\n",
    "    \n",
    "    # 시작점에 대한 유의성 검사\n",
    "    if not is_promising(start[0],start[1]): return -1\n",
    "    visited[start[0]][start[1]] = 1\n",
    "    queue = deque([start])\n",
    "\n",
    "    while queue:\n",
    "        x,y = queue.popleft()\n",
    "        if (x,y) == target:\n",
    "            return visited[x][y]\n",
    "        for dx, dy in dxdy:\n",
    "            nx,ny = x+dx, y+dy\n",
    "            if is_promising(nx,ny):\n",
    "                visited[nx][ny] = visited[x][y] + 1\n",
    "                queue.append((nx,ny))\n",
    "\n",
    "    return -1\n",
    "    \n",
    "\n",
    "# 아래는 수정하지 마시오.\n",
    "grid = [\n",
    "    [1,0,1],\n",
    "    [1,1,1],\n",
    "    [1,0,1],\n",
    "]\n",
    "print(miro(grid))\n",
    "\n",
    "grid = [\n",
    "    [1,0,1,1,1,1],\n",
    "    [1,0,1,0,1,0],\n",
    "    [1,0,1,0,1,1],\n",
    "    [1,1,1,0,1,1],\n",
    "]\n",
    "print(miro(grid))"
   ]
  }
 ],
 "metadata": {
  "kernelspec": {
   "display_name": "3.10.13",
   "language": "python",
   "name": "python3"
  },
  "language_info": {
   "codemirror_mode": {
    "name": "ipython",
    "version": 3
   },
   "file_extension": ".py",
   "mimetype": "text/x-python",
   "name": "python",
   "nbconvert_exporter": "python",
   "pygments_lexer": "ipython3",
   "version": "3.10.13"
  }
 },
 "nbformat": 4,
 "nbformat_minor": 4
}
