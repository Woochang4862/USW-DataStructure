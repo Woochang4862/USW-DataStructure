{
 "cells": [
  {
   "cell_type": "code",
   "execution_count": 1,
   "metadata": {
    "ExecuteTime": {
     "end_time": "2019-09-03T15:10:03.561712Z",
     "start_time": "2019-09-03T15:10:03.552711Z"
    }
   },
   "outputs": [
    {
     "data": {
      "text/html": [
       "<style>.container { width:100% !important; }</style>"
      ],
      "text/plain": [
       "<IPython.core.display.HTML object>"
      ]
     },
     "metadata": {},
     "output_type": "display_data"
    },
    {
     "data": {
      "text/html": [
       "<style>\n",
       "div.CodeMirror, div.CodeMirror pre, div.CodeMirror-code,\n",
       "div.output_area pre, div.output_wrapper pre,\n",
       ".text_cell_render, .text_cell_render *\n",
       "{ font-family: Consolas; font-size: 15pt; line-height: 140%;}\n",
       "</style>"
      ],
      "text/plain": [
       "<IPython.core.display.HTML object>"
      ]
     },
     "metadata": {},
     "output_type": "display_data"
    }
   ],
   "source": [
    "from IPython.display import display, HTML, Markdown\n",
    "display(HTML(\"<style>.container { width:100% !important; }</style>\"))\n",
    "display(HTML(\"\"\"<style>\n",
    "div.CodeMirror, div.CodeMirror pre, div.CodeMirror-code,\n",
    "div.output_area pre, div.output_wrapper pre,\n",
    ".text_cell_render, .text_cell_render *\n",
    "{ font-family: Consolas; font-size: 15pt; line-height: 140%;}\n",
    "</style>\"\"\"))"
   ]
  },
  {
   "cell_type": "markdown",
   "metadata": {},
   "source": [
    "# 파일 이름에서 '학번'을 자신의 학번으로, '이름'을 자신의 이름으로 고치시오."
   ]
  },
  {
   "cell_type": "code",
   "execution_count": 1,
   "metadata": {},
   "outputs": [],
   "source": [
    "# 이 셀을 실행시키세요.\n",
    "from __future__ import annotations\n",
    "from typing import Any, Sequence"
   ]
  },
  {
   "cell_type": "markdown",
   "metadata": {},
   "source": [
    "# 문제1\n",
    "\n",
    "중첩함수를 사용하지 않고 재귀적 이진탐색을 구현하시오.\n",
    "\n",
    "- 파라미터:\n",
    "    - seq: 데이터들이 들어 있는 시퀀스\n",
    "    - target: 찾고 싶은 값\n",
    "    - left: 탐색 해야 하는 시작 인덱스\n",
    "    - right: 탐색 해야 하는 마지막 인덱스 \n",
    "- 리턴: 탐색에 성공한 경우는 해당 인덱스를 리턴하고 실패한 경우에는 -1을 리턴\n",
    "\n",
    "### 결과\n",
    "\n",
    "```\n",
    "1\n",
    "4\n",
    "```"
   ]
  },
  {
   "cell_type": "code",
   "execution_count": 2,
   "metadata": {},
   "outputs": [
    {
     "name": "stdout",
     "output_type": "stream",
     "text": [
      "1\n",
      "4\n"
     ]
    }
   ],
   "source": [
    "def binary_search_recursive2(seq: Sequence, target: Any, left: int, right: int) -> int:\n",
    "    if left > right: return -1\n",
    "\n",
    "    mid = (left+right)//2\n",
    "    if seq[mid] == target: return mid\n",
    "    elif seq[mid] < target: left = mid + 1\n",
    "    else: right = mid - 1\n",
    "\n",
    "    return binary_search_recursive2(seq, target, left, right)\n",
    "    \n",
    "nums = [1, 2, 3, 4, 5, 6, 8]\n",
    "print(binary_search_recursive2(nums, 2, 0, len(nums)))\n",
    "print(binary_search_recursive2(nums, 5, 0, len(nums)))"
   ]
  },
  {
   "cell_type": "markdown",
   "metadata": {},
   "source": [
    "# 문제2\n",
    "\n",
    "(숫자, 문자열) 의 튜플들이 저장되어 있는 리스트 arr이 있다.\n",
    "\n",
    "이때 arr에 들어 있는 튜플들은 숫자를 기준으로 오름차순으로 정렬되어 있다.\n",
    "\n",
    "반복적 이진 탐색을 이용하여 특정 숫자가 들어 있는 튜플의 위치를 리턴하는 함수를 작성하시오.\n",
    "\n",
    "- 파라미터:\n",
    "    - seq: 데이터 시퀀스로 각 원소는 (int, str) 형태로 되어 있다.\n",
    "    - target: 찾고 싶은 값\n",
    "- 리턴: \n",
    "\n",
    "### 결과\n",
    "\n",
    "```\n",
    "5\n",
    "1\n",
    "-1\n",
    "```"
   ]
  },
  {
   "cell_type": "code",
   "execution_count": 4,
   "metadata": {
    "ExecuteTime": {
     "end_time": "2019-09-03T15:17:20.681860Z",
     "start_time": "2019-09-03T15:17:20.678869Z"
    },
    "scrolled": true
   },
   "outputs": [
    {
     "name": "stdout",
     "output_type": "stream",
     "text": [
      "5\n",
      "1\n",
      "-1\n"
     ]
    }
   ],
   "source": [
    "def binary_search_iter(seq: Sequence, target: Any) -> int:\n",
    "    left = 0\n",
    "    right = len(seq) - 1 \n",
    "    while left < right:\n",
    "        mid = (left + right)//2\n",
    "        if seq[mid][0] == target:\n",
    "            return mid\n",
    "        elif seq[mid][0] < target:\n",
    "            left = mid + 1\n",
    "        else:\n",
    "            right = mid - 1\n",
    "    return -1\n",
    "# 아래는 수정하지 마시오.\n",
    "arr = [(2, 'A'), (5, 'D'), (6, 'B'), (8, 'G'), (9, 'E'), (11, 'F'), (12, 'I'), (17, 'H')]\n",
    "\n",
    "print(binary_search_iter(arr, 11))\n",
    "print(binary_search_iter(arr, 5))\n",
    "print(binary_search_iter(arr, 7))"
   ]
  },
  {
   "cell_type": "markdown",
   "metadata": {},
   "source": [
    "# 문제3\n",
    "\n",
    "```\n",
    "숫자 카드는 정수 하나가 적혀져 있는 카드이다. 상근이는 숫자 카드 N개를 가지고 있다. 정수 M개가 주어졌을 때, 이 수가 적혀있는 숫자 카드를 상근이가 몇 개 가지고 있는지 구하는 프로그램을 작성하시오.\n",
    "```\n",
    "\n",
    "- 파라미터:\n",
    "    - cards: 정수들이 들어 있는 리스트로, 숫자가 적힌 카드들을 의미한다.\n",
    "    - nums: 정수들이 들어 있는 리스트 \n",
    "- 리턴:\n",
    "    - nums에 들어 있는 수가 적혀있는 카드를 몇 개 가지고 있는지 리스트 형태로 리턴힌다.\n",
    "\n",
    "### 결과\n",
    "```\n",
    "[3, 0, 0, 1, 2, 0, 0, 2]\n",
    "```"
   ]
  },
  {
   "cell_type": "code",
   "execution_count": 5,
   "metadata": {},
   "outputs": [
    {
     "name": "stdout",
     "output_type": "stream",
     "text": [
      "[3, 0, 0, 1, 2, 0, 0, 2]\n"
     ]
    }
   ],
   "source": [
    "from collections import defaultdict\n",
    "def cards_count(cards: list[int], nums: list[int]) -> list[int]:\n",
    "    count = defaultdict(int)\n",
    "    for card in cards:\n",
    "        count[card] += 1\n",
    "    return list(map(lambda x: count[x], nums))\n",
    "        \n",
    "# 아래는 수정하지 마시오.\n",
    "print(cards_count([6, 3, 2, 10, 10, 10, -10, -10, 7, 3], [10, 9, -5, 2, 3, 4, 5, -10]))\n",
    "    "
   ]
  },
  {
   "cell_type": "markdown",
   "metadata": {},
   "source": [
    "## 문제4\n",
    "\n",
    "친구로부터 노트북을 중고로 산 스브러스는 노트북을 켜자마자 경악할 수밖에 없었다. 바탕화면에 온갖 파일들이 정리도 안 된 채 가득했기 때문이다. 그리고 화면의 구석에서 친구의 메시지를 확인할 수 있었다.\n",
    "\n",
    "\n",
    ">바탕화면의 파일들에는 값진 보물에 대한 정보가 들어 있어. 하나라도 지우게 된다면 보물은 물론이고 다시는 노트북을 쓸 수 없게 될 거야. 파일들을 잘 분석해서 보물의 주인공이 될 수 있길 바랄게. 힌트는 “확장자”야.\n",
    "\n",
    "\n",
    "화가 났던 스브러스는 보물 이야기에 금세 화가 풀렸고 보물의 정보를 알아내려고 애썼다. 하지만 파일이 너무 많은 탓에 이내 포기했고 보물의 절반을 보상으로 파일의 정리를 요청해왔다. 스브러스의 요청은 다음과 같다.\n",
    "\n",
    "1. 파일을 확장자 별로 정리해서 몇 개씩 있는지 알려줘.\n",
    "1. 보기 편하게 확장자들을 사전 순으로 정렬해 줘.\n",
    "\n",
    "\n",
    "그럼 보물의 절반을 얻어내기 위해 얼른 스브러스의 노트북 파일 정리를 해줄 프로그램을 만들자!\n",
    "\n",
    "\n",
    "파일의 이름은 알파벳 소문자와 점(.)으로만 구성되어 있다. 점은 정확히 한 번 등장하며, 파일 이름의 첫 글자 또는 마지막 글자로 오지 않는다. \n",
    "\n",
    "\n",
    "- 파라미터:\n",
    "    - files: 파일 이름들이 들어 있는 리스트\n",
    "- 리턴:\n",
    "    - 확장자의 이름과 그 확장자 파일의 개수를 튜플형태로 가지는 리스트. 확장자가 여러 개 있는 경우 확장자 이름의 사전순으로 정렬한다.\n",
    " \n",
    "### 결과\n",
    "\n",
    "```\n",
    "[('icpc', 2), ('spc', 2), ('txt', 3), ('world', 1)]\n",
    "```"
   ]
  },
  {
   "cell_type": "code",
   "execution_count": 6,
   "metadata": {},
   "outputs": [
    {
     "name": "stdout",
     "output_type": "stream",
     "text": [
      "[('icpc', 2), ('spc', 2), ('txt', 3), ('world', 1)]\n"
     ]
    }
   ],
   "source": [
    "from collections import defaultdict\n",
    "def extention_count(files: list[str]) -> list[tuple[str, int]]:\n",
    "    count = defaultdict(int)\n",
    "    for file in files:\n",
    "        count[file.split('.')[1]] += 1\n",
    "    return sorted(count.items())\n",
    "\n",
    "print(extention_count([\"sbrus.txt\",\"spc.spc\",\"acm.icpc\",\"korea.icpc\",\n",
    "                       \"sample.txt\",\"hello.world\",\"sogang.spc\",\"example.txt\"]))"
   ]
  }
 ],
 "metadata": {
  "kernelspec": {
   "display_name": "3.10.13",
   "language": "python",
   "name": "python3"
  },
  "language_info": {
   "codemirror_mode": {
    "name": "ipython",
    "version": 3
   },
   "file_extension": ".py",
   "mimetype": "text/x-python",
   "name": "python",
   "nbconvert_exporter": "python",
   "pygments_lexer": "ipython3",
   "version": "3.10.13"
  }
 },
 "nbformat": 4,
 "nbformat_minor": 4
}
