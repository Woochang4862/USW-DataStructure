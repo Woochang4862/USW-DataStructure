{
 "cells": [
  {
   "cell_type": "code",
   "execution_count": 1,
   "metadata": {
    "ExecuteTime": {
     "end_time": "2023-11-26T09:47:53.528468Z",
     "start_time": "2023-11-26T09:47:53.516769Z"
    }
   },
   "outputs": [
    {
     "data": {
      "text/html": [
       "<style>.container { width:100% !important; }</style>"
      ],
      "text/plain": [
       "<IPython.core.display.HTML object>"
      ]
     },
     "metadata": {},
     "output_type": "display_data"
    },
    {
     "data": {
      "text/html": [
       "<style>\n",
       "div.CodeMirror, div.CodeMirror pre, div.CodeMirror-code,\n",
       "div.output_area pre, div.output_wrapper pre,\n",
       ".text_cell_render, .text_cell_render *\n",
       "{ font-family: Consolas; font-size: 15pt; line-height: 140%;}\n",
       "</style>"
      ],
      "text/plain": [
       "<IPython.core.display.HTML object>"
      ]
     },
     "metadata": {},
     "output_type": "display_data"
    }
   ],
   "source": [
    "from IPython.display import display, HTML, Markdown\n",
    "display(HTML(\"<style>.container { width:100% !important; }</style>\"))\n",
    "display(HTML(\"\"\"<style>\n",
    "div.CodeMirror, div.CodeMirror pre, div.CodeMirror-code,\n",
    "div.output_area pre, div.output_wrapper pre,\n",
    ".text_cell_render, .text_cell_render *\n",
    "{ font-family: Consolas; font-size: 15pt; line-height: 140%;}\n",
    "</style>\"\"\"))"
   ]
  },
  {
   "cell_type": "markdown",
   "metadata": {},
   "source": [
    "# 파일 이름에서 '학번'을 자신의 학번으로, '이름'을 자신의 이름으로 고치시오."
   ]
  },
  {
   "cell_type": "markdown",
   "metadata": {},
   "source": [
    "# 문제1\n",
    "\n",
    "선택 정렬 함수를 완성하시오. \n",
    "\n",
    "***결과***\n",
    "```\n",
    "[1, 2, 2, 4, 5, 5, 6, 7, 8, 9]\n",
    "```\n"
   ]
  },
  {
   "cell_type": "code",
   "execution_count": 8,
   "metadata": {
    "ExecuteTime": {
     "end_time": "2023-11-26T09:48:16.337700Z",
     "start_time": "2023-11-26T09:48:16.333823Z"
    }
   },
   "outputs": [
    {
     "name": "stdout",
     "output_type": "stream",
     "text": [
      "[1, 2, 2, 4, 5, 5, 6, 7, 8, 9]\n"
     ]
    }
   ],
   "source": [
    "def selection_sort(seq: list) -> None:\n",
    "    \"\"\"선택 정렬\"\"\"\n",
    "    n = len(seq)\n",
    "    for i in range(n-1):\n",
    "        min_idx = i\n",
    "        for j in range(i+1,n):\n",
    "            if seq[j] < seq[min_idx]:\n",
    "                min_idx = j\n",
    "        seq[i], seq[min_idx] = seq[min_idx], seq[i]\n",
    "\n",
    "arr = [4,5,2,1,9,6,7,8,2,5]\n",
    "selection_sort(arr)\n",
    "print(arr)\n",
    "        "
   ]
  },
  {
   "cell_type": "markdown",
   "metadata": {},
   "source": [
    "# 문제2\n",
    "\n",
    "삽입정렬 함수를 완성하시오.\n",
    "\n",
    "***결과***\n",
    "```\n",
    "[1, 2, 2, 4, 5, 5, 6, 7, 8, 9]\n",
    "```\n"
   ]
  },
  {
   "cell_type": "code",
   "execution_count": 9,
   "metadata": {
    "ExecuteTime": {
     "end_time": "2023-11-26T09:48:26.208182Z",
     "start_time": "2023-11-26T09:48:26.203206Z"
    },
    "scrolled": true
   },
   "outputs": [
    {
     "name": "stdout",
     "output_type": "stream",
     "text": [
      "[1, 2, 2, 4, 5, 5, 6, 7, 8, 9]\n"
     ]
    }
   ],
   "source": [
    "def insertion_sort(seq: list) -> None:\n",
    "    \"\"\"삽입 정렬\"\"\"\n",
    "    n = len(seq)\n",
    "    for i in range(1,n):\n",
    "        for j in range(i,0,-1):\n",
    "            if seq[j-1] > seq[j]:\n",
    "                seq[j-1], seq[j] = seq[j], seq[j-1]\n",
    "            else:\n",
    "                break\n",
    "        \n",
    "arr = [4,5,2,1,9,6,7,8,2,5]\n",
    "insertion_sort(arr)\n",
    "print(arr)\n",
    "        "
   ]
  },
  {
   "cell_type": "markdown",
   "metadata": {},
   "source": [
    "# 문제3\n",
    "\n",
    "합병하는 merge() 함수와 합병 정렬을 하는 merge_sort() 함수를 작성하시오.\n",
    "\n",
    "***결과***\n",
    "```\n",
    "[1, 2, 4, 5, 6, 7]\n",
    "```\n",
    "\n",
    "```\n",
    "[1, 1, 2, 2, 3, 4, 4, 5, 5, 6, 7, 8, 9]\n",
    "```\n",
    "\n"
   ]
  },
  {
   "cell_type": "code",
   "execution_count": 4,
   "metadata": {
    "ExecuteTime": {
     "end_time": "2023-11-26T09:48:43.952916Z",
     "start_time": "2023-11-26T09:48:43.949319Z"
    }
   },
   "outputs": [],
   "source": [
    "def merge(left: list, right: list) -> list:\n",
    "    \"\"\"합병\"\"\"\n",
    "    result = [None] * (len(left)+len(right))\n",
    "    i = 0\n",
    "    j = 0\n",
    "    for k in range(len(result)):\n",
    "        if i < len(left) and j < len(right):\n",
    "            if left[i] <= right[j]:\n",
    "                result[k] = left[i]\n",
    "                i += 1\n",
    "            else:\n",
    "                result[k] = right[j]\n",
    "                j += 1\n",
    "        elif i >= len(left):\n",
    "            result[k] = right[j]\n",
    "            j += 1\n",
    "        elif j >= len(right):\n",
    "            result[k] = left[i]\n",
    "            i += 1\n",
    "\n",
    "    return result"
   ]
  },
  {
   "cell_type": "code",
   "execution_count": 5,
   "metadata": {
    "ExecuteTime": {
     "end_time": "2023-11-26T09:49:08.054435Z",
     "start_time": "2023-11-26T09:49:08.050972Z"
    }
   },
   "outputs": [
    {
     "name": "stdout",
     "output_type": "stream",
     "text": [
      "[1, 1, 2, 2, 3, 4, 4, 5, 5, 6, 7, 8, 9]\n"
     ]
    }
   ],
   "source": [
    "def merge_sort(seq: list) -> None:\n",
    "    \"\"\"합병 정렬\"\"\"\n",
    "    if len(seq) <= 1: return \n",
    "\n",
    "    mid = len(seq)//2\n",
    "    left = seq[:mid]\n",
    "    right = seq[mid:]\n",
    "\n",
    "    merge_sort(left)\n",
    "    merge_sort(right)\n",
    "\n",
    "    merged = merge(left, right)\n",
    "    for i in range(len(merged)):\n",
    "        seq[i] = merged[i]    \n",
    "\n",
    "arr = [1,5,2,6,7,2,4,8,9,4,5,3,1]\n",
    "merge_sort(arr)\n",
    "print(arr)"
   ]
  },
  {
   "cell_type": "markdown",
   "metadata": {},
   "source": [
    "# 문제4\n",
    "\n",
    "퀵 정렬 함수를 완성하시오.\n",
    "\n",
    "***결과***\n",
    "```\n",
    "[1, 1, 2, 2, 3, 3, 4, 4, 5, 5, 6, 6, 7, 7]\n",
    "```"
   ]
  },
  {
   "cell_type": "code",
   "execution_count": 6,
   "metadata": {
    "ExecuteTime": {
     "end_time": "2023-11-26T09:50:20.774331Z",
     "start_time": "2023-11-26T09:50:20.768644Z"
    }
   },
   "outputs": [
    {
     "name": "stdout",
     "output_type": "stream",
     "text": [
      "[1, 1, 2, 2, 3, 3, 4, 4, 5, 5, 6, 6, 7, 7]\n"
     ]
    }
   ],
   "source": [
    "def quick_sort(seq: list) -> None:\n",
    "    \"\"\"퀵 정렬\"\"\"\n",
    "    def partition(start: int, end: int) -> int:\n",
    "        \"\"\"피벗의 인덱스 리턴\"\"\"\n",
    "        pivot = start\n",
    "        i = start + 1\n",
    "        j = end\n",
    "        while True:\n",
    "            while i <= end and seq[i] <= seq[pivot]: i+=1\n",
    "            while start+1<=j and seq[j] > seq[pivot]: j-=1\n",
    "            if i>j:\n",
    "                seq[j], seq[pivot] = seq[pivot], seq[j]\n",
    "                return j\n",
    "            seq[i], seq[j] = seq[j], seq[i]\n",
    "\n",
    "    def sort(start: int, end: int) -> None:\n",
    "        if start < end:\n",
    "            pivot = partition(start, end)\n",
    "            sort(start, pivot-1)\n",
    "            sort(pivot+1,end)\n",
    "\n",
    "    sort(0, len(seq)-1) # 정렬 수행\n",
    "\n",
    "arr = [2,1,6,3,4,5,7,2,1,6,3,4,5,7]\n",
    "quick_sort(arr)\n",
    "print(arr)"
   ]
  },
  {
   "cell_type": "markdown",
   "metadata": {},
   "source": [
    "# 제출 후에 파일을 삭제 하세요."
   ]
  }
 ],
 "metadata": {
  "kernelspec": {
   "display_name": "3.10.13",
   "language": "python",
   "name": "python3"
  },
  "language_info": {
   "codemirror_mode": {
    "name": "ipython",
    "version": 3
   },
   "file_extension": ".py",
   "mimetype": "text/x-python",
   "name": "python",
   "nbconvert_exporter": "python",
   "pygments_lexer": "ipython3",
   "version": "3.10.13"
  }
 },
 "nbformat": 4,
 "nbformat_minor": 4
}
