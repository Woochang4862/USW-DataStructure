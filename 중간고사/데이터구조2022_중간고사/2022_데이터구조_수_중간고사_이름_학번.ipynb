{
 "cells": [
  {
   "cell_type": "code",
   "execution_count": 1,
   "metadata": {
    "ExecuteTime": {
     "end_time": "2021-10-28T14:51:38.273140Z",
     "start_time": "2021-10-28T14:51:38.261172Z"
    }
   },
   "outputs": [
    {
     "data": {
      "text/html": [
       "<style>.container { width:95% !important; }</style>"
      ],
      "text/plain": [
       "<IPython.core.display.HTML object>"
      ]
     },
     "metadata": {},
     "output_type": "display_data"
    },
    {
     "data": {
      "text/html": [
       "<style>.input_area pre {font-family: Consolas; font-size: 15pt; line-height: 140%; font-weight: bold}</style>"
      ],
      "text/plain": [
       "<IPython.core.display.HTML object>"
      ]
     },
     "metadata": {},
     "output_type": "display_data"
    },
    {
     "data": {
      "text/html": [
       "<style>.output_area pre {font-family: Consolas; font-size: 15pt; line-height: 140%;}</style>"
      ],
      "text/plain": [
       "<IPython.core.display.HTML object>"
      ]
     },
     "metadata": {},
     "output_type": "display_data"
    }
   ],
   "source": [
    "from IPython.core.display import display, HTML\n",
    "display(HTML(\"<style>.container { width:95% !important; }</style>\"))\n",
    "display(HTML(\"<style>.input_area pre {font-family: Consolas; font-size: 15pt; line-height: 140%; font-weight: bold}</style>\"))\n",
    "display(HTML(\"<style>.output_area pre {font-family: Consolas; font-size: 15pt; line-height: 140%;}</style>\"))\n"
   ]
  },
  {
   "cell_type": "markdown",
   "metadata": {},
   "source": [
    "# << 2022 데이터구조 (수) 중간고사 >>\n",
    "\n",
    "- 주의 사항\n",
    "    1. 시험시간 10:40 ~ 12:00\n",
    "    1. 부분점수는 없습니다.\n",
    "    1. 휴대폰의 전원을 끄세요.\n",
    "    1. 개인 전자기기를 사용할 수 없습니다.\n",
    "    1. closed book\n",
    "        1. 모든 인터넷을 사용할 수 없습니다.\n",
    "        1. 모든 자료를 볼 수 없습니다.\n",
    "    1. 수시로 저장하세요.\n",
    "    1. 셀을 실행시켰을 때, 멈추지 않는다면, 주피터노트북 메뉴에 있는 정지버튼을 누르거나 Kernel 메뉴에서 restart를 누르세요.\n",
    "        - 그래도 동작하지 않는 경우에는 주피터노트북을 다시 시작하세요.\n",
    "- 제출 방법\n",
    "    1. 단 한번만 제출 할 수 있습니다.\n",
    "        1. 다시 제출해야 할 경우 시험 감독에게 문의하세요.\n",
    "    1. `잘못된 파일을 제출했을 경우 기본 점수로 채점됩니다.`\n",
    "    1. 파일 이름에서 '학번'을 자신의 학번으로, '이름'을 자신의 이름으로 고치시오.\n",
    "    1. 캔버스에 주피터노트북 파일(.ipynb)을 제출하세요.\n",
    "        1. 캔버스 사용이 불가능한 경우, 이메일로 아래 주소로 제출 하세요.\n",
    "            - ydhwang@suwon.ac.kr\n",
    "            - 메일제목: `[데이터구조] 홍길동`\n",
    "    1. `제출후 모든 파일을 반드시 삭제하세요.`\n"
   ]
  },
  {
   "cell_type": "markdown",
   "metadata": {},
   "source": [
    "## 아래 두 셀을 실행시키시오."
   ]
  },
  {
   "cell_type": "code",
   "execution_count": 1,
   "metadata": {
    "ExecuteTime": {
     "end_time": "2021-10-28T14:51:38.288102Z",
     "start_time": "2021-10-28T14:51:38.275137Z"
    }
   },
   "outputs": [],
   "source": [
    "# 이 셀을 실행시키세요.\n",
    "from __future__ import annotations"
   ]
  },
  {
   "cell_type": "code",
   "execution_count": 2,
   "metadata": {
    "ExecuteTime": {
     "end_time": "2021-10-28T14:51:38.303062Z",
     "start_time": "2021-10-28T14:51:38.289100Z"
    }
   },
   "outputs": [
    {
     "name": "stdout",
     "output_type": "stream",
     "text": [
      "Time: 14:08:28\n",
      "IP address: 127.0.0.1\n"
     ]
    }
   ],
   "source": [
    "# 이 셀을 실행시키세요.\n",
    "from typing import Any, List, Tuple, Dict\n",
    "from collections import deque\n",
    "from datetime import datetime\n",
    "import socket\n",
    "now = datetime.now()\n",
    "current_time = now.strftime(\"%H:%M:%S\")\n",
    "print(f\"Time: {current_time}\")\n",
    "print(f\"IP address: {socket.gethostbyname(socket.gethostname())}\")\n",
    "class Node:\n",
    "    pass"
   ]
  },
  {
   "cell_type": "markdown",
   "metadata": {
    "ExecuteTime": {
     "end_time": "2019-10-22T07:55:36.236793Z",
     "start_time": "2019-10-22T07:55:36.231780Z"
    }
   },
   "source": [
    "---\n",
    "# 주관식 문제\n",
    "\n",
    "- 문제당 6점"
   ]
  },
  {
   "cell_type": "markdown",
   "metadata": {},
   "source": [
    "---\n",
    "### 문제1\n",
    "\n",
    "데이터를 효율적으로 저장하거나 조직하는 방법을 무엇이라고 하는가?"
   ]
  },
  {
   "cell_type": "code",
   "execution_count": 1,
   "metadata": {
    "ExecuteTime": {
     "end_time": "2021-10-28T14:51:38.318022Z",
     "start_time": "2021-10-28T14:51:38.305057Z"
    }
   },
   "outputs": [
    {
     "name": "stdout",
     "output_type": "stream",
     "text": [
      "\n"
     ]
    }
   ],
   "source": [
    "print(\"데이터구조\")"
   ]
  },
  {
   "cell_type": "markdown",
   "metadata": {},
   "source": [
    "---\n",
    "### 문제2\n",
    "\n",
    "이것은 알고리즘의 성능을 평가하기위해 사용하는 것이다. 이것은 알고리즘이 실행되는 동안에 사용된 기본적인 연산 횟수를 입력 크기의 함수로 나타낸다. 이것을 무엇이라고 하는가?\n"
   ]
  },
  {
   "cell_type": "code",
   "execution_count": 2,
   "metadata": {
    "ExecuteTime": {
     "end_time": "2021-10-28T14:51:38.332981Z",
     "start_time": "2021-10-28T14:51:38.320044Z"
    },
    "scrolled": true
   },
   "outputs": [
    {
     "name": "stdout",
     "output_type": "stream",
     "text": [
      "\n"
     ]
    }
   ],
   "source": [
    "print(\"시간복잡도\")"
   ]
  },
  {
   "cell_type": "markdown",
   "metadata": {},
   "source": [
    "---\n",
    "### 문제3\n",
    "\n",
    "클래스에서 정의된 것을 실제 메모리에 구현 한 것을 무엇이라고 하는가?\n"
   ]
  },
  {
   "cell_type": "code",
   "execution_count": 3,
   "metadata": {
    "ExecuteTime": {
     "end_time": "2021-10-28T14:51:38.347942Z",
     "start_time": "2021-10-28T14:51:38.333979Z"
    },
    "scrolled": false
   },
   "outputs": [
    {
     "name": "stdout",
     "output_type": "stream",
     "text": [
      "\n"
     ]
    }
   ],
   "source": [
    "print(\"인스턴스(객체)\")"
   ]
  },
  {
   "cell_type": "markdown",
   "metadata": {},
   "source": [
    "---\n",
    "### 문제4\n",
    "\n",
    "각 노드가 데이터와 포인터를 가지고 한 줄로 연결되어 있는 방식으로 데이터를 저장하는 자료구조를 무엇이라고 하는가?\n"
   ]
  },
  {
   "cell_type": "code",
   "execution_count": 4,
   "metadata": {
    "ExecuteTime": {
     "end_time": "2021-10-28T14:51:38.362901Z",
     "start_time": "2021-10-28T14:51:38.348938Z"
    }
   },
   "outputs": [
    {
     "name": "stdout",
     "output_type": "stream",
     "text": [
      "\n"
     ]
    }
   ],
   "source": [
    "print(\"연결 리스트\")"
   ]
  },
  {
   "cell_type": "markdown",
   "metadata": {},
   "source": [
    "---\n",
    "### 문제5\n",
    "\n",
    "후입선출을 뜻하는 영어 줄임말을 쓰시오. (알파벳 4글자)\n"
   ]
  },
  {
   "cell_type": "code",
   "execution_count": 5,
   "metadata": {
    "ExecuteTime": {
     "end_time": "2021-10-28T14:55:32.504442Z",
     "start_time": "2021-10-28T14:55:32.491461Z"
    },
    "scrolled": true
   },
   "outputs": [
    {
     "name": "stdout",
     "output_type": "stream",
     "text": [
      "\n"
     ]
    }
   ],
   "source": [
    "print(\"LIFO\")"
   ]
  },
  {
   "cell_type": "markdown",
   "metadata": {},
   "source": [
    "----\n",
    "# O,X 문제\n",
    "1. 맞으면 `O`, 틀리면 `X`를 `print()`를 이용하여 출력하시오.\n",
    "1. 배점: 문제를 맞추면 6점, 비워두면 3점, 틀리면 0점"
   ]
  },
  {
   "cell_type": "markdown",
   "metadata": {},
   "source": [
    "---\n",
    "### 문제1\n",
    "\n",
    "시간복잡도를 빅오표기법으로 나타낼 때에는 최악의 경우에만 사용해야 한다."
   ]
  },
  {
   "cell_type": "code",
   "execution_count": 6,
   "metadata": {
    "ExecuteTime": {
     "end_time": "2021-10-28T14:51:38.392821Z",
     "start_time": "2021-10-28T14:51:38.378859Z"
    },
    "scrolled": true
   },
   "outputs": [
    {
     "name": "stdout",
     "output_type": "stream",
     "text": [
      "\n"
     ]
    }
   ],
   "source": [
    "print(\"X\")"
   ]
  },
  {
   "cell_type": "markdown",
   "metadata": {},
   "source": [
    "---\n",
    "### 문제2\n",
    "\n",
    "<div><img src=\"attachment:image.png\" width=\"30%\"/></div>\n",
    "\n",
    "위와 같이 factorial()함수가 정의되었을 때, 아래 코드는 factorial() 함수가 모두 3번 호출된다.(단, 재귀적 호출도 횟수에 포함)\n",
    "\n",
    "```python\n",
    "factorial(3)\n",
    "```"
   ]
  },
  {
   "cell_type": "code",
   "execution_count": 7,
   "metadata": {
    "ExecuteTime": {
     "end_time": "2021-10-28T14:51:38.407780Z",
     "start_time": "2021-10-28T14:51:38.394816Z"
    }
   },
   "outputs": [
    {
     "name": "stdout",
     "output_type": "stream",
     "text": [
      "\n"
     ]
    }
   ],
   "source": [
    "print(\"O\")"
   ]
  },
  {
   "cell_type": "markdown",
   "metadata": {},
   "source": [
    "---\n",
    "### 문제3\n",
    "\n",
    "다음 함수의 시간복잡도는 O(1) 이다.\n",
    "\n",
    "```python\n",
    "def my_fun(nums: List[int]) -> bool:\n",
    "    n = 100\n",
    "    for i in range(n):\n",
    "        if i == 0:\n",
    "            return True\n",
    "    return False\n",
    "```\n",
    "\n"
   ]
  },
  {
   "cell_type": "code",
   "execution_count": 8,
   "metadata": {
    "ExecuteTime": {
     "end_time": "2021-10-28T14:51:38.422741Z",
     "start_time": "2021-10-28T14:51:38.408810Z"
    }
   },
   "outputs": [
    {
     "name": "stdout",
     "output_type": "stream",
     "text": [
      "\n"
     ]
    }
   ],
   "source": [
    "print(\"O\")"
   ]
  },
  {
   "cell_type": "markdown",
   "metadata": {},
   "source": [
    "---\n",
    "### 문제4\n",
    "\n",
    "스택 자료구조에서 peek 연산은 가장 최근에 삽입된 데이터를 리턴한다."
   ]
  },
  {
   "cell_type": "code",
   "execution_count": 9,
   "metadata": {
    "ExecuteTime": {
     "end_time": "2021-10-28T14:51:38.437701Z",
     "start_time": "2021-10-28T14:51:38.423738Z"
    },
    "scrolled": true
   },
   "outputs": [
    {
     "name": "stdout",
     "output_type": "stream",
     "text": [
      "\n"
     ]
    }
   ],
   "source": [
    "print(\"O\")"
   ]
  },
  {
   "cell_type": "markdown",
   "metadata": {},
   "source": [
    "---\n",
    "### 문제5\n",
    "\n",
    "데크 자료구조는 양방향 모두 삽입/삭제 연산이 O(N) 이다. "
   ]
  },
  {
   "cell_type": "code",
   "execution_count": 10,
   "metadata": {
    "ExecuteTime": {
     "end_time": "2021-10-28T14:56:07.256697Z",
     "start_time": "2021-10-28T14:56:07.246724Z"
    },
    "scrolled": true
   },
   "outputs": [
    {
     "name": "stdout",
     "output_type": "stream",
     "text": [
      "\n"
     ]
    }
   ],
   "source": [
    "print(\"X\")"
   ]
  },
  {
   "cell_type": "markdown",
   "metadata": {},
   "source": [
    "---\n",
    "\n",
    "# 코딩 문제\n",
    "\n",
    "- 문제당 13점\n"
   ]
  },
  {
   "cell_type": "markdown",
   "metadata": {},
   "source": [
    "---\n",
    "### 문제1\n",
    "\n",
    "double_up() 함수를 작성하시오.\n",
    "\n",
    "double_up() 함수는 파라미터 nums에 들어 있는 수를 2배로 증가시켜서 새로운 리스트를 만들고 이것을 리턴한다.\n",
    "\n",
    "***결과***\n",
    "```\n",
    "[2, 6, 10]\n",
    "[8, 6, 4, 2]\n",
    "```"
   ]
  },
  {
   "cell_type": "code",
   "execution_count": 3,
   "metadata": {
    "ExecuteTime": {
     "end_time": "2021-10-28T14:57:02.055291Z",
     "start_time": "2021-10-28T14:57:02.046315Z"
    }
   },
   "outputs": [
    {
     "name": "stdout",
     "output_type": "stream",
     "text": [
      "[2, 6, 10]\n",
      "[8, 6, 4, 2]\n"
     ]
    }
   ],
   "source": [
    "def double_up(nums: List[int]) -> List[int]:\n",
    "    return [2*num for num in nums]\n",
    "\n",
    "## 아래는 수정하지 마시오.\n",
    "print(double_up([1,3,5]))\n",
    "print(double_up([4,3,2,1]))\n"
   ]
  },
  {
   "cell_type": "markdown",
   "metadata": {},
   "source": [
    "---\n",
    "### 문제2\n",
    "\n",
    "MyValue 클래스를 만드시오. \n",
    "\n",
    "MyValue 클래스는 insert 메소드를 이용하여 자연수를 입력으로 받는다.\n",
    "\n",
    "MyValue 클래스의 get_max 메소드는 insert 메소드로 부터 입력 받은 자연수들 중에서 가장 큰 값을 리턴한다.\n",
    "\n",
    "\n",
    "***결과***\n",
    "```\n",
    "5\n",
    "9\n",
    "```"
   ]
  },
  {
   "cell_type": "code",
   "execution_count": 4,
   "metadata": {
    "ExecuteTime": {
     "end_time": "2021-10-28T14:51:38.482580Z",
     "start_time": "2021-10-28T14:51:38.468641Z"
    }
   },
   "outputs": [
    {
     "name": "stdout",
     "output_type": "stream",
     "text": [
      "5\n",
      "9\n"
     ]
    }
   ],
   "source": [
    "class MaxValue:\n",
    "    def __init__(self):\n",
    "        self.values = []\n",
    "    def insert(self,value):\n",
    "        self.values.append(value)\n",
    "    def get_max(self):\n",
    "        return max(self.values)\n",
    "        \n",
    "\n",
    "## 아래는 수정하지 마시오.\n",
    "mv = MaxValue()\n",
    "mv.insert(1)\n",
    "mv.insert(5)\n",
    "mv.insert(2)\n",
    "print(mv.get_max())\n",
    "\n",
    "mv = MaxValue()\n",
    "mv.insert(9)\n",
    "mv.insert(6)\n",
    "mv.insert(1)\n",
    "print(mv.get_max())\n"
   ]
  },
  {
   "cell_type": "markdown",
   "metadata": {},
   "source": [
    "---\n",
    "### 문제3\n",
    "\n",
    "재귀적 방법을 이용하여 nums 원소들을 한 줄에 하나씩 순서대로 출력하는 함수를 작성하시오.\n",
    "\n",
    "- 주의) \n",
    "    - 반드시 재귀적 방법으로 작성\n",
    "    - 반복문 사용 불가\n",
    "\n",
    "***결과***\n",
    "```\n",
    "-----\n",
    "-----\n",
    "1\n",
    "2\n",
    "5\n",
    "-----\n",
    "4\n",
    "5\n",
    "7\n",
    "5\n",
    "```"
   ]
  },
  {
   "cell_type": "code",
   "execution_count": 6,
   "metadata": {
    "ExecuteTime": {
     "end_time": "2021-10-28T14:51:38.497542Z",
     "start_time": "2021-10-28T14:51:38.483579Z"
    },
    "scrolled": true
   },
   "outputs": [
    {
     "name": "stdout",
     "output_type": "stream",
     "text": [
      "-----\n",
      "-----\n",
      "1\n",
      "2\n",
      "5\n",
      "-----\n",
      "4\n",
      "5\n",
      "7\n",
      "5\n"
     ]
    }
   ],
   "source": [
    "def print_v(nums: List[int]) -> None:\n",
    "    if len(nums) == 0:\n",
    "        return\n",
    "    print(nums[0])\n",
    "    print_v(nums[1:])\n",
    "\n",
    "# 아래는 수정하지 마시오.\n",
    "print(\"-----\")\n",
    "print_v([])\n",
    "print(\"-----\")\n",
    "print_v([1,2,5])\n",
    "print(\"-----\")\n",
    "print_v([4,5,7,5])"
   ]
  },
  {
   "cell_type": "markdown",
   "metadata": {},
   "source": [
    "---\n",
    "### 문제4\n",
    "\n",
    "연결리스트 클래스에서 첫 번째 특정 데이터를 다른 값으로 교체하는 replace() 메소드를 작성하시오.\n",
    "\n",
    "이 메소드는 연결리스트를 머리노드 부터 꼬리노드 까지 검색을 하면서 old_data가 발견되면 그 노드의 값을 new_data로 교체한다.\n",
    "\n",
    "단, 연결리스트에 old_data가 여러개 있는 경우 첫번째 데이터만 교체한다.\n",
    "\n",
    "- 파라미터:\n",
    "    - old_data: 교체 될 값\n",
    "    - new_data: 새로운 값\n",
    "    - return: 없음\n",
    "\n",
    "***결과***\n",
    "```\n",
    "4->2->3->2->1\n",
    "4->20->3->2->1\n",
    "4->20->3->200->1\n",
    "4->20->30->200->1\n",
    "```"
   ]
  },
  {
   "cell_type": "code",
   "execution_count": 7,
   "metadata": {
    "ExecuteTime": {
     "end_time": "2021-10-28T14:51:38.512530Z",
     "start_time": "2021-10-28T14:51:38.498539Z"
    },
    "scrolled": false
   },
   "outputs": [
    {
     "name": "stdout",
     "output_type": "stream",
     "text": [
      "4->2->3->2->1\n",
      "4->20->3->2->1\n",
      "4->20->3->200->1\n",
      "4->20->30->200->1\n"
     ]
    }
   ],
   "source": [
    "class Node:\n",
    "    \"\"\"연결 리스트용 노드 클래스\"\"\"\n",
    "\n",
    "    def __init__(self, data: Any = None, next: Node = None):\n",
    "        \"\"\"초기화\"\"\"\n",
    "        self.data = data  # 데이터\n",
    "        self.next = next  # 뒤쪽 포인터\n",
    "\n",
    "\n",
    "class LinkedList:\n",
    "    \"\"\"연결 리스트 클래스\"\"\"\n",
    "\n",
    "    def __init__(self) -> None:\n",
    "        \"\"\"초기화\"\"\"\n",
    "        self.no = 0          # 노드의 개수\n",
    "        self.head = None     # 머리 노드\n",
    "\n",
    "    def __len__(self) -> int:\n",
    "        \"\"\"연결 리스트의 노드 개수를 반환\"\"\"\n",
    "        return self.no\n",
    "\n",
    "    def add_first(self, data: Any) -> None:\n",
    "        \"\"\"맨 앞에 노드를 삽입\"\"\"\n",
    "        ptr = self.head  # 삽입 전의 머리 노드\n",
    "        self.head = Node(data, ptr)\n",
    "        self.no += 1\n",
    "\n",
    "    ## 수정하시오.\n",
    "    def replace(self, old_data: Any, new_data: Any) -> None:\n",
    "        ptr = self.head\n",
    "        while ptr is not None:\n",
    "            if ptr.data == old_data:\n",
    "                ptr.data = new_data\n",
    "                return\n",
    "            ptr = ptr.next\n",
    "    \n",
    "    def print(self) -> None:\n",
    "        \"\"\"모든 노드를 출력\"\"\"\n",
    "        ptr = self.head\n",
    "\n",
    "        while ptr is not None:\n",
    "            print(ptr.data, end='')\n",
    "            if ptr.next is not None:\n",
    "                print('->', end='')\n",
    "            else:\n",
    "                print()\n",
    "            ptr = ptr.next\n",
    "\n",
    "        \n",
    "## 아래는 수정하지 마시오.\n",
    "my_list = LinkedList()\n",
    "my_list.add_first(1)\n",
    "my_list.add_first(2)\n",
    "my_list.add_first(3)\n",
    "my_list.add_first(2)\n",
    "my_list.add_first(4)\n",
    "\n",
    "my_list.print()\n",
    "my_list.replace(2, 20)\n",
    "my_list.print()\n",
    "\n",
    "my_list.replace(2, 200)\n",
    "my_list.print()\n",
    "\n",
    "my_list.replace(3, 30)\n",
    "my_list.print() "
   ]
  },
  {
   "cell_type": "markdown",
   "metadata": {},
   "source": [
    "---\n",
    "### 문제5\n",
    "\n",
    "LinkedListStack 클래스에서 reverse() 메소드를 작성하시오.\n",
    "\n",
    "reverse() 메소드는 스택에 들어 있는 모든 노드의 순서를 뒤집는다.\n",
    "\n",
    "예를 들어 스택이 `Top:1->2->3` 인 경우 reverse() 연산을 하면 모든 노드위 위치가 뒤집어져서 `Top:3->2->1` 이 된다.\n",
    "\n",
    " \n",
    "***결과***\n",
    "```\n",
    "Top:C->B->A\n",
    "Top:A->B->C\n",
    "---\n",
    "Top:5->4->3->2->1\n",
    "Top:1->2->3->4->5\n",
    "```"
   ]
  },
  {
   "cell_type": "code",
   "execution_count": 9,
   "metadata": {
    "ExecuteTime": {
     "end_time": "2021-10-28T14:51:38.527461Z",
     "start_time": "2021-10-28T14:51:38.515493Z"
    }
   },
   "outputs": [
    {
     "name": "stdout",
     "output_type": "stream",
     "text": [
      "Top:C->B->A\n",
      "Top:A->B->C\n",
      "False\n",
      "---\n",
      "Top:5->4->3->2->1\n",
      "Top:1->2->3->4->5\n"
     ]
    }
   ],
   "source": [
    "class Node:\n",
    "    \"\"\"연결 리스트용 노드 클래스\"\"\"\n",
    "    def __init__(self, data: Any = None, next: Node = None):\n",
    "        \"\"\"초기화\"\"\"\n",
    "        self.data = data  # 데이터\n",
    "        self.next = next  # 뒤쪽 포인터\n",
    "\n",
    "\n",
    "class LinkedListStack:\n",
    "    \"\"\"연결리스트를 이용한 스택 클래스\"\"\"\n",
    "\n",
    "    def __init__(self) -> None:\n",
    "        \"\"\"초기화\"\"\"\n",
    "        self.no = 0          # 노드의 개수\n",
    "        self.top = None     # 탑 노드\n",
    "\n",
    "    def __len__(self) -> int:\n",
    "        \"\"\"스택의 크기 반환\"\"\"\n",
    "        return self.no\n",
    "    \n",
    "    def is_empty(self) -> bool:\n",
    "        \"\"\"스택이 비어있는지 확인\"\"\"\n",
    "        return self.top is None\n",
    "\n",
    "    def push(self, data: Any) -> None:\n",
    "        \"\"\"스택에 데이터를 푸시\"\"\"\n",
    "        ptr = self.top  # 푸시 전의 탑 노드\n",
    "        self.top = Node(data, ptr)\n",
    "        self.no += 1\n",
    "            \n",
    "    def pop(self) -> Any:\n",
    "        \"\"\"스택에서 탑에 있는 데이터를 꺼냄(삭제)\"\"\"\n",
    "        if not self.is_empty():  # 스택이 비어 있지 않으면\n",
    "            data = self.top.data\n",
    "            self.top = self.top.next\n",
    "            self.no -= 1\n",
    "            return data\n",
    "        else:\n",
    "            raise IndexError(\"Stack is empty.\")\n",
    "    \n",
    "    def print(self) -> None:\n",
    "        \"\"\"스택의 모든 데이터를 탑에서 부터 출력\"\"\"\n",
    "        ptr = self.top\n",
    "        print(\"Top:\", end='')\n",
    "        while ptr is not None:\n",
    "            print(ptr.data, end='')\n",
    "            if ptr.next is not None:\n",
    "                print('->', end='')\n",
    "            else:\n",
    "                print()\n",
    "            ptr = ptr.next\n",
    "    \n",
    "    ## 수정하시오.\n",
    "    def reverse(self) -> None:\n",
    "        temp = []\n",
    "        while not self.is_empty():\n",
    "            temp.append(self.pop())\n",
    "\n",
    "        for t in temp:\n",
    "            self.push(t)\n",
    "\n",
    "\n",
    "# 아래는 수정하지 마시오.\n",
    "stack = LinkedListStack()\n",
    "stack.push('A')\n",
    "stack.push('B')\n",
    "stack.push('C')\n",
    "stack.print()\n",
    "stack.reverse()\n",
    "stack.print()\n",
    "\n",
    "print(\"---\")\n",
    "stack = LinkedListStack()\n",
    "stack.push(1)\n",
    "stack.push(2)\n",
    "stack.push(3)\n",
    "stack.push(4)\n",
    "stack.push(5)\n",
    "stack.print()\n",
    "stack.reverse()\n",
    "stack.print()\n",
    "\n",
    "\n"
   ]
  },
  {
   "cell_type": "markdown",
   "metadata": {},
   "source": [
    "---\n",
    "### 문제6\n",
    "\n",
    "LinkedListQueue 클래스의 enqueue() 메소드를 작성하시오.\n",
    "\n",
    "***결과***\n",
    "```\n",
    "Front: A->B->C :Rear\n",
    "3\n",
    "Front: 1->2->3->4 :Rear\n",
    "4\n",
    "```"
   ]
  },
  {
   "cell_type": "code",
   "execution_count": 10,
   "metadata": {
    "ExecuteTime": {
     "end_time": "2021-10-28T14:51:38.542421Z",
     "start_time": "2021-10-28T14:51:38.528466Z"
    }
   },
   "outputs": [
    {
     "name": "stdout",
     "output_type": "stream",
     "text": [
      "Front: A->B->C :Rear\n",
      "3\n",
      "Front: 1->2->3->4 :Rear\n",
      "4\n"
     ]
    }
   ],
   "source": [
    "class Node:\n",
    "    \"\"\"연결 리스트용 노드 클래스\"\"\"\n",
    "\n",
    "    def __init__(self, data: Any = None, next: Node = None):\n",
    "        \"\"\"초기화\"\"\"\n",
    "        self.data = data  # 데이터\n",
    "        self.next = next  # 뒤쪽 포인터\n",
    "\n",
    "\n",
    "class LinkedListQueue:\n",
    "    \"\"\"연결리스트를 이용한 큐 클래스\"\"\"\n",
    "\n",
    "    def __init__(self) -> None:\n",
    "        \"\"\"초기화\"\"\"\n",
    "        self.no = 0 # 노드의 개수\n",
    "        self.front = None # 프런트 노드\n",
    "        self.rear = None # 리어 노드     \n",
    "\n",
    "    def __len__(self) -> int:\n",
    "        \"\"\"큐의 크기 반환\"\"\"\n",
    "        return self.no\n",
    "    \n",
    "    def is_empty(self) -> bool:\n",
    "        \"\"\"큐가 비어있는지 확인\"\"\"\n",
    "        return self.front is None\n",
    "\n",
    "    ### 이 메소드를 완성하시오.\n",
    "    def enqueue(self, data: Any) -> None:\n",
    "        \"\"\"큐의 리어에 데이터를 삽입\"\"\"\n",
    "        self.no += 1\n",
    "        if self.front is None:\n",
    "            self.front = Node(data)\n",
    "            self.rear = self.front\n",
    "            return\n",
    "        self.rear.next = Node(data)\n",
    "        self.rear = self.rear.next\n",
    "\n",
    "    def print(self) -> None:\n",
    "        \"\"\"큐의 모든 데이터를 프런트에서부터 출력\"\"\"\n",
    "        ptr = self.front\n",
    "        print(\"Front: \", end='')\n",
    "        while ptr is not None:\n",
    "            print(ptr.data, end='')\n",
    "            if ptr.next is not None:\n",
    "                print('->', end='')\n",
    "            ptr = ptr.next\n",
    "        print(' :Rear')\n",
    "        \n",
    "# 아래는 수정하지 마시오.\n",
    "queue = LinkedListQueue()\n",
    "\n",
    "queue.enqueue('A')\n",
    "queue.enqueue('B')\n",
    "queue.enqueue('C')\n",
    "queue.print()\n",
    "print(len(queue))\n",
    "\n",
    "queue = LinkedListQueue()\n",
    "\n",
    "queue.enqueue(1)\n",
    "queue.enqueue(2)\n",
    "queue.enqueue(3)\n",
    "queue.enqueue(4)\n",
    "queue.print()\n",
    "print(len(queue))\n"
   ]
  },
  {
   "cell_type": "markdown",
   "metadata": {},
   "source": [
    "---\n",
    "### 문제7\n",
    "\n",
    "\n",
    "***요세푸스 문제***\n",
    "\n",
    "```\n",
    "요세푸스 문제는 다음과 같다.\n",
    "\n",
    "1번부터 N번까지 N명의 사람이 원을 이루면서 앉아있고, 양의 정수 K(≤ N)가 주어진다. 이제 순서대로 K번째 사람을 제거한다. 한 사람이 제거되면 남은 사람들로 이루어진 원을 따라 이 과정을 계속해 나간다. 이 과정은 N명의 사람이 모두 제거될 때까지 계속된다. 원에서 사람들이 제거되는 순서를 (N, K)-요세푸스 순열이라고 한다. 예를 들어 (7, 3)-요세푸스 순열은 [3, 6, 2, 7, 5, 1, 4]이다.\n",
    "\n",
    "N과 K가 주어지면 (N, K)-요세푸스 순열을 리턴 하는 프로그램을 작성하시오.\n",
    "```\n",
    "\n",
    "- 주의) 반드시 리스트 형태로 리턴하시오.\n",
    "\n",
    "### 결과\n",
    "```\n",
    "[2, 4, 3, 1]\n",
    "[3, 6, 2, 7, 5, 1, 4]\n",
    "```"
   ]
  },
  {
   "cell_type": "code",
   "execution_count": 11,
   "metadata": {
    "ExecuteTime": {
     "end_time": "2021-10-28T14:51:38.557381Z",
     "start_time": "2021-10-28T14:51:38.543460Z"
    },
    "scrolled": true
   },
   "outputs": [
    {
     "name": "stdout",
     "output_type": "stream",
     "text": [
      "[2, 4, 3, 1]\n",
      "[3, 6, 2, 7, 5, 1, 4]\n"
     ]
    }
   ],
   "source": [
    "from collections import deque\n",
    "\n",
    "def josephus(n: int, k: int) -> List[int]:\n",
    "    q = deque(range(1,n+1))\n",
    "    cnt = 0\n",
    "    res = []\n",
    "    while q:\n",
    "        tmp = q.popleft()\n",
    "        cnt += 1\n",
    "        if cnt == k:\n",
    "            cnt = 0\n",
    "            res.append(tmp)\n",
    "        else:\n",
    "            q.append(tmp)\n",
    "    return res\n",
    "\n",
    "# 아래는 수정하지 마시오.\n",
    "print(josephus(4, 2))\n",
    "print(josephus(7, 3))\n"
   ]
  },
  {
   "cell_type": "markdown",
   "metadata": {},
   "source": [
    "### 수고하셨습니다.\n",
    "제출후 모든 파일을 반드시 삭제하세요."
   ]
  }
 ],
 "metadata": {
  "kernelspec": {
   "display_name": "Python 3",
   "language": "python",
   "name": "python3"
  },
  "language_info": {
   "codemirror_mode": {
    "name": "ipython",
    "version": 3
   },
   "file_extension": ".py",
   "mimetype": "text/x-python",
   "name": "python",
   "nbconvert_exporter": "python",
   "pygments_lexer": "ipython3",
   "version": "3.10.13"
  },
  "toc": {
   "base_numbering": 1,
   "nav_menu": {},
   "number_sections": true,
   "sideBar": true,
   "skip_h1_title": false,
   "title_cell": "Table of Contents",
   "title_sidebar": "Contents",
   "toc_cell": false,
   "toc_position": {},
   "toc_section_display": true,
   "toc_window_display": false
  }
 },
 "nbformat": 4,
 "nbformat_minor": 2
}
