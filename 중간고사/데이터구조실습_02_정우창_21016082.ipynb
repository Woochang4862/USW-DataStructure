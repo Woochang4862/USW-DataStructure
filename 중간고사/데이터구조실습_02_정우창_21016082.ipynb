{
 "cells": [
  {
   "cell_type": "code",
   "execution_count": 15,
   "metadata": {
    "ExecuteTime": {
     "end_time": "2019-09-03T15:10:03.561712Z",
     "start_time": "2019-09-03T15:10:03.552711Z"
    },
    "scrolled": true
   },
   "outputs": [
    {
     "data": {
      "text/html": [
       "<style>.container { width:95% !important; }</style>"
      ],
      "text/plain": [
       "<IPython.core.display.HTML object>"
      ]
     },
     "metadata": {},
     "output_type": "display_data"
    },
    {
     "data": {
      "text/html": [
       "<style>.input_area pre {font-family: Consolas; font-size: 15pt; line-height: 140%; font-weight: bold}</style>"
      ],
      "text/plain": [
       "<IPython.core.display.HTML object>"
      ]
     },
     "metadata": {},
     "output_type": "display_data"
    },
    {
     "data": {
      "text/html": [
       "<style>.output_area pre {font-family: Consolas; font-size: 15pt; line-height: 140%;}</style>"
      ],
      "text/plain": [
       "<IPython.core.display.HTML object>"
      ]
     },
     "metadata": {},
     "output_type": "display_data"
    }
   ],
   "source": [
    "from IPython.core.display import display, HTML\n",
    "display(HTML(\"<style>.container { width:95% !important; }</style>\"))\n",
    "display(HTML(\"<style>.input_area pre {font-family: Consolas; font-size: 15pt; line-height: 140%; font-weight: bold}</style>\"))\n",
    "display(HTML(\"<style>.output_area pre {font-family: Consolas; font-size: 15pt; line-height: 140%;}</style>\"))\n"
   ]
  },
  {
   "cell_type": "markdown",
   "metadata": {},
   "source": [
    "# 파일 이름에서 '학번'을 자신의 학번으로, '이름'을 자신의 이름으로 고치시오."
   ]
  },
  {
   "cell_type": "markdown",
   "metadata": {},
   "source": [
    "# 문제1\n",
    "\n",
    "has_even() 함수는 숫자 리스트를 입력으로 받아, 짝수를 포함하고 있으면 True를 리턴한다.\n",
    "\n",
    "이 함수의 시간복잡도를 빅오 표기법으로 나타내시오.\n"
   ]
  },
  {
   "cell_type": "code",
   "execution_count": 2,
   "metadata": {},
   "outputs": [
    {
     "name": "stdout",
     "output_type": "stream",
     "text": [
      "True\n",
      "False\n",
      "True\n"
     ]
    }
   ],
   "source": [
    "def has_even(nums):\n",
    "    for i in nums:\n",
    "        if i % 2 == 0:\n",
    "            return True\n",
    "\n",
    "    return False\n",
    "\n",
    "print(has_even([1,2,3,4,5]))\n",
    "print(has_even([3,1,9,7,11]))\n",
    "print(has_even([1,3,1,5,6,13]))"
   ]
  },
  {
   "cell_type": "code",
   "execution_count": 1,
   "metadata": {},
   "outputs": [
    {
     "name": "stdout",
     "output_type": "stream",
     "text": [
      "O(N)\n"
     ]
    }
   ],
   "source": [
    "print(\"O(N)\")"
   ]
  },
  {
   "cell_type": "markdown",
   "metadata": {},
   "source": [
    "# 문제2\n",
    "\n",
    "아래함수는 최대값이 들어 있는 인덱스를 리턴하는 함수이다.\n",
    "\n",
    "이 함수의 시간복잡도를 빅오표기법으로 나타내시오."
   ]
  },
  {
   "cell_type": "code",
   "execution_count": 4,
   "metadata": {
    "ExecuteTime": {
     "end_time": "2019-09-03T15:17:20.681860Z",
     "start_time": "2019-09-03T15:17:20.678869Z"
    }
   },
   "outputs": [
    {
     "name": "stdout",
     "output_type": "stream",
     "text": [
      "4\n"
     ]
    }
   ],
   "source": [
    "def which_max(nums):\n",
    "    max_index = 0 \n",
    "    max_value = nums[0] \n",
    "    \n",
    "    for i in range(1, len(nums)):\n",
    "        if max_value < nums[i]:\n",
    "            max_value = nums[i]\n",
    "            max_index = i\n",
    "    return max_index\n",
    "\n",
    "print(which_max([4,3,2,1,5,2]))"
   ]
  },
  {
   "cell_type": "code",
   "execution_count": 3,
   "metadata": {},
   "outputs": [
    {
     "name": "stdout",
     "output_type": "stream",
     "text": [
      "O(N)\n"
     ]
    }
   ],
   "source": [
    "print(\"O(N)\")"
   ]
  },
  {
   "cell_type": "markdown",
   "metadata": {},
   "source": [
    "# 문제3\n",
    "\n",
    "print_head() 함수는 input_list의 원소들 중에서 앞에서부터 최대 5개만 출력하는 함수이다. \n",
    "\n",
    "이 함수의 시간복잡도를 빅오표기법으로 나타내시오.\n"
   ]
  },
  {
   "cell_type": "code",
   "execution_count": 3,
   "metadata": {
    "ExecuteTime": {
     "end_time": "2021-09-07T06:01:24.443164Z",
     "start_time": "2021-09-07T06:01:24.430198Z"
    }
   },
   "outputs": [
    {
     "name": "stdout",
     "output_type": "stream",
     "text": [
      "1\n",
      "2\n",
      "3\n",
      "\n",
      "1\n",
      "2\n",
      "3\n",
      "1\n",
      "2\n"
     ]
    }
   ],
   "source": [
    "def print_head(input_list):\n",
    "    count = 0\n",
    "    for i in input_list:\n",
    "        if count >= 5:\n",
    "            break\n",
    "        print(i)\n",
    "        count = count +1\n",
    "\n",
    "# 아래는 수정하지 마시오.\n",
    "print_head([1,2,3])\n",
    "print()\n",
    "print_head([1,2,3,1,2,3])"
   ]
  },
  {
   "cell_type": "code",
   "execution_count": 5,
   "metadata": {},
   "outputs": [
    {
     "name": "stdout",
     "output_type": "stream",
     "text": [
      "O(1)\n"
     ]
    }
   ],
   "source": [
    "print(\"O(1)\")"
   ]
  },
  {
   "cell_type": "markdown",
   "metadata": {},
   "source": [
    "# 문제4\n",
    "\n",
    "Student class를 완성하시오.\n",
    "\n",
    "* 생성자에서 전공(major)을 속성으로 저장하시오.\n",
    "\n",
    "* 이름, 학번, 전공을 리턴하는 메소드를 각각 작성하시오.\n",
    "\n",
    "* 이름, 학번, 전공을 아래와 같이 출력하는 print() 메소드를 작성하시오.\n",
    "\n",
    "\n",
    "***결과***\n",
    "```\n",
    "Lee\n",
    "Kim\n",
    "\n",
    "Name:Lee, ID:101, Major:Data Science\n",
    "Name:Kim, ID:102, Major:Mathmatics\n",
    "```"
   ]
  },
  {
   "cell_type": "code",
   "execution_count": 20,
   "metadata": {
    "ExecuteTime": {
     "end_time": "2021-09-07T06:02:03.424884Z",
     "start_time": "2021-09-07T06:02:03.420895Z"
    }
   },
   "outputs": [
    {
     "name": "stdout",
     "output_type": "stream",
     "text": [
      "Lee\n",
      "Kim\n",
      "\n",
      "Name:Lee, ID:101, Major:Data Science\n",
      "Name:Kim, ID:102, Major:Mathmatics\n"
     ]
    }
   ],
   "source": [
    "class Student:       \n",
    "    def __init__(self, name, id, major): \n",
    "        self.name = name\n",
    "        self.id = id\n",
    "        self.major = major\n",
    "    \n",
    "    def get_name(self):\n",
    "        return self.name\n",
    "    \n",
    "    def get_id(self):\n",
    "        return self.id\n",
    "    \n",
    "    def get_major(self):\n",
    "        return self.major\n",
    "    \n",
    "    def print(self):\n",
    "        print(f'Name:{self.name}, ID:{self.id}, Major:{self.major}')\n",
    "\n",
    "## 아래는 수정하지 마시오.\n",
    "s1 = Student('Lee', 101, \"Data Science\")\n",
    "s2 = Student('Kim', 102, \"Mathmatics\")\n",
    "\n",
    "print(s1.name)\n",
    "print(s2.name)\n",
    "print()\n",
    "\n",
    "s1.print()\n",
    "s2.print()\n"
   ]
  },
  {
   "cell_type": "markdown",
   "metadata": {},
   "source": [
    "# 문제5\n",
    "\n",
    "Dice 클래스를 이용하여 주사위를 3개 만들고,\n",
    "\n",
    "세 주사위를 굴린 다음에, 결과를 출력하시오.\n",
    "\n",
    "주의) 결과는 매번 달라진다\n",
    "\n",
    "***결과***\n",
    "```\n",
    "5 3 6\n",
    "```"
   ]
  },
  {
   "cell_type": "code",
   "execution_count": 17,
   "metadata": {
    "ExecuteTime": {
     "end_time": "2021-09-07T06:02:00.994377Z",
     "start_time": "2021-09-07T06:02:00.981371Z"
    },
    "scrolled": true
   },
   "outputs": [
    {
     "name": "stdout",
     "output_type": "stream",
     "text": [
      "4\n",
      "1\n",
      "6\n"
     ]
    }
   ],
   "source": [
    "import random\n",
    "\n",
    "class Dice:\n",
    "    def __init__(self):\n",
    "        self.face = 0\n",
    "    \n",
    "    def get_face(self): # 주사위의 숫자를 리턴한다.\n",
    "        return self.face\n",
    "    \n",
    "    def roll(self):\n",
    "        # 1~6 사이의 랜덤한 정수값으로 face 속성을 갱신한다.\n",
    "        self.face =  random.randint(1,6) \n",
    "\n",
    "# 아래를 수정하시오.\n",
    "N = 3\n",
    "dices = [Dice() for _ in range(N)]\n",
    "for i in range(N):\n",
    "    dices[i].roll()\n",
    "    print(dices[i].get_face())"
   ]
  },
  {
   "cell_type": "markdown",
   "metadata": {},
   "source": [
    "# 문제6\n",
    "\n",
    "재귀(recursion)를 이용하여 1부터 n까지의 자연수를 한줄에 하나씩 출력하는 함수를 작성하시오.\n",
    "\n",
    "주의) 반드시 재귀를 이용하고 반복문(while, for 등등)을 사용하지 않는다.\n",
    "\n",
    "***결과***\n",
    "```\n",
    "1\n",
    "2\n",
    "3\n",
    "4\n",
    "==========\n",
    "1\n",
    "2\n",
    "3\n",
    "4\n",
    "5\n",
    "```"
   ]
  },
  {
   "cell_type": "code",
   "execution_count": 10,
   "metadata": {
    "ExecuteTime": {
     "end_time": "2021-09-07T06:01:48.521393Z",
     "start_time": "2021-09-07T06:01:48.509426Z"
    },
    "scrolled": true
   },
   "outputs": [
    {
     "name": "stdout",
     "output_type": "stream",
     "text": [
      "1\n",
      "2\n",
      "3\n",
      "4\n",
      "==========\n",
      "1\n",
      "2\n",
      "3\n",
      "4\n",
      "5\n"
     ]
    }
   ],
   "source": [
    "def count_up(n):\n",
    "    if n == 0:\n",
    "        return\n",
    "    count_up(n-1)\n",
    "    print(n)\n",
    "\n",
    "## 아래는 수정하지 마시오.\n",
    "count_up(4)\n",
    "print(\"==========\")\n",
    "count_up(5)"
   ]
  },
  {
   "cell_type": "markdown",
   "metadata": {},
   "source": [
    "# 문제7\n",
    "\n",
    "nums 는 숫자들이 들어 있는 리스트이다.\n",
    "\n",
    "nums에 들어 있는 모든 원소들의 합을 리턴하는 재귀함수를 작성하시오.\n",
    "\n",
    "***결과***\n",
    "```\n",
    "6\n",
    "8\n",
    "```"
   ]
  },
  {
   "cell_type": "code",
   "execution_count": 11,
   "metadata": {},
   "outputs": [
    {
     "name": "stdout",
     "output_type": "stream",
     "text": [
      "6\n",
      "8\n"
     ]
    }
   ],
   "source": [
    "def recur_sum(nums):\n",
    "    if len(nums) == 1:\n",
    "        return nums[0]\n",
    "    return nums[0] + recur_sum(nums[1:])\n",
    "\n",
    "# 아래는 수정하지 마시오.\n",
    "print(recur_sum([1,2,3]))\n",
    "print(recur_sum([2,1,2,3]))\n"
   ]
  },
  {
   "cell_type": "markdown",
   "metadata": {},
   "source": [
    "# 문제8\n",
    "\n",
    "피보나치 수를 리턴하는 함수를 작성하시오.\n",
    "fibo(n) 함수는 n번째 피보나치 수를 리턴한다.\n",
    "\n",
    "아래는 피보나치 수열의 점화식이다.\n",
    "\n",
    "> $F_{0}=0$<br>\n",
    "$F_{1}=1$<br>\n",
    "$F_{n}=F_{n-2}+F_{n-1}$\n",
    "\n",
    "\n",
    "피보나치 수 예시\n",
    "```\n",
    "fibo(0) = 0 # 0번째 피보나치 수\n",
    "fibo(1) = 1 # 1번째 피보나치 수\n",
    "fibo(2) = 1 # 2번째 피보나치 수\n",
    "fibo(3) = 2 # 3번째 피보나치 수\n",
    "fibo(4) = 3 # 4번째 피보나치 수\n",
    "fibo(5) = 5 # 5번째 피보나치 수\n",
    "...\n",
    "```\n",
    "\n",
    "***결과***\n",
    "```\n",
    "0\n",
    "1\n",
    "1\n",
    "2\n",
    "3\n",
    "5\n",
    "8\n",
    "13\n",
    "21\n",
    "34\n",
    "55\n",
    "```"
   ]
  },
  {
   "cell_type": "code",
   "execution_count": 12,
   "metadata": {
    "scrolled": true
   },
   "outputs": [
    {
     "name": "stdout",
     "output_type": "stream",
     "text": [
      "0\n",
      "1\n",
      "1\n",
      "2\n",
      "3\n",
      "5\n",
      "8\n",
      "13\n",
      "21\n",
      "34\n",
      "55\n"
     ]
    }
   ],
   "source": [
    "def fibo(n):\n",
    "    if n == 0:\n",
    "        return 0\n",
    "    if n == 1:\n",
    "        return 1\n",
    "    return fibo(n-1) + fibo(n-2)\n",
    "\n",
    "# 아래는 수정하지 마시오.\n",
    "for i in range(0, 11):\n",
    "    print(fibo(i))"
   ]
  },
  {
   "cell_type": "markdown",
   "metadata": {},
   "source": [
    "# 문제9\n",
    "\n",
    "입력으로 받은 문자열을 뒤집어서 리턴하는 재귀함수를 작성하시오.\n",
    "\n",
    "```\n",
    "cba\n",
    "654321\n",
    "```"
   ]
  },
  {
   "cell_type": "code",
   "execution_count": 14,
   "metadata": {},
   "outputs": [
    {
     "name": "stdout",
     "output_type": "stream",
     "text": [
      "cba\n",
      "654321\n"
     ]
    }
   ],
   "source": [
    "def reverse_str(x): # x 는 문자열이다.\n",
    "    if len(x) == 1:\n",
    "        return x\n",
    "    return reverse_str(x[1:]) + x[0]\n",
    "\n",
    "print(reverse_str(\"abc\"))\n",
    "print(reverse_str(\"123456\"))"
   ]
  }
 ],
 "metadata": {
  "kernelspec": {
   "display_name": "Python 3",
   "language": "python",
   "name": "python3"
  },
  "language_info": {
   "codemirror_mode": {
    "name": "ipython",
    "version": 3
   },
   "file_extension": ".py",
   "mimetype": "text/x-python",
   "name": "python",
   "nbconvert_exporter": "python",
   "pygments_lexer": "ipython3",
   "version": "3.7.1"
  }
 },
 "nbformat": 4,
 "nbformat_minor": 2
}
