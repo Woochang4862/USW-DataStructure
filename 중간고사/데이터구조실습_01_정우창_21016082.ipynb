{
 "cells": [
  {
   "cell_type": "markdown",
   "metadata": {},
   "source": [
    "# 파일 이름에서 '학번'을 자신의 학번으로, '이름'을 자신의 이름으로 고치시오."
   ]
  },
  {
   "cell_type": "markdown",
   "metadata": {},
   "source": [
    "# 문제1\n",
    "변수 a에 1을 대입하고, 변수 b에 2을 대입한 후, 변수 c 에 a와 b를 더한 값을 대입하시오.\n",
    "변수 c의 값을 출력하시오.\n",
    "\n",
    "***결과***\n",
    "```\n",
    "3\n",
    "```"
   ]
  },
  {
   "cell_type": "code",
   "execution_count": 15,
   "metadata": {},
   "outputs": [
    {
     "name": "stdout",
     "output_type": "stream",
     "text": [
      "3\n"
     ]
    }
   ],
   "source": [
    "#O(1)\n",
    "a, b = 1, 2\n",
    "c = a + b\n",
    "print(c)"
   ]
  },
  {
   "cell_type": "markdown",
   "metadata": {},
   "source": [
    "# 문제2\n",
    "1부터 10까지의 수를 화면에 한 줄씩 출력하시오.\n",
    "\n",
    "***결과***\n",
    "```\n",
    "1\n",
    "2\n",
    "3\n",
    "4\n",
    "5\n",
    "6\n",
    "7\n",
    "8\n",
    "9\n",
    "10\n",
    "```"
   ]
  },
  {
   "cell_type": "code",
   "execution_count": 3,
   "metadata": {
    "ExecuteTime": {
     "end_time": "2019-09-03T15:17:20.681860Z",
     "start_time": "2019-09-03T15:17:20.678869Z"
    }
   },
   "outputs": [
    {
     "name": "stdout",
     "output_type": "stream",
     "text": [
      "1\n",
      "2\n",
      "3\n",
      "4\n",
      "5\n",
      "6\n",
      "7\n",
      "8\n",
      "9\n",
      "10\n"
     ]
    }
   ],
   "source": [
    "# O(1)\n",
    "print('\\n'.join([str(i) for i in range(1,11)]))"
   ]
  },
  {
   "cell_type": "markdown",
   "metadata": {},
   "source": [
    "# 문제3\n",
    "숫자 두개를 인수로 받아서 합을 리턴하는 함수를 구현하시오.\n",
    "\n",
    "***결과***\n",
    "```\n",
    "7\n",
    "3\n",
    "```"
   ]
  },
  {
   "cell_type": "code",
   "execution_count": 4,
   "metadata": {
    "ExecuteTime": {
     "end_time": "2021-09-07T06:01:24.443164Z",
     "start_time": "2021-09-07T06:01:24.430198Z"
    }
   },
   "outputs": [
    {
     "name": "stdout",
     "output_type": "stream",
     "text": [
      "7\n",
      "3\n"
     ]
    }
   ],
   "source": [
    "#O(1)\n",
    "my_fun1 = lambda num1, num2 : num1 + num2\n",
    "## 아래는 수정하지 마시오.\n",
    "print(my_fun1(3, 4))\n",
    "print(my_fun1(1, 2))"
   ]
  },
  {
   "cell_type": "markdown",
   "metadata": {},
   "source": [
    "# 문제4\n",
    "숫자 두개를 인수로 받아서 큰 수를 리턴하는 함수를 구현하시오.\n",
    "\n",
    "***결과***\n",
    "```\n",
    "4\n",
    "2\n",
    "```"
   ]
  },
  {
   "cell_type": "code",
   "execution_count": 5,
   "metadata": {
    "ExecuteTime": {
     "end_time": "2021-09-07T06:02:03.424884Z",
     "start_time": "2021-09-07T06:02:03.420895Z"
    }
   },
   "outputs": [
    {
     "name": "stdout",
     "output_type": "stream",
     "text": [
      "4\n",
      "2\n"
     ]
    }
   ],
   "source": [
    "#O(1)\n",
    "my_fun2 = lambda num1, num2 : max(num1, num2)\n",
    "## 아래는 수정하지 마시오.\n",
    "print(my_fun2(4, 3))\n",
    "print(my_fun2(1, 2))"
   ]
  },
  {
   "cell_type": "markdown",
   "metadata": {},
   "source": [
    "# 문제5\n",
    "\n",
    "구구단 중에서 입력으로 받은 단을 다음과 같이 출력하는 함수를 만드시오..\n",
    "\n",
    "***결과***\n",
    "```\n",
    "3단\n",
    "3 * 1 = 3\n",
    "3 * 2 = 6\n",
    "3 * 3 = 9\n",
    "3 * 4 = 12\n",
    "3 * 5 = 15\n",
    "3 * 6 = 18\n",
    "3 * 7 = 21\n",
    "3 * 8 = 24\n",
    "3 * 9 = 27\n",
    "\n",
    "5단\n",
    "5 * 1 = 5\n",
    "5 * 2 = 10\n",
    "5 * 3 = 15\n",
    "5 * 4 = 20\n",
    "5 * 5 = 25\n",
    "5 * 6 = 30\n",
    "5 * 7 = 35\n",
    "5 * 8 = 40\n",
    "5 * 9 = 45\n",
    "```"
   ]
  },
  {
   "cell_type": "code",
   "execution_count": 8,
   "metadata": {
    "ExecuteTime": {
     "end_time": "2021-09-07T06:02:00.994377Z",
     "start_time": "2021-09-07T06:02:00.981371Z"
    },
    "scrolled": true
   },
   "outputs": [
    {
     "name": "stdout",
     "output_type": "stream",
     "text": [
      "3단\n",
      "3 * 1 = 3\n",
      "3 * 2 = 6\n",
      "3 * 3 = 9\n",
      "3 * 4 = 12\n",
      "3 * 5 = 15\n",
      "3 * 6 = 18\n",
      "3 * 7 = 21\n",
      "3 * 8 = 24\n",
      "3 * 9 = 27\n",
      "\n",
      "5단\n",
      "5 * 1 = 5\n",
      "5 * 2 = 10\n",
      "5 * 3 = 15\n",
      "5 * 4 = 20\n",
      "5 * 5 = 25\n",
      "5 * 6 = 30\n",
      "5 * 7 = 35\n",
      "5 * 8 = 40\n",
      "5 * 9 = 45\n",
      "\n"
     ]
    }
   ],
   "source": [
    "#O(1)\n",
    "def my_fun3(n):\n",
    "    print(f'{n}단')\n",
    "    for i in range(1,10):\n",
    "        print(f'{n} * {i} = {n*i}')\n",
    "    print()\n",
    "## 아래는 수정하지 마시오.\n",
    "my_fun3(3)\n",
    "my_fun3(5)\n",
    "    "
   ]
  },
  {
   "cell_type": "markdown",
   "metadata": {},
   "source": [
    "# 문제6\n",
    "\n",
    "1부터 n까지의 자연수 중에서 짝수들만 리스트 형태로 리턴하는 함수를 만드시오.\n",
    "\n",
    "***결과***\n",
    "```\n",
    "[2, 4, 6, 8, 10, 12, 14, 16, 18, 20]\n",
    "[2, 4, 6, 8, 10, 12, 14]\n",
    "```"
   ]
  },
  {
   "cell_type": "code",
   "execution_count": 9,
   "metadata": {
    "ExecuteTime": {
     "end_time": "2021-09-07T06:01:48.521393Z",
     "start_time": "2021-09-07T06:01:48.509426Z"
    },
    "scrolled": true
   },
   "outputs": [
    {
     "name": "stdout",
     "output_type": "stream",
     "text": [
      "[2, 4, 6, 8, 10, 12, 14, 16, 18, 20]\n",
      "[2, 4, 6, 8, 10, 12, 14]\n"
     ]
    }
   ],
   "source": [
    "#O(N)\n",
    "def my_fun4(n):\n",
    "    return [ i for i in range(2,n+1,2) ]\n",
    "\n",
    "## 아래는 수정하지 마시오.\n",
    "print(my_fun4(20))\n",
    "print(my_fun4(15))"
   ]
  },
  {
   "cell_type": "markdown",
   "metadata": {},
   "source": [
    "# 문제7\n",
    "\n",
    "```\n",
    "정수 배열 arr와 2차원 정수 배열 queries이 주어집니다. queries의 원소는 각각 하나의 query를 나타내며, [i, j] 꼴입니다.\n",
    "\n",
    "각 query마다 순서대로 arr[i]의 값과 arr[j]의 값을 서로 바꿉니다.\n",
    "\n",
    "위 규칙에 따라 queries를 처리한 이후의 arr를 return 하는 solution 함수를 완성해 주세요.\n",
    "\n",
    "제한사항\n",
    "1 ≤ arr의 길이 ≤ 1,000\n",
    "0 ≤ arr의 원소 ≤ 1,000,000\n",
    "1 ≤ queries의 길이 ≤ 1,000\n",
    "0 ≤ i < j < arr의 길이\n",
    "\n",
    "입출력 예\n",
    "arr: [0, 1, 2, 3, 4]\n",
    "queries: [[0, 3],[1, 2],[1, 4]]\n",
    "result: [3, 4, 1, 0, 2]\n",
    "\n",
    "```\n",
    "\n",
    "### 결과\n",
    "```\n",
    "[3, 4, 1, 0, 2]\n",
    "```"
   ]
  },
  {
   "cell_type": "code",
   "execution_count": 11,
   "metadata": {},
   "outputs": [
    {
     "name": "stdout",
     "output_type": "stream",
     "text": [
      "[3, 4, 1, 0, 2]\n"
     ]
    }
   ],
   "source": [
    "#O(N)\n",
    "def solution(arr, queries):\n",
    "    for i,j in queries:\n",
    "        tmp, arr[j] = arr[j], arr[i]\n",
    "        arr[i] = tmp\n",
    "    return arr\n",
    "# 아래는 수정하지 마시오.\n",
    "print(solution([0, 1, 2, 3, 4], [[0, 3],[1, 2],[1, 4]]))"
   ]
  }
 ],
 "metadata": {
  "kernelspec": {
   "display_name": "Python 3",
   "language": "python",
   "name": "python3"
  },
  "language_info": {
   "codemirror_mode": {
    "name": "ipython",
    "version": 3
   },
   "file_extension": ".py",
   "mimetype": "text/x-python",
   "name": "python",
   "nbconvert_exporter": "python",
   "pygments_lexer": "ipython3",
   "version": "3.7.1"
  }
 },
 "nbformat": 4,
 "nbformat_minor": 4
}
