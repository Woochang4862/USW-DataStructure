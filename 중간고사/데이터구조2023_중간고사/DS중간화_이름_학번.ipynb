{
 "cells": [
  {
   "cell_type": "code",
   "execution_count": null,
   "metadata": {
    "ExecuteTime": {
     "end_time": "2019-10-22T17:32:30.287581Z",
     "start_time": "2019-10-22T17:32:30.281598Z"
    }
   },
   "outputs": [],
   "source": [
    "from IPython.display import display, HTML, Markdown\n",
    "display(HTML(\"<style>.container { width:100% !important; }</style>\"))\n",
    "display(HTML(\"\"\"<style>\n",
    "div.CodeMirror, div.CodeMirror pre, div.CodeMirror-code,\n",
    "div.output_area pre, div.output_wrapper pre,\n",
    ".text_cell_render, .text_cell_render *\n",
    "{ font-family: Consolas; font-size: 15pt; line-height: 140%;}\n",
    "</style>\"\"\"))"
   ]
  },
  {
   "cell_type": "markdown",
   "metadata": {},
   "source": [
    "# << 2023 데이터구조 (화) 중간고사 >>\n",
    "\n",
    "\n",
    "- 주의 사항\n",
    "    1. 시험시간 11:40 ~ 13:00\n",
    "    1. 부분점수는 없습니다.\n",
    "    1. 휴대폰의 전원을 끄세요.\n",
    "    1. 개인 전자기기를 사용할 수 없습니다.\n",
    "    1. 이 시험은 closed book 입니다.\n",
    "        1. 모든 인터넷을 사용할 수 없습니다.\n",
    "        1. 모든 자료를 볼 수 없습니다.\n",
    "    1. 수시로 저장하세요.\n",
    "    1. 셀을 실행시켰을 때, 멈추지 않는다면, 주피터노트북 메뉴에 있는 정지버튼을 누르거나 Kernel 메뉴에서 restart를 누르세요.\n",
    "        - 그래도 동작하지 않는 경우에는 주피터노트북을 다시 시작하세요.\n",
    "- 제출 방법\n",
    "    1. 단 한번만 제출 할 수 있습니다.\n",
    "        1. 다시 제출해야 할 경우 시험 감독에게 문의하세요.\n",
    "    1. `잘못된 파일을 제출했을 경우 기본 점수로 채점됩니다.`\n",
    "    1. 파일 이름에서 '학번'을 자신의 학번으로, '이름'을 자신의 이름으로 고치시오.\n",
    "    1. 캔버스에 주피터노트북 파일(.ipynb)을 제출하세요.\n",
    "        1. 캔버스 사용이 불가능한 경우, 이메일로 아래 주소로 제출 하세요.\n",
    "            - ydhwang@suwon.ac.kr\n",
    "            - 메일제목: `[데이터구조] 홍길동`\n",
    "    1. `제출후 모든 파일을 반드시 삭제하세요.`\n"
   ]
  },
  {
   "cell_type": "markdown",
   "metadata": {},
   "source": [
    "## 아래 셀을 실행시키시오."
   ]
  },
  {
   "cell_type": "code",
   "execution_count": 2,
   "metadata": {
    "ExecuteTime": {
     "end_time": "2022-10-22T12:46:08.908614Z",
     "start_time": "2022-10-22T12:46:08.887834Z"
    }
   },
   "outputs": [
    {
     "name": "stdout",
     "output_type": "stream",
     "text": [
      "Time: 21:35:12\n",
      "IP address: 127.0.0.1\n"
     ]
    }
   ],
   "source": [
    "# 이 셀을 실행시키세요.\n",
    "from __future__ import annotations\n",
    "from typing import Any\n",
    "from collections import deque\n",
    "from datetime import datetime\n",
    "import socket\n",
    "now = datetime.now()\n",
    "current_time = now.strftime(\"%H:%M:%S\")\n",
    "print(f\"Time: {current_time}\")\n",
    "print(f\"IP address: {socket.gethostbyname(socket.gethostname())}\")\n",
    "class Node:\n",
    "    pass"
   ]
  },
  {
   "cell_type": "markdown",
   "metadata": {
    "ExecuteTime": {
     "end_time": "2019-10-22T07:55:36.236793Z",
     "start_time": "2019-10-22T07:55:36.231780Z"
    }
   },
   "source": [
    "---\n",
    "# 주관식 문제\n",
    "\n",
    "- 문제당 6점"
   ]
  },
  {
   "cell_type": "markdown",
   "metadata": {},
   "source": [
    "---\n",
    "### 문제1\n",
    "\n",
    "이것은 시간복잡도를 근사치로 표현한 것으로, 이것의 종류로는 빅오표기법, 빅오메가표기법, 세타표기법 등이 있다. 이런 표기법을 무엇이라고 하는가?"
   ]
  },
  {
   "cell_type": "code",
   "execution_count": null,
   "metadata": {
    "ExecuteTime": {
     "end_time": "2022-10-23T11:14:15.493669Z",
     "start_time": "2022-10-23T11:14:15.488682Z"
    }
   },
   "outputs": [],
   "source": [
    "print(\"점근표기법\")"
   ]
  },
  {
   "cell_type": "markdown",
   "metadata": {},
   "source": [
    "---\n",
    "### 문제2\n",
    "\n",
    "어떤 함수의 내부에서 자기 자신을 호출하는 함수를 무엇이라고 하는가?\n"
   ]
  },
  {
   "cell_type": "code",
   "execution_count": null,
   "metadata": {
    "ExecuteTime": {
     "end_time": "2022-10-23T11:14:06.271791Z",
     "start_time": "2022-10-23T11:14:06.254809Z"
    },
    "scrolled": true
   },
   "outputs": [],
   "source": [
    "print(\"재귀함수\")"
   ]
  },
  {
   "cell_type": "markdown",
   "metadata": {},
   "source": [
    "---\n",
    "### 문제3\n",
    "\n",
    "아래 알고리즘의 수행시간을 빅오표기법으로 표현하시오.\n",
    "\n",
    "my_list 는 N개의 숫자가 들어 있는 리스트이다.\n",
    "\n",
    "```python\n",
    "def fun(my_list):\n",
    "    r = 0\n",
    "    for i in my_list:\n",
    "        for j in range(i):\n",
    "            r = r + i\n",
    "            if r == j:\n",
    "                continue\n",
    "```"
   ]
  },
  {
   "cell_type": "code",
   "execution_count": null,
   "metadata": {
    "ExecuteTime": {
     "end_time": "2022-10-23T11:39:13.225750Z",
     "start_time": "2022-10-23T11:39:13.218739Z"
    }
   },
   "outputs": [],
   "source": [
    "print(\"O(K*N)\")"
   ]
  },
  {
   "cell_type": "markdown",
   "metadata": {},
   "source": [
    "---\n",
    "### 문제4\n",
    "\n",
    "큐 자료구조의 특징을 나타내는 영어단어(4글자)를 쓰시오.\n"
   ]
  },
  {
   "cell_type": "code",
   "execution_count": null,
   "metadata": {
    "ExecuteTime": {
     "end_time": "2022-10-23T13:21:07.667604Z",
     "start_time": "2022-10-23T13:21:07.655606Z"
    }
   },
   "outputs": [],
   "source": [
    "print(\"FIFO\")"
   ]
  },
  {
   "cell_type": "markdown",
   "metadata": {},
   "source": [
    "---\n",
    "### 문제5\n",
    "\n",
    "이 자료구조는 노드들이 2중으로 연결되어 있는 선형구조로 되어 있다.\n",
    "\n",
    "이 자료구조는 양방향 모두 삽입/삭제가 O(1)이다.\n",
    "\n",
    "이 자료구조의 이름은 무엇인가?"
   ]
  },
  {
   "cell_type": "code",
   "execution_count": null,
   "metadata": {
    "ExecuteTime": {
     "end_time": "2022-10-23T13:23:59.535681Z",
     "start_time": "2022-10-23T13:23:59.527820Z"
    },
    "scrolled": true
   },
   "outputs": [],
   "source": [
    "print(\"deque\")"
   ]
  },
  {
   "cell_type": "markdown",
   "metadata": {},
   "source": [
    "----\n",
    "# O,X 문제\n",
    "1. 맞으면 `O`, 틀리면 `X`를 `print()`를 이용하여 출력하시오.\n",
    "1. 배점: 문제를 맞추면 6점, 비워두면 3점, 틀리면 0점"
   ]
  },
  {
   "cell_type": "markdown",
   "metadata": {},
   "source": [
    "---\n",
    "### 문제1\n",
    "\n",
    "아래는 식은 참이다.\n",
    "\n",
    "$3logN + 0.5N + 20 = O(N)$"
   ]
  },
  {
   "cell_type": "code",
   "execution_count": null,
   "metadata": {
    "ExecuteTime": {
     "end_time": "2022-10-23T11:11:19.811986Z",
     "start_time": "2022-10-23T11:11:19.798023Z"
    },
    "scrolled": true
   },
   "outputs": [],
   "source": [
    "print(\"O\")"
   ]
  },
  {
   "cell_type": "markdown",
   "metadata": {},
   "source": [
    "---\n",
    "### 문제2\n",
    "\n",
    "피보나치 수를 재귀적으로 계산하는 알고리즘의 수행시간은 `지수시간` 이다."
   ]
  },
  {
   "cell_type": "code",
   "execution_count": null,
   "metadata": {
    "ExecuteTime": {
     "end_time": "2020-10-20T04:43:04.772725Z",
     "start_time": "2020-10-20T04:43:04.765744Z"
    }
   },
   "outputs": [],
   "source": [
    "print(\"O\")"
   ]
  },
  {
   "cell_type": "markdown",
   "metadata": {},
   "source": [
    "---\n",
    "### 문제3\n",
    "\n",
    "어떤 알고리즘이 주어졌을 때, 빅오표기법은 최선의 경우에는 구할 수 없다."
   ]
  },
  {
   "cell_type": "code",
   "execution_count": null,
   "metadata": {
    "ExecuteTime": {
     "end_time": "2022-10-23T11:30:45.873721Z",
     "start_time": "2022-10-23T11:30:45.864744Z"
    }
   },
   "outputs": [],
   "source": [
    "print(\"O\")"
   ]
  },
  {
   "cell_type": "markdown",
   "metadata": {},
   "source": [
    "---\n",
    "### 문제4\n",
    "\n",
    "일방통행, 프린터의 출력 순서 처리, 윈도우 메시지 처리, 빠른 길 찾기 등에 공통으로 사용되는 자료구조는 `스택`이다."
   ]
  },
  {
   "cell_type": "code",
   "execution_count": null,
   "metadata": {
    "ExecuteTime": {
     "end_time": "2022-10-23T11:32:00.551719Z",
     "start_time": "2022-10-23T11:32:00.534765Z"
    },
    "scrolled": true
   },
   "outputs": [],
   "source": [
    "print(\"X\")"
   ]
  },
  {
   "cell_type": "markdown",
   "metadata": {},
   "source": [
    "---\n",
    "### 문제5\n",
    "\n",
    "연결리스트를 이용하여 큐를 구현했을 때, Rear 노드를 삭제하는 연산의 수행시간은 `O(1)`이다."
   ]
  },
  {
   "cell_type": "code",
   "execution_count": null,
   "metadata": {
    "ExecuteTime": {
     "end_time": "2022-10-23T11:36:37.081669Z",
     "start_time": "2022-10-23T11:36:37.075685Z"
    },
    "scrolled": true
   },
   "outputs": [],
   "source": [
    "print(\"X\")"
   ]
  },
  {
   "cell_type": "markdown",
   "metadata": {},
   "source": [
    "---\n",
    "\n",
    "# 코딩 문제\n",
    "\n",
    "- 문제당 13점\n"
   ]
  },
  {
   "cell_type": "markdown",
   "metadata": {},
   "source": [
    "---\n",
    "### 문제1\n",
    "\n",
    "구구단 중에서 n단의 결과를 출력하는 함수를 작성하시오.\n",
    "\n",
    "- 파라미터:\n",
    "    - n: 양의 정수\n",
    "- 리턴:\n",
    "    - 없음\n",
    "    \n",
    "#### 결과\n",
    "\n",
    "```\n",
    "3단\n",
    "3 * 1 = 3\n",
    "3 * 2 = 6\n",
    "3 * 3 = 9\n",
    "3 * 4 = 12\n",
    "3 * 5 = 15\n",
    "3 * 6 = 18\n",
    "3 * 7 = 21\n",
    "3 * 8 = 24\n",
    "3 * 9 = 27\n",
    "\n",
    "8단\n",
    "8 * 1 = 8\n",
    "8 * 2 = 16\n",
    "8 * 3 = 24\n",
    "8 * 4 = 32\n",
    "8 * 5 = 40\n",
    "8 * 6 = 48\n",
    "8 * 7 = 56\n",
    "8 * 8 = 64\n",
    "8 * 9 = 72\n",
    "```\n",
    "\n"
   ]
  },
  {
   "cell_type": "code",
   "execution_count": 4,
   "metadata": {
    "ExecuteTime": {
     "end_time": "2022-10-22T12:48:23.079295Z",
     "start_time": "2022-10-22T12:48:23.063285Z"
    }
   },
   "outputs": [
    {
     "name": "stdout",
     "output_type": "stream",
     "text": [
      "3단\n",
      "3 * 1 = 3\n",
      "3 * 2 = 6\n",
      "3 * 3 = 9\n",
      "3 * 4 = 12\n",
      "3 * 5 = 15\n",
      "3 * 6 = 18\n",
      "3 * 7 = 21\n",
      "3 * 8 = 24\n",
      "3 * 9 = 27\n",
      "\n",
      "8단\n",
      "8 * 1 = 8\n",
      "8 * 2 = 16\n",
      "8 * 3 = 24\n",
      "8 * 4 = 32\n",
      "8 * 5 = 40\n",
      "8 * 6 = 48\n",
      "8 * 7 = 56\n",
      "8 * 8 = 64\n",
      "8 * 9 = 72\n"
     ]
    }
   ],
   "source": [
    "def gugu(n: int) -> None:\n",
    "    print(f'{n}단')\n",
    "    for i in range(1,10):\n",
    "        print(f'{n} * {i} = {n*i}')\n",
    "\n",
    "## 아래는 수정하지 마시오.\n",
    "gugu(3)\n",
    "print()\n",
    "gugu(8)"
   ]
  },
  {
   "cell_type": "markdown",
   "metadata": {},
   "source": [
    "---\n",
    "### 문제2\n",
    "\n",
    "Nums 클래스를 완성하시오. Nums 클래스 객체는 숫자들을 가지고 있는 리스트를 멤버변수로 가지고 있다.\n",
    "\n",
    "- 만들어야 하는 메소드\n",
    "    - 생성자\n",
    "        - 파라미터\n",
    "            - values: 숫자가 들어 있는 리스트, 이 파마리터를 이용하여 멤버변수를 만든다.\n",
    "    - add():\n",
    "        - 설명: Nums 클래스가 가지고 있는 모든 숫자들을 value 만큼을 증가시킨다.\n",
    "        - 파라미터: \n",
    "            - value: 증가시킬 값\n",
    "        - 리턴: 없음\n",
    "    - get_data():\n",
    "        - 설명: 객체가 가지고 있는 리스트를 리턴한다.\n",
    "        - 파라미터: 없음\n",
    "        - 리턴: 숫자를 가지고 있는 리스트\n",
    "\n",
    "#### 결과\n",
    "\n",
    "```\n",
    "[2, 3, 3, 5]\n",
    "[4, 5, 5, 7]\n",
    "```"
   ]
  },
  {
   "cell_type": "code",
   "execution_count": 5,
   "metadata": {
    "ExecuteTime": {
     "end_time": "2022-10-22T13:11:33.530721Z",
     "start_time": "2022-10-22T13:11:33.525703Z"
    }
   },
   "outputs": [
    {
     "name": "stdout",
     "output_type": "stream",
     "text": [
      "[2, 3, 3, 5]\n",
      "[4, 5, 5, 7]\n"
     ]
    }
   ],
   "source": [
    "## Nums 클래스를 작성하시오.\n",
    "class Nums:\n",
    "    def __init__(self, values):\n",
    "        self.values = values\n",
    "    \n",
    "    def add(self, value):\n",
    "        self.values = list(map(lambda x:x+value,self.values))\n",
    "\n",
    "    def get_data(self):\n",
    "        return self.values\n",
    "\n",
    "## 아래는 수정하지 마시오.\n",
    "n = Nums([1,2,2,4])\n",
    "n.add(1) # 1씩 증가시킨다.\n",
    "print(n.get_data())\n",
    "n.add(2) # 2씩 증가시킨다.\n",
    "print(n.get_data())"
   ]
  },
  {
   "cell_type": "markdown",
   "metadata": {},
   "source": [
    "---\n",
    "### 문제3\n",
    "\n",
    "재귀적 방법을 이용하여 nums 원소들 중에서 k와 같은 값을 가지는 원소들의 개수를 리턴하는 함수를 작성하시오.\n",
    "\n",
    "- 파라미터:\n",
    "    - nums: 정수들이 들어 있는 리스트\n",
    "    - k: 정수\n",
    "\n",
    "- 리턴:\n",
    "    - nums 안에 k와 같은 값이 몇개 들어 있는지 개수를 세어서 리턴한다.\n",
    "     \n",
    "- 주의) \n",
    "    - 반드시 재귀적 방법으로 작성\n",
    "    - 반복문 사용 불가\n",
    "    - count() 메소드 사용 불가\n",
    "\n",
    "#### 결과\n",
    "\n",
    "```\n",
    "1\n",
    "2\n",
    "3\n",
    "```"
   ]
  },
  {
   "cell_type": "code",
   "execution_count": 7,
   "metadata": {
    "ExecuteTime": {
     "end_time": "2022-10-22T13:17:53.077832Z",
     "start_time": "2022-10-22T13:17:53.068821Z"
    },
    "scrolled": true
   },
   "outputs": [
    {
     "name": "stdout",
     "output_type": "stream",
     "text": [
      "1\n",
      "2\n",
      "3\n"
     ]
    }
   ],
   "source": [
    "def get_num_count(nums: list[int], k: int) -> int:\n",
    "    if not nums: return 0\n",
    "    if len(nums) == 1:\n",
    "        return int(nums[0] == k)\n",
    "    return int(nums[0] == k) + get_num_count(nums[1:], k)\n",
    "\n",
    "# 아래는 수정하지 마시오.\n",
    "print(get_num_count([1,2,3,2,1,4,5,2], 3))\n",
    "print(get_num_count([1,2,3,2,1,4,5,2], 1))\n",
    "print(get_num_count([1,2,3,2,1,4,5,2], 2))\n",
    "\n",
    "\n"
   ]
  },
  {
   "cell_type": "markdown",
   "metadata": {},
   "source": [
    "---\n",
    "### 문제4\n",
    "\n",
    "LinkedList 클래스의 search() 메소드를 완성하시오.\n",
    "\n",
    "이 메소드는 연결리스트에서 data와 같은 값을 가지는 노드의 위치(인덱스)를 리턴한다.\n",
    "\n",
    "만약 data와 같은 값을 가지는 노드를 발견하지 못했다면 -1을 리턴한다.\n",
    "\n",
    "- 파라미터:\n",
    "    - data: 위치를 찾아야 하는 데이터 값\n",
    "- 리턴: 정수\n",
    "\n",
    "#### 결과\n",
    "\n",
    "```\n",
    "D->C->B->F\n",
    "1\n",
    "3\n",
    "-1\n",
    "```"
   ]
  },
  {
   "cell_type": "code",
   "execution_count": 9,
   "metadata": {
    "ExecuteTime": {
     "end_time": "2022-10-23T10:54:42.520664Z",
     "start_time": "2022-10-23T10:54:42.496757Z"
    }
   },
   "outputs": [
    {
     "name": "stdout",
     "output_type": "stream",
     "text": [
      "D->C->B->F\n",
      "1\n",
      "3\n",
      "-1\n"
     ]
    }
   ],
   "source": [
    "from __future__ import annotations\n",
    "from typing import Any\n",
    "\n",
    "class Node:\n",
    "    \"\"\"연결 리스트용 노드 클래스\"\"\"\n",
    "    def __init__(self, data: Any = None, next: Node = None):\n",
    "        \"\"\"초기화\"\"\"\n",
    "        self.data = data  # 데이터\n",
    "        self.next = next  # 뒤쪽 포인터\n",
    "\n",
    "class LinkedList:\n",
    "    \"\"\"연결 리스트 클래스\"\"\"\n",
    "\n",
    "    def __init__(self) -> None:\n",
    "        \"\"\"초기화\"\"\"\n",
    "        self.no = 0\n",
    "        self.head = None\n",
    "\n",
    "    def __len__(self) -> int:\n",
    "        \"\"\"연결 리스트의 노드 개수를 리턴\"\"\"\n",
    "        return self.no\n",
    "\n",
    "    def add_first(self, data: Any) -> None:\n",
    "        \"\"\"맨 앞에 노드를 삽입\"\"\"\n",
    "        ptr = self.head \n",
    "        self.head = Node(data, ptr)\n",
    "        self.no += 1\n",
    "    \n",
    "    def search(self, data: Any) -> int:\n",
    "        \"\"\"data와 값이 같은 노드를 검색\"\"\"\n",
    "        idx = 0\n",
    "        ptr = self.head\n",
    "        while ptr is not None:\n",
    "            if ptr.data == data:\n",
    "                return idx\n",
    "            ptr = ptr.next\n",
    "            idx += 1\n",
    "        return -1\n",
    "\n",
    "    def print(self) -> None:\n",
    "        \"\"\"모든 노드를 출력\"\"\"\n",
    "        ptr = self.head\n",
    "\n",
    "        while ptr is not None:\n",
    "            print(ptr.data, end='')\n",
    "            if ptr.next is not None:\n",
    "                print('->', end='')\n",
    "            else:\n",
    "                print()\n",
    "            ptr = ptr.next\n",
    "\n",
    "        \n",
    "## 아래는 수정하지 마시오.\n",
    "my_list = LinkedList()\n",
    "my_list.add_first('F')\n",
    "my_list.add_first('B')\n",
    "my_list.add_first('C')\n",
    "my_list.add_first('D')\n",
    "my_list.print()\n",
    "print(my_list.search('C'))\n",
    "print(my_list.search('F'))\n",
    "print(my_list.search('A'))\n"
   ]
  },
  {
   "cell_type": "markdown",
   "metadata": {},
   "source": [
    "---\n",
    "### 문제5\n",
    "\n",
    "LinkedListStack 클래스의 remove_top_odds() 메소드를 작성하시오.\n",
    "\n",
    "remove_top_odds() 메소드는 스택에서 탑에서부터 연속되어 있는 홀수들을 삭제한다.\n",
    "\n",
    "\n",
    "예시) 스택이 `Top: 5->1->3->4->3->1->2` 인 상태에서 remove_top_odds() 메소드를 호출하면,\n",
    "\n",
    "`5, 1, 3` 은 탑에서부터 연속된 홀수들이므로 제거되어 스택에 `Top: 4->3->1->2` 만 남게된다.\n",
    "\n",
    "이 상태에서 다시한번 remove_top_odds() 메소드를 호출하면, top에는 짝수가 있으므로 아무일도 일어나지 않는다.\n",
    "\n",
    "\n",
    "- 파라미터:\n",
    "    - 없음\n",
    "- 리턴:\n",
    "    - 없음\n",
    "- 주의사항:\n",
    "    - 스택에는 항상 양의 정수 데이터만 들어간다고 가정한다.\n",
    "    \n",
    " \n",
    "#### 결과\n",
    "\n",
    "```\n",
    "Top:5->1->3->4->3->1->2\n",
    "Top:4->3->1->2\n",
    "Top:2\n",
    "Top:\n",
    "```"
   ]
  },
  {
   "cell_type": "code",
   "execution_count": 11,
   "metadata": {
    "ExecuteTime": {
     "end_time": "2022-10-23T10:52:29.261315Z",
     "start_time": "2022-10-23T10:52:29.243363Z"
    }
   },
   "outputs": [
    {
     "name": "stdout",
     "output_type": "stream",
     "text": [
      "Top:5->1->3->4->3->1->2\n",
      "Top:4->3->1->2\n",
      "Top:2\n",
      "Top:"
     ]
    }
   ],
   "source": [
    "from __future__ import annotations\n",
    "from typing import Any\n",
    "\n",
    "class Node:\n",
    "    \"\"\"연결 리스트용 노드 클래스\"\"\"\n",
    "\n",
    "    def __init__(self, data: Any = None, next: Node = None):\n",
    "        \"\"\"초기화\"\"\"\n",
    "        self.data = data  # 데이터\n",
    "        self.next = next  # 뒤쪽 포인터\n",
    "\n",
    "\n",
    "class LinkedListStack:\n",
    "    \"\"\"연결리스트를 이용한 스택 클래스\"\"\"\n",
    "\n",
    "    def __init__(self) -> None:\n",
    "        \"\"\"초기화\"\"\"\n",
    "        self.no = 0          # 노드의 개수\n",
    "        self.top = None     # 탑 노드\n",
    "\n",
    "    def __len__(self) -> int:\n",
    "        \"\"\"스택의 크기 반환\"\"\"\n",
    "        return self.no\n",
    "    \n",
    "    def is_empty(self) -> bool:\n",
    "        \"\"\"스택이 비어있는지 확인\"\"\"\n",
    "        return self.top is None\n",
    "\n",
    "    def push(self, data: Any) -> None:\n",
    "        \"\"\"스택에 데이터를 푸시\"\"\"\n",
    "        ptr = self.top  # 푸시 전의 탑 노드\n",
    "        self.top = Node(data, ptr)\n",
    "        self.no += 1\n",
    "        \n",
    "    def pop(self) -> Any:\n",
    "        \"\"\"스택에서 탑에 있는 데이터를 꺼냄(삭제)\"\"\"\n",
    "        if not self.is_empty():  # 스택이 비어 있지 않으면\n",
    "            data = self.top.data\n",
    "            self.top = self.top.next\n",
    "            self.no -= 1\n",
    "            return data\n",
    "        else:\n",
    "            raise IndexError(\"Stack is empty.\")\n",
    "            \n",
    "    def peek(self) -> Any:\n",
    "        \"\"\"스택에서 탑에 있는 데이터를 리턴\"\"\"\n",
    "        if not self.is_empty():\n",
    "            return self.top.data\n",
    "        else:\n",
    "            raise IndexError(\"Stack is empty.\")\n",
    "            \n",
    "    def remove_top_odds(self) -> None:\n",
    "        if self.is_empty(): return\n",
    "        while not self.is_empty():\n",
    "            temp = self.pop()\n",
    "            if temp % 2 == 0:\n",
    "                self.push(temp)\n",
    "                return\n",
    "            self.no -= 1\n",
    "    \n",
    "    def print(self) -> None:\n",
    "        \"\"\"스택의 모든 데이터를 탑에서 부터 출력\"\"\"\n",
    "        ptr = self.top\n",
    "        print(\"Top:\", end='')\n",
    "        while ptr is not None:\n",
    "            print(ptr.data, end='')\n",
    "            if ptr.next is not None:\n",
    "                print('->', end='')\n",
    "            else:\n",
    "                print()\n",
    "            ptr = ptr.next\n",
    "\n",
    "# 아래는 수정하지 마시오.\n",
    "stack = LinkedListStack()\n",
    "stack.push(2)\n",
    "stack.push(1)\n",
    "stack.push(3)\n",
    "stack.push(4)\n",
    "stack.push(3)\n",
    "stack.push(1)\n",
    "stack.push(5)\n",
    "\n",
    "stack.print()\n",
    "stack.remove_top_odds()\n",
    "stack.print()\n",
    "stack.pop()\n",
    "stack.remove_top_odds()\n",
    "stack.print()\n",
    "stack.pop()\n",
    "stack.remove_top_odds()\n",
    "stack.print()\n"
   ]
  },
  {
   "cell_type": "markdown",
   "metadata": {},
   "source": [
    "---\n",
    "### 문제6\n",
    "\n",
    "check_parens() 함수를 완성하시오.\n",
    "\n",
    "이 함수는 문자열 s 에 들어 있는 괄호들이 짝이 맞는지 판별한다.\n",
    "\n",
    "\n",
    "- 파라미터:\n",
    "    - s: 문자열\n",
    "- 리턴:\n",
    "    - 괄호들이 짝이맞으면 True 리턴 아니면 False 리턴\n",
    "\n",
    "\n",
    "#### 결과\n",
    "\n",
    "```\n",
    "True\n",
    "True\n",
    "True\n",
    "True\n",
    "False\n",
    "False\n",
    "False\n",
    "False\n",
    "False\n",
    "False\n",
    "```"
   ]
  },
  {
   "cell_type": "code",
   "execution_count": 15,
   "metadata": {
    "ExecuteTime": {
     "end_time": "2022-10-21T08:51:54.511660Z",
     "start_time": "2022-10-21T08:51:54.492713Z"
    }
   },
   "outputs": [
    {
     "name": "stdout",
     "output_type": "stream",
     "text": [
      "True\n",
      "True\n",
      "True\n",
      "True\n",
      "False\n",
      "False\n",
      "False\n",
      "False\n",
      "False\n",
      "False\n"
     ]
    }
   ],
   "source": [
    "def check_parens(s: str) -> bool:\n",
    "    stack = []\n",
    "    brackets = {'(':')','{':'}','[':']'}\n",
    "    for c in s:\n",
    "        if c in brackets.keys():\n",
    "            stack.append(c)\n",
    "        elif c in brackets.values():\n",
    "            if not stack: return False\n",
    "            temp = stack.pop()\n",
    "            if brackets[temp] != c:\n",
    "                return False\n",
    "    return len(stack) == 0\n",
    "\n",
    "#아래는 수정하지 마시오.\n",
    "print(check_parens(\"\"))\n",
    "print(check_parens(\"([])\"))\n",
    "print(check_parens(\"()[]\"))\n",
    "print(check_parens(\"()[()()[]]{()}\"))\n",
    "print(check_parens(\"(()}{[])\"))\n",
    "print(check_parens(\"(\"))\n",
    "print(check_parens(\"]\"))\n",
    "print(check_parens(\"][\"))\n",
    "print(check_parens(\"(]\"))\n",
    "print(check_parens(\"[]((){][])[]\"))"
   ]
  },
  {
   "cell_type": "markdown",
   "metadata": {},
   "source": [
    "### 문제7\n",
    "\n",
    "\n",
    "```\n",
    "어느 왕국의 이웃 나라 외동딸 공주가 숲 속의 괴물에게 잡혀갔습니다.\n",
    "왕국에는 왕자가 N명이 있는데 서로 공주를 구하러 가겠다고 합니다. 왕국의 왕은 다음과 같은 방법으로 공주를 구하러 갈 왕자를 결정하기로 했습니다.\n",
    "\n",
    "왕은 왕자들을 나이 순으로 1번부터 N번까지 차례로 번호를 매기고 1번 왕자부터 N번 왕자까지 순서대로 시계 방향으로 돌아가게 동그랗게 앉게 합니다. 그리고 N번 왕자부터 시계 방향으로 돌아가며 1부터 시작하여 번호를 외치게 합니다. 한 왕자가 K(특정 숫자)를 외치면 그 왕자는 공주를 구하러 가는데서 제외되고 원 밖으로 나오게 됩니다. 그리고 다음 왕자부터 다시 1부터 시작하여 번호를 외칩니다.\n",
    "\n",
    "이렇게 해서 마지막까지 남은 왕자가 공주를 구하러 갈 수 있습니다. 마지막에 남은 왕자의 번호는 무엇인가요?\n",
    "\n",
    "n과 k가 주어 졌을 때, 마지막에 남은 왕자의 번호를 리턴하는 함수를 작성하시오.\n",
    "```\n",
    "\n",
    "- 파라미터:\n",
    "    - n: 양의 정수\n",
    "    - k: 양의 정수\n",
    "- 리턴:\n",
    "    - 버린카드의 번호들이 들어 있는 리스트\n",
    "    \n",
    "- 주의사항)\n",
    "    - O(N) 시간 안에 동작하도록 작성하시오.\n",
    "\n",
    "#### 결과\n",
    "```\n",
    "3\n",
    "7\n",
    "```"
   ]
  },
  {
   "cell_type": "code",
   "execution_count": 17,
   "metadata": {
    "ExecuteTime": {
     "end_time": "2022-10-21T07:46:16.801692Z",
     "start_time": "2022-10-21T07:46:16.781013Z"
    },
    "scrolled": true
   },
   "outputs": [
    {
     "name": "stdout",
     "output_type": "stream",
     "text": [
      "3\n",
      "7\n"
     ]
    }
   ],
   "source": [
    "from collections import deque\n",
    "def save_princess(n: int, k: int) -> int:\n",
    "    prince = deque(range(n))\n",
    "    c = 0\n",
    "    while len(prince) > 1:\n",
    "        temp = prince.popleft()\n",
    "        c += 1\n",
    "        if c != k:\n",
    "            prince.append(temp)\n",
    "        else:\n",
    "            c = 0\n",
    "    return prince[0]\n",
    "\n",
    "\n",
    "print(save_princess(3, 2))\n",
    "print(save_princess(8, 3))\n",
    "    "
   ]
  },
  {
   "cell_type": "markdown",
   "metadata": {},
   "source": [
    "### 수고하셨습니다.\n",
    "제출후 모든 파일을 반드시 삭제하세요."
   ]
  }
 ],
 "metadata": {
  "kernelspec": {
   "display_name": "Python 3",
   "language": "python",
   "name": "python3"
  },
  "language_info": {
   "codemirror_mode": {
    "name": "ipython",
    "version": 3
   },
   "file_extension": ".py",
   "mimetype": "text/x-python",
   "name": "python",
   "nbconvert_exporter": "python",
   "pygments_lexer": "ipython3",
   "version": "3.10.13"
  },
  "toc": {
   "base_numbering": 1,
   "nav_menu": {},
   "number_sections": true,
   "sideBar": true,
   "skip_h1_title": false,
   "title_cell": "Table of Contents",
   "title_sidebar": "Contents",
   "toc_cell": false,
   "toc_position": {},
   "toc_section_display": true,
   "toc_window_display": false
  }
 },
 "nbformat": 4,
 "nbformat_minor": 4
}
