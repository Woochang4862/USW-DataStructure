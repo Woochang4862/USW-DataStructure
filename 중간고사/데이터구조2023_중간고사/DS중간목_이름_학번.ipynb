{
 "cells": [
  {
   "cell_type": "markdown",
   "metadata": {},
   "source": [
    "# << 2023 데이터구조 (목) 중간고사 >>\n",
    "\n",
    "\n",
    "- 주의 사항\n",
    "    1. 시험시간 11:40 ~ 13:00\n",
    "    1. 부분점수는 없습니다.\n",
    "    1. 휴대폰의 전원을 끄세요.\n",
    "    1. 개인 전자기기를 사용할 수 없습니다.\n",
    "    1. 이 시험은 closed book 입니다.\n",
    "        1. 모든 인터넷을 사용할 수 없습니다.\n",
    "        1. 모든 자료를 볼 수 없습니다.\n",
    "    1. 수시로 저장하세요.\n",
    "    1. 셀을 실행시켰을 때, 멈추지 않는다면, 주피터노트북 메뉴에 있는 정지버튼을 누르거나 Kernel 메뉴에서 restart를 누르세요.\n",
    "        - 그래도 동작하지 않는 경우에는 주피터노트북을 다시 시작하세요.\n",
    "- 제출 방법\n",
    "    1. 단 한번만 제출 할 수 있습니다.\n",
    "        1. 다시 제출해야 할 경우 시험 감독에게 문의하세요.\n",
    "    1. `잘못된 파일을 제출했을 경우 기본 점수로 채점됩니다.`\n",
    "    1. 파일 이름에서 '학번'을 자신의 학번으로, '이름'을 자신의 이름으로 고치시오.\n",
    "    1. 캔버스에 주피터노트북 파일(.ipynb)을 제출하세요.\n",
    "        1. 캔버스 사용이 불가능한 경우, 이메일로 아래 주소로 제출 하세요.\n",
    "            - ydhwang@suwon.ac.kr\n",
    "            - 메일제목: `[데이터구조] 홍길동`\n",
    "    1. `제출후 모든 파일을 반드시 삭제하세요.`\n"
   ]
  },
  {
   "cell_type": "markdown",
   "metadata": {},
   "source": [
    "## 아래 셀을 실행시키시오."
   ]
  },
  {
   "cell_type": "code",
   "execution_count": 1,
   "metadata": {
    "ExecuteTime": {
     "end_time": "2022-10-22T12:46:08.908614Z",
     "start_time": "2022-10-22T12:46:08.887834Z"
    }
   },
   "outputs": [
    {
     "name": "stdout",
     "output_type": "stream",
     "text": [
      "Time: 22:16:32\n",
      "IP address: 127.0.0.1\n"
     ]
    }
   ],
   "source": [
    "# 이 셀을 실행시키세요.\n",
    "from __future__ import annotations\n",
    "from typing import Any\n",
    "from collections import deque\n",
    "from datetime import datetime\n",
    "import socket\n",
    "now = datetime.now()\n",
    "current_time = now.strftime(\"%H:%M:%S\")\n",
    "print(f\"Time: {current_time}\")\n",
    "print(f\"IP address: {socket.gethostbyname(socket.gethostname())}\")\n",
    "class Node:\n",
    "    pass"
   ]
  },
  {
   "cell_type": "markdown",
   "metadata": {
    "ExecuteTime": {
     "end_time": "2019-10-22T07:55:36.236793Z",
     "start_time": "2019-10-22T07:55:36.231780Z"
    }
   },
   "source": [
    "---\n",
    "# 주관식 문제\n",
    "\n",
    "- 문제당 6점"
   ]
  },
  {
   "cell_type": "markdown",
   "metadata": {},
   "source": [
    "---\n",
    "### 문제1\n",
    "\n",
    "이것은 프로그램에서 데이터에 대해 탐색, 삽입, 삭제 등의 연산을 효율적으로 수행하기 위해 필요하다.\n",
    "\n",
    "이것은 데이터를 효율적으로 저장하거나 조직하는 방법 또는 그 방법으로 구현것이다. \n",
    "\n",
    "이것은 무엇인가?"
   ]
  },
  {
   "cell_type": "code",
   "execution_count": null,
   "metadata": {
    "ExecuteTime": {
     "end_time": "2022-10-23T11:14:15.493669Z",
     "start_time": "2022-10-23T11:14:15.488682Z"
    }
   },
   "outputs": [],
   "source": [
    "print(\"자료구조\")"
   ]
  },
  {
   "cell_type": "markdown",
   "metadata": {},
   "source": [
    "---\n",
    "### 문제2\n",
    "\n",
    "짝수(2,4,6, ... )를 재귀적으로 정의하시오."
   ]
  },
  {
   "cell_type": "code",
   "execution_count": null,
   "metadata": {
    "ExecuteTime": {
     "end_time": "2022-10-23T11:14:06.271791Z",
     "start_time": "2022-10-23T11:14:06.254809Z"
    },
    "scrolled": true
   },
   "outputs": [],
   "source": [
    "print(\"a_1 = 2, a_n+1 = a_n +2\")"
   ]
  },
  {
   "cell_type": "markdown",
   "metadata": {},
   "source": [
    "---\n",
    "### 문제3\n",
    "\n",
    "아래 알고리즘의 수행시간을 빅오표기법으로 표현하시오.\n",
    "\n",
    "단) arr 은 정수들이 들어 있는 리스트라고 가정한다.\n",
    "\n",
    "```python\n",
    "def sum_elements(arr: list[int]) -> int:\n",
    "    total = 0\n",
    "    for num in arr:\n",
    "        total += num\n",
    "        if total > 0:\n",
    "            break\n",
    "    return total\n",
    "```"
   ]
  },
  {
   "cell_type": "code",
   "execution_count": null,
   "metadata": {
    "ExecuteTime": {
     "end_time": "2022-10-23T11:39:13.225750Z",
     "start_time": "2022-10-23T11:39:13.218739Z"
    }
   },
   "outputs": [],
   "source": [
    "print(\"O(N)\")"
   ]
  },
  {
   "cell_type": "markdown",
   "metadata": {},
   "source": [
    "---\n",
    "### 문제4\n",
    "\n",
    "후입선출은 어떤 자료구조의 특징인가?\n"
   ]
  },
  {
   "cell_type": "code",
   "execution_count": null,
   "metadata": {
    "ExecuteTime": {
     "end_time": "2022-10-23T13:21:07.667604Z",
     "start_time": "2022-10-23T13:21:07.655606Z"
    }
   },
   "outputs": [],
   "source": [
    "print(\"Queue\")"
   ]
  },
  {
   "cell_type": "markdown",
   "metadata": {},
   "source": [
    "---\n",
    "### 문제5\n",
    "\n",
    "파이썬 리스트의 pop(0) 연산의 시간복잡도를 빅오표기법으로 쓰시오."
   ]
  },
  {
   "cell_type": "code",
   "execution_count": null,
   "metadata": {
    "ExecuteTime": {
     "end_time": "2022-10-23T13:23:59.535681Z",
     "start_time": "2022-10-23T13:23:59.527820Z"
    },
    "scrolled": true
   },
   "outputs": [],
   "source": [
    "print(\"O(N)\")"
   ]
  },
  {
   "cell_type": "markdown",
   "metadata": {},
   "source": [
    "----\n",
    "# O,X 문제\n",
    "1. 맞으면 `O`, 틀리면 `X`를 `print()`를 이용하여 출력하시오.\n",
    "1. 배점: 문제를 맞추면 6점, 비워두면 3점, 틀리면 0점"
   ]
  },
  {
   "cell_type": "markdown",
   "metadata": {},
   "source": [
    "---\n",
    "### 문제1\n",
    "\n",
    "객체(혹은 인스턴스)에서 정의된 것을 실제 메모리상에 구현한 것을 클래스라고 한다."
   ]
  },
  {
   "cell_type": "code",
   "execution_count": null,
   "metadata": {
    "ExecuteTime": {
     "end_time": "2022-10-23T11:11:19.811986Z",
     "start_time": "2022-10-23T11:11:19.798023Z"
    },
    "scrolled": true
   },
   "outputs": [],
   "source": [
    "print(\"X\")"
   ]
  },
  {
   "cell_type": "markdown",
   "metadata": {},
   "source": [
    "---\n",
    "### 문제2\n",
    "\n",
    "지수시간 알고리즘은 계승시간 알고리즘 보다 시간복잡도가 낮다."
   ]
  },
  {
   "cell_type": "code",
   "execution_count": null,
   "metadata": {
    "ExecuteTime": {
     "end_time": "2020-10-20T04:43:04.772725Z",
     "start_time": "2020-10-20T04:43:04.765744Z"
    }
   },
   "outputs": [],
   "source": [
    "print(\"X\")"
   ]
  },
  {
   "cell_type": "markdown",
   "metadata": {},
   "source": [
    "---\n",
    "### 문제3\n",
    "\n",
    "타입힌트는 프로그래밍에서 자료형과 관련된 실수를 줄이기 위한 방법으로 타힙힌트를 지키지 않으면 문법적 에러가 발생한다."
   ]
  },
  {
   "cell_type": "code",
   "execution_count": null,
   "metadata": {
    "ExecuteTime": {
     "end_time": "2022-10-23T11:30:45.873721Z",
     "start_time": "2022-10-23T11:30:45.864744Z"
    }
   },
   "outputs": [],
   "source": [
    "print(\"X\")"
   ]
  },
  {
   "cell_type": "markdown",
   "metadata": {},
   "source": [
    "---\n",
    "### 문제4\n",
    "\n",
    "비어있는 스택에 아래의 연산들을 순서대로 수행했다면 스택의 탑에는 1이 들어 있다.\n",
    "\n",
    "1. push(1)\n",
    "1. push(2)\n",
    "1. push(3)\n",
    "1. pop()\n",
    "1. push(4)\n",
    "1. pop()\n"
   ]
  },
  {
   "cell_type": "code",
   "execution_count": null,
   "metadata": {
    "ExecuteTime": {
     "end_time": "2022-10-23T11:32:00.551719Z",
     "start_time": "2022-10-23T11:32:00.534765Z"
    },
    "scrolled": true
   },
   "outputs": [],
   "source": [
    "print(\"X\")"
   ]
  },
  {
   "cell_type": "markdown",
   "metadata": {},
   "source": [
    "---\n",
    "### 문제5\n",
    "\n",
    "큐 자료구조는 FIFO 특성을 지닌다."
   ]
  },
  {
   "cell_type": "code",
   "execution_count": null,
   "metadata": {
    "ExecuteTime": {
     "end_time": "2022-10-23T11:36:37.081669Z",
     "start_time": "2022-10-23T11:36:37.075685Z"
    },
    "scrolled": true
   },
   "outputs": [],
   "source": [
    "print(\"O\")"
   ]
  },
  {
   "cell_type": "markdown",
   "metadata": {},
   "source": [
    "---\n",
    "\n",
    "# 코딩 문제\n",
    "\n",
    "- 문제당 13점\n"
   ]
  },
  {
   "cell_type": "markdown",
   "metadata": {},
   "source": [
    "---\n",
    "### 문제1\n",
    "\n",
    "has_even() 함수를 작성하시오.\n",
    "\n",
    "has_even() 함수는 nums 의 원소들 중에 짝수가 하나라도 있으면 True를 리턴하고, 짝수가 존재하지 않으면 False를 리턴하는 함수이다.\n",
    "\n",
    "주의) 반복함수로 작성하시오.(while 이나 for 사용)\n",
    "\n",
    "- 파라미터:\n",
    "    - nums: 양의 정수들을 가지고 있는 리스트\n",
    "- 리턴:\n",
    "    - True: 짝수가 있는 경우\n",
    "    - False: 짝수가 없는 경우\n",
    "\n",
    "    \n",
    "#### 결과\n",
    "\n",
    "```\n",
    "True\n",
    "True\n",
    "False\n",
    "False\n",
    "```\n",
    "\n"
   ]
  },
  {
   "cell_type": "code",
   "execution_count": 2,
   "metadata": {
    "ExecuteTime": {
     "end_time": "2022-10-22T12:48:23.079295Z",
     "start_time": "2022-10-22T12:48:23.063285Z"
    }
   },
   "outputs": [
    {
     "name": "stdout",
     "output_type": "stream",
     "text": [
      "True\n",
      "True\n",
      "False\n",
      "False\n"
     ]
    }
   ],
   "source": [
    "def has_even(nums: list[int]) -> bool:\n",
    "    for num in nums:\n",
    "        if num % 2 == 0: return True\n",
    "    return False\n",
    "\n",
    "# 아래는 수정하지 마시오.\n",
    "print(has_even([1,2,3,4,5]))\n",
    "print(has_even([1,3,1,5,6,13]))\n",
    "print(has_even([3,1,9,7,11]))\n",
    "print(has_even([5,3,9]))\n"
   ]
  },
  {
   "cell_type": "markdown",
   "metadata": {},
   "source": [
    "---\n",
    "### 문제2\n",
    "\n",
    "TwoNums 클래스를 완성하시오. TwoNums 클래스 객체는 두개의 숫자를 멤버변수로 가지고 있다.\n",
    "\n",
    "- 만들어야 하는 메소드\n",
    "    - 생성자\n",
    "        - 파라미터\n",
    "            - x: 첫번째 수\n",
    "            - y: 두번째 수\n",
    "    - get_big():\n",
    "        - 설명: 멤버변수로 가지고 있는 두 수 중에서 큰 값을 리턴한다.\n",
    "        - 파라미터: 없음\n",
    "        - 리턴: 정수\n",
    "    - get_sum():\n",
    "        - 설명: 두개의 멤버 변수들의 합을 리턴한다.\n",
    "        - 파라미터: 없음\n",
    "        - 리턴: 정수\n",
    "\n",
    "#### 결과\n",
    "\n",
    "```\n",
    "4 7\n",
    "5 9\n",
    "```"
   ]
  },
  {
   "cell_type": "code",
   "execution_count": 3,
   "metadata": {
    "ExecuteTime": {
     "end_time": "2022-10-22T13:11:33.530721Z",
     "start_time": "2022-10-22T13:11:33.525703Z"
    }
   },
   "outputs": [
    {
     "name": "stdout",
     "output_type": "stream",
     "text": [
      "4 7\n",
      "5 9\n"
     ]
    }
   ],
   "source": [
    "## TwoNums 클래스를 작성하시오.\n",
    "class TwoNums:\n",
    "    def __init__(self, x, y):\n",
    "        self.x = x\n",
    "        self.y = y\n",
    "    \n",
    "    def get_big(self):\n",
    "        return max(self.x, self.y)\n",
    "    \n",
    "    def get_sum(self):\n",
    "        return self.x + self.y\n",
    "\n",
    "## 아래는 수정하지 마시오.\n",
    "tn = TwoNums(3,4)\n",
    "print(tn.get_big(), tn.get_sum())\n",
    "tn = TwoNums(4,5)\n",
    "print(tn.get_big(), tn.get_sum())"
   ]
  },
  {
   "cell_type": "markdown",
   "metadata": {},
   "source": [
    "---\n",
    "### 문제3\n",
    "\n",
    "재귀적 방법을 이용하여 nums 원소들 중에서 홀수들의 합을 리턴하는 함수를 작성하시오.\n",
    "\n",
    "- 파라미터:\n",
    "    - nums: 정수들이 들어 있는 리스트\n",
    "\n",
    "- 리턴:\n",
    "    - nums 안에 있는 홀수들의 합\n",
    "     \n",
    "- 주의) \n",
    "    - 반드시 재귀적 방법으로 작성\n",
    "    - 반복문 사용 불가\n",
    "    - count() 메소드 사용 불가\n",
    "\n",
    "#### 결과\n",
    "\n",
    "```\n",
    "4\n",
    "7\n",
    "10\n",
    "```"
   ]
  },
  {
   "cell_type": "code",
   "execution_count": 4,
   "metadata": {
    "ExecuteTime": {
     "end_time": "2022-10-22T13:17:53.077832Z",
     "start_time": "2022-10-22T13:17:53.068821Z"
    },
    "scrolled": true
   },
   "outputs": [
    {
     "name": "stdout",
     "output_type": "stream",
     "text": [
      "4\n",
      "7\n",
      "10\n"
     ]
    }
   ],
   "source": [
    "def get_odds_sum(nums: list[int]) -> int:\n",
    "    if len(nums) == 0: return 0\n",
    "    if len(nums) == 1: return nums[0] if nums[0] % 2 else 0\n",
    "    return (nums[0] if nums[0] % 2 else 0) + get_odds_sum(nums[1:])\n",
    "\n",
    "# 아래는 수정하지 마시오.\n",
    "print(get_odds_sum([1,2,3]))\n",
    "print(get_odds_sum([2,3,1,2,3,2]))\n",
    "print(get_odds_sum([2,3,1,3,2,3,2]))\n"
   ]
  },
  {
   "cell_type": "markdown",
   "metadata": {},
   "source": [
    "---\n",
    "### 문제4\n",
    "\n",
    "LinkedList 클래스의 remove_last() 메소드를 완성하시오.\n",
    "\n",
    "이 메소드는 연결리스트에서 꼬리노드(맨 마지막 노드)를 삭제 한다.\n",
    "\n",
    "\n",
    "- 파라미터:\n",
    "    - 없음\n",
    "- 리턴: \n",
    "    - 없음\n",
    "\n",
    "#### 결과\n",
    "\n",
    "```\n",
    "A->B->C->D\n",
    "A->B->C\n",
    "A->B\n",
    "A\n",
    "```"
   ]
  },
  {
   "cell_type": "code",
   "execution_count": 7,
   "metadata": {
    "ExecuteTime": {
     "end_time": "2022-10-23T10:54:42.520664Z",
     "start_time": "2022-10-23T10:54:42.496757Z"
    }
   },
   "outputs": [
    {
     "name": "stdout",
     "output_type": "stream",
     "text": [
      "A->B->C->D\n",
      "A->B->C\n",
      "A->B\n",
      "A\n"
     ]
    }
   ],
   "source": [
    "from __future__ import annotations\n",
    "from typing import Any, List, Tuple, Dict\n",
    "\n",
    "class Node:\n",
    "    \"\"\"연결 리스트용 노드 클래스\"\"\"\n",
    "\n",
    "    def __init__(self, data: Any = None, next: Node = None):\n",
    "        \"\"\"초기화\"\"\"\n",
    "        self.data = data  # 데이터\n",
    "        self.next = next  # 뒤쪽 포인터\n",
    "\n",
    "\n",
    "class LinkedList:\n",
    "    \"\"\"연결 리스트 클래스\"\"\"\n",
    "\n",
    "    def __init__(self) -> None:\n",
    "        \"\"\"초기화\"\"\"\n",
    "        self.no = 0          # 노드의 개수\n",
    "        self.head = None     # 머리 노드\n",
    "\n",
    "    def __len__(self) -> int:\n",
    "        \"\"\"연결 리스트의 노드 개수를 반환\"\"\"\n",
    "        return self.no\n",
    "\n",
    "    def add_first(self, data: Any) -> None:\n",
    "        \"\"\"맨 앞에 노드를 삽입\"\"\"\n",
    "        ptr = self.head  # 삽입 전의 머리 노드\n",
    "        self.head = Node(data, ptr)\n",
    "        self.no += 1\n",
    "\n",
    "    def print(self) -> None:\n",
    "        \"\"\"모든 노드를 출력\"\"\"\n",
    "        ptr = self.head\n",
    "\n",
    "        while ptr is not None:\n",
    "            print(ptr.data, end='')\n",
    "            if ptr.next is not None:\n",
    "                print('->', end='')\n",
    "            else:\n",
    "                print()\n",
    "            ptr = ptr.next\n",
    "    \n",
    "    def remove_first(self) -> None:\n",
    "        \"\"\"머리 노드를 삭제\"\"\"\n",
    "        if self.head is not None:  # 리스트가 비어 있지 않으면\n",
    "            self.head = self.head.next\n",
    "            self.no -= 1\n",
    "\n",
    "    def remove_last(self):\n",
    "        \"\"\"꼬리 노드 삭제\"\"\"\n",
    "        if not self.head: return # 빈 리스트\n",
    "        if not self.head.next: # 1개 짜리 리스트\n",
    "            self.head = None\n",
    "            return\n",
    "        ptr = self.head\n",
    "        pre = None\n",
    "        while ptr.next is not None:\n",
    "            pre = ptr\n",
    "            ptr = ptr.next\n",
    "        pre.next = None\n",
    "        self.no -= 1\n",
    "       \n",
    "## 아래는 수정하지 마시오.\n",
    "my_list = LinkedList()\n",
    "my_list.add_first('D')\n",
    "my_list.add_first('C')\n",
    "my_list.add_first('B')\n",
    "my_list.add_first('A')\n",
    "\n",
    "my_list.print()\n",
    "my_list.remove_last() # 마지막 노드 제거\n",
    "my_list.print()\n",
    "my_list.remove_last() # 마지막 노드 제거\n",
    "my_list.print()\n",
    "my_list.remove_last() # 마지막 노드 제거\n",
    "my_list.print()\n",
    "my_list.remove_last() # 마지막 노드 제거\n",
    "my_list.print()\n"
   ]
  },
  {
   "cell_type": "markdown",
   "metadata": {},
   "source": [
    "---\n",
    "### 문제5\n",
    "\n",
    "LinkedListStack 클래스의 remove_top_odds() 메소드를 작성하시오.\n",
    "\n",
    "remove_top_odds() 메소드는 스택에서 탑에서부터 연속되어 있는 홀수들을 삭제한다.\n",
    "\n",
    "\n",
    "예시) 스택이 `Top: 5->1->3->4->3->1->2` 인 상태에서 remove_top_odds() 메소드를 호출하면,\n",
    "\n",
    "`5, 1, 3` 은 탑에서부터 연속된 홀수들이므로 제거되어 스택에 `Top: 4->3->1->2` 만 남게된다.\n",
    "\n",
    "이 상태에서 다시한번 remove_top_odds() 메소드를 호출하면, top에는 짝수가 있으므로 아무일도 일어나지 않는다.\n",
    "\n",
    "\n",
    "- 파라미터:\n",
    "    - 없음\n",
    "- 리턴:\n",
    "    - 없음\n",
    "- 주의사항:\n",
    "    - 스택에는 항상 양의 정수 데이터만 들어간다고 가정한다.\n",
    "    \n",
    " \n",
    "#### 결과\n",
    "\n",
    "```\n",
    "Top:5->1->3->4->3->1->2\n",
    "Top:4->3->1->2\n",
    "Top:2\n",
    "Top:\n",
    "```"
   ]
  },
  {
   "cell_type": "code",
   "execution_count": 9,
   "metadata": {
    "ExecuteTime": {
     "end_time": "2022-10-23T10:52:29.261315Z",
     "start_time": "2022-10-23T10:52:29.243363Z"
    }
   },
   "outputs": [
    {
     "name": "stdout",
     "output_type": "stream",
     "text": [
      "Top:5->1->3->4->3->1->2\n",
      "Top:4->3->1->2\n",
      "Top:2\n",
      "Top:"
     ]
    }
   ],
   "source": [
    "from __future__ import annotations\n",
    "from typing import Any\n",
    "\n",
    "class Node:\n",
    "    \"\"\"연결 리스트용 노드 클래스\"\"\"\n",
    "\n",
    "    def __init__(self, data: Any = None, next: Node = None):\n",
    "        \"\"\"초기화\"\"\"\n",
    "        self.data = data  # 데이터\n",
    "        self.next = next  # 뒤쪽 포인터\n",
    "\n",
    "\n",
    "class LinkedListStack:\n",
    "    \"\"\"연결리스트를 이용한 스택 클래스\"\"\"\n",
    "\n",
    "    def __init__(self) -> None:\n",
    "        \"\"\"초기화\"\"\"\n",
    "        self.no = 0          # 노드의 개수\n",
    "        self.top = None     # 탑 노드\n",
    "\n",
    "    def __len__(self) -> int:\n",
    "        \"\"\"스택의 크기 반환\"\"\"\n",
    "        return self.no\n",
    "    \n",
    "    def is_empty(self) -> bool:\n",
    "        \"\"\"스택이 비어있는지 확인\"\"\"\n",
    "        return self.top is None\n",
    "\n",
    "    def push(self, data: Any) -> None:\n",
    "        \"\"\"스택에 데이터를 푸시\"\"\"\n",
    "        ptr = self.top  # 푸시 전의 탑 노드\n",
    "        self.top = Node(data, ptr)\n",
    "        self.no += 1\n",
    "        \n",
    "    def pop(self) -> Any:\n",
    "        \"\"\"스택에서 탑에 있는 데이터를 꺼냄(삭제)\"\"\"\n",
    "        if not self.is_empty():  # 스택이 비어 있지 않으면\n",
    "            data = self.top.data\n",
    "            self.top = self.top.next\n",
    "            self.no -= 1\n",
    "            return data\n",
    "        else:\n",
    "            raise IndexError(\"Stack is empty.\")\n",
    "            \n",
    "    def peek(self) -> Any:\n",
    "        \"\"\"스택에서 탑에 있는 데이터를 리턴\"\"\"\n",
    "        if not self.is_empty():\n",
    "            return self.top.data\n",
    "        else:\n",
    "            raise IndexError(\"Stack is empty.\")\n",
    "            \n",
    "    def remove_top_odds(self) -> None:\n",
    "        while not self.is_empty():\n",
    "            temp = self.pop()\n",
    "            if temp % 2 == 0:\n",
    "                self.push(temp)\n",
    "                return\n",
    "            self.no -= 1\n",
    "    \n",
    "    def print(self) -> None:\n",
    "        \"\"\"스택의 모든 데이터를 탑에서 부터 출력\"\"\"\n",
    "        ptr = self.top\n",
    "        print(\"Top:\", end='')\n",
    "        while ptr is not None:\n",
    "            print(ptr.data, end='')\n",
    "            if ptr.next is not None:\n",
    "                print('->', end='')\n",
    "            else:\n",
    "                print()\n",
    "            ptr = ptr.next\n",
    "\n",
    "# 아래는 수정하지 마시오.\n",
    "stack = LinkedListStack()\n",
    "stack.push(2)\n",
    "stack.push(1)\n",
    "stack.push(3)\n",
    "stack.push(4)\n",
    "stack.push(3)\n",
    "stack.push(1)\n",
    "stack.push(5)\n",
    "\n",
    "stack.print()\n",
    "stack.remove_top_odds()\n",
    "stack.print()\n",
    "stack.pop()\n",
    "stack.remove_top_odds()\n",
    "stack.print()\n",
    "stack.pop()\n",
    "stack.remove_top_odds()\n",
    "stack.print()\n"
   ]
  },
  {
   "cell_type": "markdown",
   "metadata": {},
   "source": [
    "---\n",
    "### 문제6\n",
    "\n",
    "reverse_string() 함수를 완성하시오.\n",
    "\n",
    "이 함수는 문자열 input_string 이 뒤집혀진 문자열을 리턴한다.\n",
    "\n",
    "반드시 주어진 스택 클래스 Stack을 사용하여 `스택의 특성을 이용`해서 풀이하시오.\n",
    "\n",
    "- 주의사항) \n",
    "    - 익덱싱이나 슬라이싱을 사용 할 수 없다. (ex. `input_string[i]` 와 같은 인덱싱이나 `input_string[2:]`와 같은 슬라이싱 사용 불가)\n",
    "    - 주어진 스택 클래스를 이용해야 한다.\n",
    "    - 주어진 스택 클래스의 멤버변수를 직접 사용 해서는 안된다.\n",
    "    - reverse() 메소드나 reversed() 함수를 사용할 수 없다.\n",
    "    - 재귀호출을 할 수 없다.\n",
    "    - 새로운 파이썬 리스트 객체를 생성할 수 없다.\n",
    "\n",
    "\n",
    "- 파라미터:\n",
    "    - input_string: 문자열\n",
    "- 리턴:\n",
    "    - 뒤집혀진 문자열\n",
    "\n",
    "\n",
    "#### 결과\n",
    "\n",
    "```\n",
    "CBA\n",
    "!dlroW olleH\n",
    "```"
   ]
  },
  {
   "cell_type": "code",
   "execution_count": 12,
   "metadata": {
    "ExecuteTime": {
     "end_time": "2022-10-21T08:51:54.511660Z",
     "start_time": "2022-10-21T08:51:54.492713Z"
    }
   },
   "outputs": [
    {
     "name": "stdout",
     "output_type": "stream",
     "text": [
      "CBA\n",
      "!dlroW olleH\n"
     ]
    }
   ],
   "source": [
    "# Stack 클래스는 수정하지 마시오.\n",
    "class Stack:\n",
    "    def __init__(self):\n",
    "        self.stack = []\n",
    "    \n",
    "    def __len__(self):\n",
    "        return len(self.stack)\n",
    "\n",
    "    def push(self, item):\n",
    "        self.stack.append(item)\n",
    "\n",
    "    def pop(self):\n",
    "        return self.stack.pop()\n",
    "\n",
    "# Stack 클래스를 이용해서 풀이하시오.\n",
    "def reverse_string(input_string: str) -> int:\n",
    "    stack = Stack()\n",
    "    reversed_string = \"\"\n",
    "    for c in input_string:\n",
    "        stack.push(c)\n",
    "    while stack:\n",
    "        reversed_string += stack.pop()\n",
    "\n",
    "    return reversed_string\n",
    "\n",
    "print(reverse_string('ABC'))\n",
    "print(reverse_string('Hello World!'))"
   ]
  },
  {
   "cell_type": "markdown",
   "metadata": {},
   "source": [
    "### 문제7\n",
    "\n",
    "\n",
    "```\n",
    "어느 왕국의 이웃 나라 외동딸 공주가 숲 속의 괴물에게 잡혀갔습니다.\n",
    "왕국에는 왕자가 N명이 있는데 서로 공주를 구하러 가겠다고 합니다. 왕국의 왕은 다음과 같은 방법으로 공주를 구하러 갈 왕자를 결정하기로 했습니다.\n",
    "\n",
    "왕은 왕자들을 나이 순으로 1번부터 N번까지 차례로 번호를 매기고 1번 왕자부터 N번 왕자까지 순서대로 시계 방향으로 돌아가게 동그랗게 앉게 합니다. 그리고 1번 왕자부터 시계 방향으로 돌아가며 1부터 시작하여 번호를 외치게 합니다. \n",
    "\n",
    "이때 다음 번호를 외치는 왕자는 이전에 외친 왕자에서 시계방향으로 두 칸 뒤에 앉은 왕자입니다.\n",
    "\n",
    "한 왕자가 K(특정 숫자)를 외치면 그 왕자는 공주를 구하러 가는데서 제외되고 원 밖으로 나오게 됩니다. 그리고 다음 왕자부터 다시 1부터 시작하여 번호를 외칩니다.\n",
    "\n",
    "이렇게 해서 마지막까지 남은 왕자가 공주를 구하러 갈 수 있습니다. 제외된 왕자들을 번호를 순서대로 구하시오.\n",
    "\n",
    "n과 k가 주어 졌을 때, 제외된 왕자들의 번호를 순서대로 리스트 형태로 리턴하시오.\n",
    "```\n",
    "\n",
    "- 파라미터:\n",
    "    - n: 양의 정수\n",
    "    - k: 양의 정수\n",
    "- 리턴:\n",
    "    - 제외된 왕자들의 번호가 제외된 순서대로 들어 있는 리스트\n",
    "\n",
    "\n",
    "#### 결과\n",
    "```\n",
    "[1]\n",
    "[1]\n",
    "[3, 1]\n",
    "[1, 3, 4]\n",
    "[5, 1, 3, 4]\n",
    "```"
   ]
  },
  {
   "cell_type": "code",
   "execution_count": 18,
   "metadata": {
    "ExecuteTime": {
     "end_time": "2022-10-21T07:46:16.801692Z",
     "start_time": "2022-10-21T07:46:16.781013Z"
    },
    "scrolled": false
   },
   "outputs": [
    {
     "name": "stdout",
     "output_type": "stream",
     "text": [
      "[1]\n",
      "[1]\n",
      "[3, 1]\n",
      "[1, 3, 4]\n",
      "[5, 1, 3, 4]\n"
     ]
    }
   ],
   "source": [
    "from collections import deque\n",
    "def save_princess(n: int, k: int) -> int:\n",
    "    prince = deque(range(1,n+1))\n",
    "    res = []\n",
    "    c = 0\n",
    "    while len(prince) > 1:        \n",
    "        temp = prince.popleft()\n",
    "        c += 1\n",
    "        if c != k:\n",
    "            prince.append(temp)\n",
    "            prince.append(prince.popleft())\n",
    "        else:\n",
    "            c = 0\n",
    "            res.append(temp)\n",
    "    return res\n",
    "\n",
    "print(save_princess(2, 2))\n",
    "print(save_princess(2, 3))\n",
    "print(save_princess(3, 2))\n",
    "print(save_princess(4, 3))\n",
    "print(save_princess(5, 3))\n",
    "    "
   ]
  },
  {
   "cell_type": "markdown",
   "metadata": {},
   "source": [
    "### 수고하셨습니다.\n",
    "제출후 모든 파일을 반드시 삭제하세요."
   ]
  }
 ],
 "metadata": {
  "kernelspec": {
   "display_name": "Python 3",
   "language": "python",
   "name": "python3"
  },
  "language_info": {
   "codemirror_mode": {
    "name": "ipython",
    "version": 3
   },
   "file_extension": ".py",
   "mimetype": "text/x-python",
   "name": "python",
   "nbconvert_exporter": "python",
   "pygments_lexer": "ipython3",
   "version": "3.10.13"
  },
  "toc": {
   "base_numbering": 1,
   "nav_menu": {},
   "number_sections": true,
   "sideBar": true,
   "skip_h1_title": false,
   "title_cell": "Table of Contents",
   "title_sidebar": "Contents",
   "toc_cell": false,
   "toc_position": {},
   "toc_section_display": true,
   "toc_window_display": false
  }
 },
 "nbformat": 4,
 "nbformat_minor": 4
}
