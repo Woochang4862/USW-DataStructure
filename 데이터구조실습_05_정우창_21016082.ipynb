{
 "cells": [
  {
   "cell_type": "code",
   "execution_count": 1,
   "metadata": {
    "ExecuteTime": {
     "end_time": "2019-09-03T15:10:03.561712Z",
     "start_time": "2019-09-03T15:10:03.552711Z"
    }
   },
   "outputs": [
    {
     "name": "stderr",
     "output_type": "stream",
     "text": [
      "C:\\Users\\YongdeukHwang\\AppData\\Local\\Temp\\ipykernel_2404\\1988860034.py:1: DeprecationWarning: Importing display from IPython.core.display is deprecated since IPython 7.14, please import from IPython display\n",
      "  from IPython.core.display import display, HTML\n"
     ]
    },
    {
     "data": {
      "text/html": [
       "<style>.container { width:95% !important; }</style>"
      ],
      "text/plain": [
       "<IPython.core.display.HTML object>"
      ]
     },
     "metadata": {},
     "output_type": "display_data"
    },
    {
     "data": {
      "text/html": [
       "<style>.input_area pre {font-family: Consolas; font-size: 15pt; line-height: 140%; font-weight: bold}</style>"
      ],
      "text/plain": [
       "<IPython.core.display.HTML object>"
      ]
     },
     "metadata": {},
     "output_type": "display_data"
    },
    {
     "data": {
      "text/html": [
       "<style>.output_area pre {font-family: Consolas; font-size: 15pt; line-height: 140%;}</style>"
      ],
      "text/plain": [
       "<IPython.core.display.HTML object>"
      ]
     },
     "metadata": {},
     "output_type": "display_data"
    }
   ],
   "source": [
    "from IPython.core.display import display, HTML\n",
    "display(HTML(\"<style>.container { width:95% !important; }</style>\"))\n",
    "display(HTML(\"<style>.input_area pre {font-family: Consolas; font-size: 15pt; line-height: 140%; font-weight: bold}</style>\"))\n",
    "display(HTML(\"<style>.output_area pre {font-family: Consolas; font-size: 15pt; line-height: 140%;}</style>\"))\n"
   ]
  },
  {
   "cell_type": "markdown",
   "metadata": {},
   "source": [
    "# 파일 이름에서 '학번'을 자신의 학번으로, '이름'을 자신의 이름으로 고치시오."
   ]
  },
  {
   "cell_type": "code",
   "execution_count": 1,
   "metadata": {},
   "outputs": [],
   "source": [
    "# 이 셀을 실행시키세요.\n",
    "from __future__ import annotations\n",
    "from typing import Any, List, Tuple, Dict"
   ]
  },
  {
   "cell_type": "markdown",
   "metadata": {},
   "source": [
    "# 문제0\n",
    "\n",
    "파라미터 seq 문자열을 뒤집어서 리턴하는 my_reverse() 함수를 작성하시오.\n",
    "\n",
    "단, 반드시 재귀적 방법으로 작성하시오.\n",
    "\n",
    "### 결과\n",
    "```\n",
    "a\n",
    "CBA\n",
    "4321\n",
    "```"
   ]
  },
  {
   "cell_type": "code",
   "execution_count": 2,
   "metadata": {},
   "outputs": [
    {
     "name": "stdout",
     "output_type": "stream",
     "text": [
      "a\n",
      "CBA\n",
      "4321\n"
     ]
    }
   ],
   "source": [
    "def my_reverse(seq: str) -> str:\n",
    "    if len(seq) <= 1:\n",
    "        return seq\n",
    "    return my_reverse(seq[1:])+seq[0]\n",
    "    \n",
    "# 아래는 수정하지 마시오.\n",
    "print(my_reverse('a'))\n",
    "print(my_reverse('ABC'))\n",
    "print(my_reverse('1234'))\n"
   ]
  },
  {
   "cell_type": "markdown",
   "metadata": {},
   "source": [
    "# 문제1\n",
    "\n",
    "LinkedListStack의 push와 pop 메소드를 완성하시오.\n",
    "\n",
    "### 결과\n",
    "```\n",
    "3\n",
    "4\n",
    "5\n",
    "----\n",
    "Top:4->2->1\n",
    "3\n",
    "----\n",
    "Top:\n",
    "```"
   ]
  },
  {
   "cell_type": "code",
   "execution_count": 4,
   "metadata": {},
   "outputs": [
    {
     "name": "stdout",
     "output_type": "stream",
     "text": [
      "3\n",
      "4\n",
      "5\n",
      "----\n",
      "Top:4->2->1\n",
      "5\n",
      "----\n",
      "Top:"
     ]
    }
   ],
   "source": [
    "from __future__ import annotations\n",
    "from typing import Any, List, Tuple, Dict\n",
    "\n",
    "class Node:\n",
    "    \"\"\"연결 리스트용 노드 클래스\"\"\"\n",
    "\n",
    "    def __init__(self, data: Any = None, next: Node = None):\n",
    "        \"\"\"초기화\"\"\"\n",
    "        self.data = data  # 데이터\n",
    "        self.next = next  # 뒤쪽 포인터\n",
    "\n",
    "\n",
    "class LinkedListStack:\n",
    "    \"\"\"연결리스트를 이용한 스택 클래스\"\"\"\n",
    "\n",
    "    def __init__(self) -> None:\n",
    "        \"\"\"초기화\"\"\"\n",
    "        self.no = 0          # 노드의 개수\n",
    "        self.top = None     # 탑 노드\n",
    "\n",
    "    def __len__(self) -> int:\n",
    "        \"\"\"스택의 크기 반환\"\"\"\n",
    "        return self.no\n",
    "    \n",
    "    def is_empty(self) -> bool:\n",
    "        \"\"\"스택이 비어있는지 확인\"\"\"\n",
    "        return self.top is None\n",
    "\n",
    "    def push(self, data: Any) -> None:\n",
    "        \"\"\"스택에 데이터를 푸시\"\"\"\n",
    "        self.top = Node(data, self.top)\n",
    "        self.no += 1\n",
    "        \n",
    "    def pop(self) -> Any:\n",
    "        \"\"\"스택에서 탑에 있는 데이터를 꺼냄(삭제)\"\"\"\n",
    "        if not self.is_empty():  # 스택이 비어 있지 않으면\n",
    "            data = self.top.data\n",
    "            self.top = self.top.next\n",
    "            return data\n",
    "        else:\n",
    "            raise IndexError(\"Stack is empty.\")\n",
    "            \n",
    "    def peek(self) -> Any:\n",
    "        \"\"\"스택에서 탑에 있는 데이터를 반환\"\"\"\n",
    "        if not self.is_empty():\n",
    "            return self.top.data\n",
    "        else:\n",
    "            raise IndexError(\"Stack is empty.\")\n",
    "    \n",
    "    def print(self) -> None:\n",
    "        \"\"\"스택의 모든 데이터를 탑에서 부터 출력\"\"\"\n",
    "        ptr = self.top\n",
    "        print(\"Top:\", end='')\n",
    "        while ptr is not None:\n",
    "            print(ptr.data, end='')\n",
    "            if ptr.next is not None:\n",
    "                print('->', end='')\n",
    "            else:\n",
    "                print()\n",
    "            ptr = ptr.next\n",
    "\n",
    "    def clear(self) -> None:\n",
    "        \"\"\"전체 노드를 삭제\"\"\"\n",
    "        while not self.is_empty():  # 전체가 비어 있게 될 때까지\n",
    "            self.pop() # 팝 연산\n",
    "        self.no = 0\n",
    "        \n",
    "stack = LinkedListStack()\n",
    "stack.push(1)\n",
    "stack.push(2)\n",
    "stack.push(3)\n",
    "print(stack.pop()) # 3\n",
    "stack.push(4)\n",
    "print(stack.peek()) # 4\n",
    "stack.push(5)\n",
    "print(stack.pop()) # 5\n",
    "print(\"----\")\n",
    "stack.print()\n",
    "print(len(stack))\n",
    "print(\"----\")\n",
    "    \n",
    "stack.clear()\n",
    "stack.print()\n",
    "\n"
   ]
  },
  {
   "cell_type": "markdown",
   "metadata": {},
   "source": [
    "# 문제2\n",
    "\n",
    "파이썬 리스트를 이용하여 Stack 클래스를 구현하시오.\n",
    "push, pop, peek 메소드를 완성하시오.\n",
    "\n",
    "### 결과\n",
    "```\n",
    "3\n",
    "4\n",
    "5\n",
    "----\n",
    "[1, 2, 4] :Top\n",
    "3\n",
    "----\n",
    "[] :Top\n",
    "```"
   ]
  },
  {
   "cell_type": "code",
   "execution_count": 6,
   "metadata": {},
   "outputs": [
    {
     "name": "stdout",
     "output_type": "stream",
     "text": [
      "3\n",
      "4\n",
      "5\n",
      "----\n",
      "[1, 2, 4] :Top\n",
      "3\n",
      "----\n",
      "[] :Top\n"
     ]
    }
   ],
   "source": [
    "from __future__ import annotations\n",
    "from typing import Any, List, Tuple, Dict\n",
    "\n",
    "class Stack:\n",
    "    def __init__(self) -> None:\n",
    "        \"\"\"스택 생성자\"\"\"\n",
    "        self.stack = []\n",
    "        \n",
    "    def is_empty(self) -> bool:\n",
    "        \"\"\"스택이 비어있는지 확인\"\"\"\n",
    "        return len(self.stack) == 0\n",
    "    \n",
    "    def pop(self) -> Any:\n",
    "        \"\"\"스택에서 탑에 있는 데이터를 팝\"\"\"\n",
    "        if not self.is_empty():\n",
    "            return self.stack.pop()\n",
    "        else:\n",
    "            raise IndexError(\"Stack is empty.\")\n",
    "    \n",
    "    def push(self, data: Any):\n",
    "        \"\"\"스택에 데이터를 삽입\"\"\"\n",
    "        self.stack.append(data)\n",
    "        \n",
    "    def peek(self) -> Any:\n",
    "        \"\"\"스택에서 탑에 있는 데이터를 리턴\"\"\"\n",
    "        if not self.is_empty():\n",
    "            return self.stack[-1]\n",
    "        else:\n",
    "            raise IndexError(\"Stack is empty.\")\n",
    "            \n",
    "    def print(self) -> None:\n",
    "        \"\"\"스택의 모든 데이터들을 출력\"\"\"\n",
    "        print(f\"{self.stack} :Top\")\n",
    "  \n",
    "    def clear(self) -> None:\n",
    "        \"\"\"스택의 모든 데이터를 삭제\"\"\"\n",
    "        while not self.is_empty():  # 전체가 비어 있게 될 때까지\n",
    "            self.pop() # 팝 연산\n",
    "        \n",
    "    def __len__(self) -> int:\n",
    "        \"\"\"스택의 크기 리턴\"\"\"\n",
    "        return len(self.stack)\n",
    "    \n",
    "# 아래는 수정하지 마시오.\n",
    "stack = Stack()\n",
    "stack.push(1)\n",
    "stack.push(2)\n",
    "stack.push(3)\n",
    "print(stack.pop()) # 3\n",
    "stack.push(4)\n",
    "print(stack.peek()) # 4\n",
    "stack.push(5)\n",
    "print(stack.pop()) # 5\n",
    "print(\"----\")\n",
    "stack.print()\n",
    "print(len(stack))\n",
    "print(\"----\")  \n",
    "stack.clear()\n",
    "stack.print()\n"
   ]
  },
  {
   "cell_type": "markdown",
   "metadata": {},
   "source": [
    "# 문제3\n",
    "\n",
    "check_paren() 함수를 완성하시오.\n",
    "\n",
    "- s: 여러가지 괄호(\"()\", \"[]\", \"{}\")들을 가지고 있는 스트링\n",
    "- return: 입력된 괄호들이 올바른 짝을 이루고 있다면 True를 리턴한다. 그렇지 않으면 False를 리턴한다.\n",
    "\n",
    "### 결과\n",
    "```\n",
    "True\n",
    "True\n",
    "True\n",
    "True\n",
    "False\n",
    "False\n",
    "False\n",
    "False\n",
    "False\n",
    "False\n",
    "```"
   ]
  },
  {
   "cell_type": "code",
   "execution_count": 9,
   "metadata": {
    "ExecuteTime": {
     "end_time": "2019-09-03T15:17:20.681860Z",
     "start_time": "2019-09-03T15:17:20.678869Z"
    },
    "scrolled": true
   },
   "outputs": [
    {
     "name": "stdout",
     "output_type": "stream",
     "text": [
      "True\n",
      "True\n",
      "True\n",
      "True\n",
      "False\n",
      "False\n",
      "False\n",
      "False\n",
      "False\n",
      "False\n"
     ]
    }
   ],
   "source": [
    "def check_parens(s: str) -> bool:\n",
    "    stack = []\n",
    "    for c in s:\n",
    "        if c in ['(','{','[']:\n",
    "            stack.append(c)\n",
    "        else:\n",
    "            try:\n",
    "                temp = stack.pop()\n",
    "                if temp+c in ['()','{}','[]']:\n",
    "                    continue\n",
    "                else:\n",
    "                    return False\n",
    "            except:\n",
    "                return False\n",
    "    return len(stack) == 0\n",
    "\n",
    "#아래는 수정하지 마시오.\n",
    "print(check_parens(\"\"))\n",
    "print(check_parens(\"([])\"))\n",
    "print(check_parens(\"()[]\"))\n",
    "print(check_parens(\"()[()()[]]{()}\"))\n",
    "print(check_parens(\"(()}{[])\"))\n",
    "print(check_parens(\"(\"))\n",
    "print(check_parens(\"]\"))\n",
    "print(check_parens(\"][\"))\n",
    "print(check_parens(\"(]\"))\n",
    "print(check_parens(\"[]((){][])[]\"))"
   ]
  },
  {
   "cell_type": "code",
   "execution_count": null,
   "metadata": {},
   "outputs": [],
   "source": []
  }
 ],
 "metadata": {
  "kernelspec": {
   "display_name": "Python 3",
   "language": "python",
   "name": "python3"
  },
  "language_info": {
   "codemirror_mode": {
    "name": "ipython",
    "version": 3
   },
   "file_extension": ".py",
   "mimetype": "text/x-python",
   "name": "python",
   "nbconvert_exporter": "python",
   "pygments_lexer": "ipython3",
   "version": "3.10.13"
  }
 },
 "nbformat": 4,
 "nbformat_minor": 4
}
