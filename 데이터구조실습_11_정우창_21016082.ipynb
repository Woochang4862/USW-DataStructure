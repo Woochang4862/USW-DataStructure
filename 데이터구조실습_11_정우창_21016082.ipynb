{
 "cells": [
  {
   "cell_type": "code",
   "execution_count": 1,
   "metadata": {
    "ExecuteTime": {
     "end_time": "2019-09-03T15:10:03.561712Z",
     "start_time": "2019-09-03T15:10:03.552711Z"
    }
   },
   "outputs": [
    {
     "data": {
      "text/html": [
       "<style>.container { width:100% !important; }</style>"
      ],
      "text/plain": [
       "<IPython.core.display.HTML object>"
      ]
     },
     "metadata": {},
     "output_type": "display_data"
    },
    {
     "data": {
      "text/html": [
       "<style>\n",
       "div.CodeMirror, div.CodeMirror pre, div.CodeMirror-code,\n",
       "div.output_area pre, div.output_wrapper pre,\n",
       ".text_cell_render, .text_cell_render *\n",
       "{ font-family: Consolas; font-size: 15pt; line-height: 140%;}\n",
       "</style>"
      ],
      "text/plain": [
       "<IPython.core.display.HTML object>"
      ]
     },
     "metadata": {},
     "output_type": "display_data"
    }
   ],
   "source": [
    "from IPython.display import display, HTML, Markdown\n",
    "display(HTML(\"<style>.container { width:100% !important; }</style>\"))\n",
    "display(HTML(\"\"\"<style>\n",
    "div.CodeMirror, div.CodeMirror pre, div.CodeMirror-code,\n",
    "div.output_area pre, div.output_wrapper pre,\n",
    ".text_cell_render, .text_cell_render *\n",
    "{ font-family: Consolas; font-size: 15pt; line-height: 140%;}\n",
    "</style>\"\"\"))"
   ]
  },
  {
   "cell_type": "markdown",
   "metadata": {},
   "source": [
    "# 파일 이름에서 '학번'을 자신의 학번으로, '이름'을 자신의 이름으로 고치시오."
   ]
  },
  {
   "cell_type": "markdown",
   "metadata": {},
   "source": [
    "# 문제1\n",
    "\n",
    "graph_DFS() 를 완성하시오. \n",
    "\n",
    "- 파라미터:\n",
    "    - graph: 인접리스트\n",
    "- 리턴:\n",
    "    - 방문한 순서대로 노드의 키값이 들어 있는 리스트\n",
    "\n",
    "### 결과\n",
    "```\n",
    "[1, 2, 5, 6, 7, 3, 4]\n",
    "```\n"
   ]
  },
  {
   "cell_type": "code",
   "execution_count": 2,
   "metadata": {},
   "outputs": [
    {
     "name": "stdout",
     "output_type": "stream",
     "text": [
      "[1, 2, 5, 6, 7, 3, 4]\n"
     ]
    }
   ],
   "source": [
    "from typing import Any, Dict, List\n",
    "def graph_DFS(graph: Dict[Any, List]) -> List:\n",
    "    result = []\n",
    "    visited = {k:False for k in graph.keys()}\n",
    "    def dfs(start):\n",
    "        result.append(start)\n",
    "        visited[start] = True\n",
    "        for v in graph[start]:\n",
    "            if not visited[v]:\n",
    "                dfs(v)\n",
    "    \n",
    "    for i in graph.keys():\n",
    "        if not visited[i]:\n",
    "            dfs(i)\n",
    "    \n",
    "    return result\n",
    "\n",
    "graph = {\n",
    "    1: [2, 3, 4],\n",
    "    2: [5],\n",
    "    3: [5],\n",
    "    4: [],\n",
    "    5: [6, 7],\n",
    "    6: [],\n",
    "    7: [3],\n",
    "}\n",
    "print(graph_DFS(graph))"
   ]
  },
  {
   "cell_type": "markdown",
   "metadata": {},
   "source": [
    "# 문제2\n",
    "\n",
    "`1`은 지날 갈 수 있는 칸으로 `0`은 지나 갈 수 없는 벽으로 가정한 2D 그리드 맵이 주어졌을 때, (1,1) 에서 출발하여 우측 하단으로 이동할 때 지나야(방문해야 하는) 하는 최소의 칸 수를 구하시오.\n",
    "\n",
    "### 결과\n",
    "```\n",
    "[1, 2, 3, 4, 5, 6, 7]\n",
    "```\n"
   ]
  },
  {
   "cell_type": "code",
   "execution_count": 3,
   "metadata": {
    "scrolled": true
   },
   "outputs": [
    {
     "name": "stdout",
     "output_type": "stream",
     "text": [
      "[1, 2, 3, 4, 5, 6, 7]\n"
     ]
    }
   ],
   "source": [
    "from typing import Any\n",
    "from collections import deque\n",
    "def graph_BFS(graph: Dict[Any, List]) -> None:\n",
    "    order = [] # 방문한 순서대로 노드 저장\n",
    "    visited = {k:False for k in graph} # 노드의 방문 여부 저장\n",
    "    \n",
    "    def bfs(start: Any):\n",
    "        queue = deque([start])\n",
    "        \n",
    "        while queue:\n",
    "            v = queue.popleft()\n",
    "            if not visited[v]:\n",
    "                visited[v] = True\n",
    "                order.append(v)\n",
    "                for vv in graph[v]:\n",
    "                    queue.append(vv)\n",
    "\n",
    "    for i in graph:\n",
    "        if not visited[i]:\n",
    "            bfs(i)\n",
    "    return order\n",
    "\n",
    "graph = {\n",
    "    1: [2, 3, 4],\n",
    "    2: [5],\n",
    "    3: [5],\n",
    "    4: [],\n",
    "    5: [6, 7],\n",
    "    6: [],\n",
    "    7: [3]\n",
    "}\n",
    "print(graph_BFS(graph))"
   ]
  },
  {
   "cell_type": "markdown",
   "metadata": {},
   "source": [
    "# 문제3\n",
    "\n",
    "DFS 를 이용하여 가장 큰 섬의 크기를 리턴하는 max_island_size() 함수를 완성하시오.\n",
    "\n",
    "그리드맵에서 1은 육지이고 0은 물이다. 육지들은 상하좌우만로 연결될 수 있다.\n",
    "\n",
    "- max_island_size() 파라미터:\n",
    "    - grid: 이중리스트로 된 그리드 맵\n",
    "- max_island_size() 리턴: 가장 큰 섬의 크기\n",
    "\n",
    "### 결과\n",
    "```\n",
    "4\n",
    "5\n",
    "```\n"
   ]
  },
  {
   "cell_type": "code",
   "execution_count": 6,
   "metadata": {},
   "outputs": [
    {
     "name": "stdout",
     "output_type": "stream",
     "text": [
      "4\n",
      "5\n"
     ]
    }
   ],
   "source": [
    "from typing import Any\n",
    "\n",
    "def max_island_size(grid: List[List[int]]) -> int:\n",
    "    n_rows = len(grid)\n",
    "    n_cols = len(grid[0])\n",
    "    visited = [[False]*n_cols for _ in range(n_rows)] \n",
    "    \n",
    "    def is_promising(row: int, col: int) -> bool:\n",
    "        \"\"\"grid[row][col]이 유망한지 확인\"\"\"\n",
    "        if 0 <= row < n_rows and 0<=col<n_cols and grid[row][col] == 1 and not visited[row][col]:\n",
    "            return True\n",
    "        else:\n",
    "            return False\n",
    "        \n",
    "    def dfs(row: int, col: int) -> int:\n",
    "        \"\"\"grid[row][col]을 깊이우선탐색하여 방문한 육지의 크기를 리턴\"\"\"\n",
    "        if is_promising(row, col):\n",
    "            visited[row][col] = True\n",
    "            return sum([dfs(row, col+1), dfs(row, col-1), dfs(row+1, col), dfs(row-1, col)])+1        \n",
    "        return 0\n",
    "            \n",
    "    sizes = []\n",
    "    for i in range(n_rows):\n",
    "        for j in range(n_cols):\n",
    "            if is_promising(i, j):\n",
    "                sizes.append(dfs(i, j))\n",
    "    return max(sizes)\n",
    "\n",
    "# 아래는 수정하지 마시오.\n",
    "grid = [\n",
    "    [1,1,0,0,0],\n",
    "    [1,1,0,0,0],\n",
    "    [0,0,1,0,0],\n",
    "    [0,0,0,1,1],\n",
    "]\n",
    "print(max_island_size(grid))\n",
    "\n",
    "grid = [\n",
    "    [1,1,0,0,1],\n",
    "    [1,1,0,0,0],\n",
    "    [0,1,1,1,1],\n",
    "    [0,0,1,1,1],\n",
    "] # 이 경우에 max(...) 를 이용한 풀이는 grid[1][0] 이 빠져서 계산됨 (이유는 분기되는 경우!! 분기된 경우를 더해주지 않으면 해당 경우가 누락되기 때문임)\n",
    "print(max_island_size(grid))"
   ]
  },
  {
   "cell_type": "markdown",
   "metadata": {},
   "source": [
    "# 문제4\n",
    "\n",
    "미로 탈출 문제\n",
    "\n",
    "1을 지날 갈 수 칸으로 0을 벽으로 가정한 2D 그리드 맵이 주어졌을 때, (1,1) 에서 출발하여 우측 하단으로 이동할 때 지나야 하는 최소의 칸 수를 구하시오.\n",
    "\n",
    "### 결과\n",
    "```\n",
    "5\n",
    "15\n",
    "```"
   ]
  },
  {
   "cell_type": "code",
   "execution_count": null,
   "metadata": {},
   "outputs": [],
   "source": [
    "from typing import Any, List\n",
    "from collections import deque\n",
    "def miro(grid:List[List]) -> int:\n",
    "    n_rows = len(grid)\n",
    "    n_cols = len(grid[0])\n",
    "    visited = [[0]*n_cols for _ in range(n_rows)] # 지나간 칸 수를 저장\n",
    "    \n",
    "    start_pos = (0, 0) # 시작 위치\n",
    "    target_pos = (n_rows-1, n_cols-1) # 목표 위치\n",
    "    visited[0][0] = 1 # 시작 위치는 이미 지났다\n",
    "    dxdy = [(0,1), (0,-1), (1,0), (-1,0)] # 동서남북 방향\n",
    "    queue = deque()\n",
    "    \n",
    "    def is_promising(row: int, col: int) -> bool:\n",
    "        \"\"\"grid[row][col]이 유망한지 확인\"\"\"\n",
    "        if 0 <= row < n_rows and 0 <= col < n_cols and \\\n",
    "            grid[row][col] == 1 and visited[row][col] == 0:\n",
    "            return True\n",
    "        else:\n",
    "            return False\n",
    "    \n",
    "    queue.append(start_pos)\n",
    "    while queue:\n",
    "        x, y = queue.popleft()\n",
    "        if (x,y) == target_pos:\n",
    "            return visited[x][y]\n",
    "        for dx, dy in dxdy:\n",
    "            nx, ny = x+dx, y+dy\n",
    "            if is_promising(nx, ny):\n",
    "                visited[nx][ny] = visited[x][y] + 1\n",
    "                queue.append((nx,ny))\n",
    "\n",
    "    return -1 # 목표까지 가지 못함\n",
    "\n",
    "# 아래는 수정하지 마시오.\n",
    "grid = [\n",
    "    [1,0,1],\n",
    "    [1,1,1],\n",
    "    [1,0,1],\n",
    "]\n",
    "print(miro(grid))\n",
    "\n",
    "grid = [\n",
    "    [1,0,1,1,1,1],\n",
    "    [1,0,1,0,1,0],\n",
    "    [1,0,1,0,1,1],\n",
    "    [1,1,1,0,1,1],\n",
    "]\n",
    "print(miro(grid))"
   ]
  }
 ],
 "metadata": {
  "kernelspec": {
   "display_name": "Python 3",
   "language": "python",
   "name": "python3"
  },
  "language_info": {
   "codemirror_mode": {
    "name": "ipython",
    "version": 3
   },
   "file_extension": ".py",
   "mimetype": "text/x-python",
   "name": "python",
   "nbconvert_exporter": "python",
   "pygments_lexer": "ipython3",
   "version": "3.8.3"
  }
 },
 "nbformat": 4,
 "nbformat_minor": 4
}
