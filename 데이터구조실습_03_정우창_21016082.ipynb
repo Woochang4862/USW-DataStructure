{
 "cells": [
  {
   "cell_type": "code",
   "execution_count": null,
   "metadata": {
    "ExecuteTime": {
     "end_time": "2019-09-03T15:10:03.561712Z",
     "start_time": "2019-09-03T15:10:03.552711Z"
    }
   },
   "outputs": [
    {
     "data": {
      "text/html": [
       "<style>.container { width:95% !important; }</style>"
      ],
      "text/plain": [
       "<IPython.core.display.HTML object>"
      ]
     },
     "metadata": {},
     "output_type": "display_data"
    },
    {
     "data": {
      "text/html": [
       "<style>.input_area pre {font-family: Consolas; font-size: 15pt; line-height: 140%; font-weight: bold}</style>"
      ],
      "text/plain": [
       "<IPython.core.display.HTML object>"
      ]
     },
     "metadata": {},
     "output_type": "display_data"
    },
    {
     "data": {
      "text/html": [
       "<style>.output_area pre {font-family: Consolas; font-size: 15pt; line-height: 140%;}</style>"
      ],
      "text/plain": [
       "<IPython.core.display.HTML object>"
      ]
     },
     "metadata": {},
     "output_type": "display_data"
    }
   ],
   "source": [
    "from IPython.core.display import display, HTML\n",
    "display(HTML(\"<style>.container { width:95% !important; }</style>\"))\n",
    "display(HTML(\"<style>.input_area pre {font-family: Consolas; font-size: 15pt; line-height: 140%; font-weight: bold}</style>\"))\n",
    "display(HTML(\"<style>.output_area pre {font-family: Consolas; font-size: 15pt; line-height: 140%;}</style>\"))\n"
   ]
  },
  {
   "cell_type": "markdown",
   "metadata": {},
   "source": [
    "# 파일 이름에서 '학번'을 자신의 학번으로, '이름'을 자신의 이름으로 고치시오."
   ]
  },
  {
   "cell_type": "code",
   "execution_count": null,
   "metadata": {},
   "outputs": [],
   "source": [
    "# 이 셀을 실행시키세요.\n",
    "from __future__ import annotations\n",
    "from typing import Any"
   ]
  },
  {
   "cell_type": "markdown",
   "metadata": {},
   "source": [
    "# 문제1\n",
    "\n",
    "재귀적 방법을 이용하여 아래 출력결과가 나오도록 my_stars() 함수를 작성하시오.\n",
    "\n",
    "line_num은 별들을 출력하는 라인수이다.\n",
    "\n",
    "\n",
    "### 결과\n",
    "```\n",
    "*\n",
    "**\n",
    "***\n",
    "-----\n",
    "*\n",
    "**\n",
    "***\n",
    "****\n",
    "*****\n",
    "******\n",
    "```"
   ]
  },
  {
   "cell_type": "code",
   "execution_count": 1,
   "metadata": {},
   "outputs": [
    {
     "name": "stdout",
     "output_type": "stream",
     "text": [
      "*\n",
      "**\n",
      "***\n",
      "-----\n",
      "*\n",
      "**\n",
      "***\n",
      "****\n",
      "*****\n",
      "******\n"
     ]
    }
   ],
   "source": [
    "def my_stars(line_num: int) -> None:\n",
    "    if line_num != 0:\n",
    "        my_stars(line_num-1)\n",
    "        print('*'*line_num)\n",
    "\n",
    "# 아래는 수정하지 마시오.\n",
    "my_stars(3) # 3 층 별탑을 그린다.\n",
    "print(\"-----\")\n",
    "my_stars(6) # 6 층 별탑을 그린다."
   ]
  },
  {
   "cell_type": "markdown",
   "metadata": {},
   "source": [
    "# 문제2\n",
    "\n",
    "재귀적 방법을 이용하여 strs의 원소들의 길이 구하여 리스트 형태로 리턴하는 함수를 작성하시오.\n",
    "\n",
    "### 결과\n",
    "```\n",
    "[1, 3, 1]\n",
    "[2, 3]\n",
    "```"
   ]
  },
  {
   "cell_type": "code",
   "execution_count": 12,
   "metadata": {
    "ExecuteTime": {
     "end_time": "2019-09-03T15:17:20.681860Z",
     "start_time": "2019-09-03T15:17:20.678869Z"
    }
   },
   "outputs": [
    {
     "name": "stdout",
     "output_type": "stream",
     "text": [
      "[1, 3, 1]\n",
      "[2, 3]\n"
     ]
    }
   ],
   "source": [
    "def string_lengths(strs: list[str]) -> list[int]:\n",
    "    if len(strs) == 1:\n",
    "        return [len(strs[0])]\n",
    "    return [len(strs[0]), *string_lengths(strs[1:])]\n",
    "\n",
    "# 아래는 수정하지 마시오.\n",
    "print(string_lengths(['a', 'abc', 'b']))\n",
    "print(string_lengths(['ab', 'TTT']))"
   ]
  },
  {
   "cell_type": "markdown",
   "metadata": {},
   "source": [
    "# 문제3\n",
    "\n",
    "head를 이용하여 A노드와 C노드 사이에 B노드를 삽입하시오.\n",
    "\n",
    "### 결과\n",
    "```\n",
    "A\n",
    "B\n",
    "C\n",
    "```"
   ]
  },
  {
   "cell_type": "code",
   "execution_count": 21,
   "metadata": {
    "ExecuteTime": {
     "end_time": "2021-09-07T06:01:24.443164Z",
     "start_time": "2021-09-07T06:01:24.430198Z"
    }
   },
   "outputs": [
    {
     "name": "stdout",
     "output_type": "stream",
     "text": [
      "A\n",
      "B\n",
      "C\n"
     ]
    }
   ],
   "source": [
    "\n",
    "from typing import Any\n",
    "\n",
    "class Node:\n",
    "    \"\"\"연결 리스트용 노드 클래스\"\"\"\n",
    "    \n",
    "    def __init__(self, data : Any = None, next: Node = None) -> None:\n",
    "        \"\"\"초기화\"\"\"\n",
    "        self.data = data  # 데이터\n",
    "        self.next = next  # 뒤쪽 포인터\n",
    "        \n",
    "#수정불가------------\n",
    "n1 = Node('C')\n",
    "n0 = Node('A', n1)\n",
    "head = n0\n",
    "#--------------------\n",
    "\n",
    "\n",
    "# 아래를 수정하시오.  head를 이용하여 A노드와 C노드 사이에 B노드를 삽입하시오.\n",
    "head.next = Node('B', head.next)\n",
    "\n",
    "# 아래는 수정하지 마시오.\n",
    "print(head.data)\n",
    "print(head.next.data)\n",
    "print(head.next.next.data)\n",
    "\n"
   ]
  },
  {
   "cell_type": "markdown",
   "metadata": {},
   "source": [
    "# 문제4\n",
    "\n",
    "LinkedList 클래스의 add_first() 함수를 구현하시오.\n",
    "\n",
    "### 결과\n",
    "```\n",
    "C->B->A\n",
    "Length of my_list: 3\n",
    "```"
   ]
  },
  {
   "cell_type": "code",
   "execution_count": 22,
   "metadata": {
    "ExecuteTime": {
     "end_time": "2021-09-07T06:02:03.424884Z",
     "start_time": "2021-09-07T06:02:03.420895Z"
    }
   },
   "outputs": [
    {
     "name": "stdout",
     "output_type": "stream",
     "text": [
      "C->B->A\n",
      "Length of my_list: 3\n"
     ]
    }
   ],
   "source": [
    "from __future__ import annotations\n",
    "from typing import Any\n",
    "\n",
    "class Node:\n",
    "    \"\"\"연결 리스트용 노드 클래스\"\"\"\n",
    "\n",
    "    def __init__(self, data: Any = None, next: Node = None):\n",
    "        \"\"\"초기화\"\"\"\n",
    "        self.data = data  # 데이터\n",
    "        self.next = next  # 뒤쪽 포인터\n",
    "\n",
    "\n",
    "class LinkedList:\n",
    "    \"\"\"연결 리스트 클래스\"\"\"\n",
    "\n",
    "    def __init__(self) -> None:\n",
    "        \"\"\"초기화\"\"\"\n",
    "        self.no = 0          # 노드의 개수\n",
    "        self.head = None     # 머리 노드\n",
    "\n",
    "    def __len__(self) -> int:\n",
    "        \"\"\"연결 리스트의 노드 개수를 반환\"\"\"\n",
    "        return self.no\n",
    "\n",
    "    def add_first(self, data: Any) -> None:\n",
    "        \"\"\"맨 앞에 노드를 삽입\"\"\"\n",
    "        self.no += 1\n",
    "        self.head = Node(data,self.head)\n",
    "\n",
    "    def print(self) -> None:\n",
    "        \"\"\"모든 노드를 출력\"\"\"\n",
    "        ptr = self.head\n",
    "\n",
    "        while ptr is not None:\n",
    "            print(ptr.data, end='')\n",
    "            if ptr.next is not None:\n",
    "                print('->', end='')\n",
    "            else:\n",
    "                print()\n",
    "            ptr = ptr.next\n",
    "\n",
    "# 아래는 수정하지 마시오.\n",
    "my_list = LinkedList()\n",
    "\n",
    "my_list.add_first('A')\n",
    "my_list.add_first('B')\n",
    "my_list.add_first('C')\n",
    "\n",
    "my_list.print()\n",
    "print(f\"Length of my_list: {len(my_list)}\")"
   ]
  },
  {
   "cell_type": "markdown",
   "metadata": {},
   "source": [
    "# 문제5\n",
    "\n",
    "LinkedList 클래스의 `add_last(), search(), __contains__()` 메소드를 구현하시오.\n",
    "\n",
    "### 결과\n",
    "```\n",
    "1->2->3->4\n",
    "2\n",
    "-1\n",
    "True\n",
    "False\n",
    "```"
   ]
  },
  {
   "cell_type": "code",
   "execution_count": 20,
   "metadata": {
    "ExecuteTime": {
     "end_time": "2021-09-07T06:02:00.994377Z",
     "start_time": "2021-09-07T06:02:00.981371Z"
    },
    "scrolled": true
   },
   "outputs": [
    {
     "name": "stdout",
     "output_type": "stream",
     "text": [
      "1->2->3->4\n",
      "2\n",
      "-1\n",
      "True\n",
      "False\n"
     ]
    }
   ],
   "source": [
    "from __future__ import annotations\n",
    "from typing import Any\n",
    "\n",
    "class Node:\n",
    "    \"\"\"연결 리스트용 노드 클래스\"\"\"\n",
    "\n",
    "    def __init__(self, data: Any = None, next: Node = None):\n",
    "        \"\"\"초기화\"\"\"\n",
    "        self.data = data  # 데이터\n",
    "        self.next = next  # 뒤쪽 포인터\n",
    "\n",
    "\n",
    "class LinkedList:\n",
    "    \"\"\"연결 리스트 클래스\"\"\"\n",
    "\n",
    "    def __init__(self) -> None:\n",
    "        \"\"\"초기화\"\"\"\n",
    "        self.no = 0          # 노드의 개수\n",
    "        self.head = None     # 머리 노드\n",
    "\n",
    "    def __len__(self) -> int:\n",
    "        \"\"\"연결 리스트의 노드 개수를 반환\"\"\"\n",
    "        return self.no\n",
    "\n",
    "    def add_first(self, data: Any) -> None:\n",
    "        ptr = self.head  # 삽입 전의 머리 노드\n",
    "        self.head = Node(data, ptr)\n",
    "        self.no += 1\n",
    "    \n",
    "    def add_last(self, data: Any) -> None:\n",
    "        \"\"\"맨 끝에 노드를 삽입\"\"\"\n",
    "        self.no += 1\n",
    "        if self.head is None :    # 리스트가 비어 있으면\n",
    "            self.add_first(data)\n",
    "        else:\n",
    "            ptr = self.head\n",
    "            \n",
    "            while ptr.next is not None:\n",
    "                ptr = ptr.next\n",
    "            \n",
    "            ptr.next = Node(data)\n",
    "\n",
    "    def print(self) -> None:\n",
    "        \"\"\"모든 노드를 출력\"\"\"\n",
    "        ptr = self.head\n",
    "\n",
    "        while ptr is not None:\n",
    "            print(ptr.data, end='')\n",
    "            if ptr.next is not None:\n",
    "                print('->', end='')\n",
    "            else:\n",
    "                print()\n",
    "            ptr = ptr.next\n",
    "    \n",
    "    def search(self, data: Any) -> int:\n",
    "        \"\"\"data와 값이 같은 노드를 검색\"\"\"\n",
    "        idx = 0\n",
    "        ptr = self.head\n",
    "        \n",
    "        while ptr is not None:\n",
    "            if ptr.data == data:\n",
    "                return idx\n",
    "            idx += 1\n",
    "            ptr = ptr.next\n",
    "        return -1\n",
    "    \n",
    "    def __contains__(self, data: Any) -> bool:\n",
    "        \"\"\"연결 리스트에 data가 포함되어 있는가?\"\"\"\n",
    "        ptr = self.head\n",
    "        \n",
    "        while ptr is not None:\n",
    "            if ptr.data == data:\n",
    "                return True\n",
    "            ptr = ptr.next\n",
    "\n",
    "# 아래는 수정하지 마시오.\n",
    "my_list = LinkedList()\n",
    "my_list.add_last(1)\n",
    "my_list.add_last(2)\n",
    "my_list.add_last(3)\n",
    "my_list.add_last(4)\n",
    "\n",
    "my_list.print()\n",
    "\n",
    "print(my_list.search(3))\n",
    "print(my_list.search(0))\n",
    "\n",
    "print(3 in my_list)\n",
    "print(0 in my_list)"
   ]
  }
 ],
 "metadata": {
  "kernelspec": {
   "display_name": "Python 3 (ipykernel)",
   "language": "python",
   "name": "python3"
  },
  "language_info": {
   "codemirror_mode": {
    "name": "ipython",
    "version": 3
   },
   "file_extension": ".py",
   "mimetype": "text/x-python",
   "name": "python",
   "nbconvert_exporter": "python",
   "pygments_lexer": "ipython3",
   "version": "3.10.13"
  }
 },
 "nbformat": 4,
 "nbformat_minor": 4
}
