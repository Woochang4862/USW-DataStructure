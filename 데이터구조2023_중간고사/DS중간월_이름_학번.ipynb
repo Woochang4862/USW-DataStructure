{
 "cells": [
  {
   "cell_type": "code",
   "execution_count": null,
   "metadata": {
    "ExecuteTime": {
     "end_time": "2019-10-22T17:32:30.287581Z",
     "start_time": "2019-10-22T17:32:30.281598Z"
    }
   },
   "outputs": [],
   "source": [
    "from IPython.display import display, HTML, Markdown\n",
    "display(HTML(\"<style>.container { width:100% !important; }</style>\"))\n",
    "display(HTML(\"\"\"<style>\n",
    "div.CodeMirror, div.CodeMirror pre, div.CodeMirror-code,\n",
    "div.output_area pre, div.output_wrapper pre,\n",
    ".text_cell_render, .text_cell_render *\n",
    "{ font-family: Consolas; font-size: 15pt; line-height: 140%;}\n",
    "</style>\"\"\"))"
   ]
  },
  {
   "cell_type": "markdown",
   "metadata": {},
   "source": [
    "# << 2023 데이터구조 (월) 중간고사 >>\n",
    "\n",
    "\n",
    "- 주의 사항\n",
    "    1. 시험시간 14:40 ~ 16:00\n",
    "    1. 부분점수는 없습니다.\n",
    "    1. 휴대폰의 전원을 끄세요.\n",
    "    1. 개인 전자기기를 사용할 수 없습니다.\n",
    "    1. closed book\n",
    "        1. 모든 인터넷을 사용할 수 없습니다.\n",
    "        1. 모든 자료를 볼 수 없습니다.\n",
    "    1. 수시로 저장하세요.\n",
    "    1. 셀을 실행시켰을 때, 멈추지 않는다면, 주피터노트북 메뉴에 있는 정지버튼을 누르거나 Kernel 메뉴에서 restart를 누르세요.\n",
    "        - 그래도 동작하지 않는 경우에는 주피터노트북을 다시 시작하세요.\n",
    "- 제출 방법\n",
    "    1. 단 한번만 제출 할 수 있습니다.\n",
    "        1. 다시 제출해야 할 경우 시험 감독에게 문의하세요.\n",
    "    1. `잘못된 파일을 제출했을 경우 기본 점수로 채점됩니다.`\n",
    "    1. 파일 이름에서 '학번'을 자신의 학번으로, '이름'을 자신의 이름으로 고치시오.\n",
    "    1. 캔버스에 주피터노트북 파일(.ipynb)을 제출하세요.\n",
    "        1. 캔버스 사용이 불가능한 경우, 이메일로 아래 주소로 제출 하세요.\n",
    "            - ydhwang@suwon.ac.kr\n",
    "            - 메일제목: `[데이터구조] 홍길동`\n",
    "    1. `제출후 모든 파일을 반드시 삭제하세요.`\n"
   ]
  },
  {
   "cell_type": "markdown",
   "metadata": {},
   "source": [
    "## 아래 셀을 실행시키시오."
   ]
  },
  {
   "cell_type": "code",
   "execution_count": 1,
   "metadata": {
    "ExecuteTime": {
     "end_time": "2022-10-22T12:46:08.908614Z",
     "start_time": "2022-10-22T12:46:08.887834Z"
    }
   },
   "outputs": [
    {
     "name": "stdout",
     "output_type": "stream",
     "text": [
      "Time: 20:19:53\n",
      "IP address: 127.0.0.1\n"
     ]
    }
   ],
   "source": [
    "# 이 셀을 실행시키세요.\n",
    "from __future__ import annotations\n",
    "from typing import Any\n",
    "from collections import deque\n",
    "from datetime import datetime\n",
    "import socket\n",
    "now = datetime.now()\n",
    "current_time = now.strftime(\"%H:%M:%S\")\n",
    "print(f\"Time: {current_time}\")\n",
    "print(f\"IP address: {socket.gethostbyname(socket.gethostname())}\")\n",
    "class Node:\n",
    "    pass"
   ]
  },
  {
   "cell_type": "markdown",
   "metadata": {
    "ExecuteTime": {
     "end_time": "2019-10-22T07:55:36.236793Z",
     "start_time": "2019-10-22T07:55:36.231780Z"
    }
   },
   "source": [
    "---\n",
    "# 주관식 문제\n",
    "\n",
    "- 문제당 6점"
   ]
  },
  {
   "cell_type": "markdown",
   "metadata": {},
   "source": [
    "---\n",
    "### 문제1\n",
    "\n",
    "이것은 알고리즘이 실행되는 동안에 사용된 기본적인 연산횟수를 입력 크기의 함수로 나타낸 것이다. 이것은 무엇인가?"
   ]
  },
  {
   "cell_type": "code",
   "execution_count": null,
   "metadata": {
    "ExecuteTime": {
     "end_time": "2022-10-23T11:14:15.493669Z",
     "start_time": "2022-10-23T11:14:15.488682Z"
    }
   },
   "outputs": [],
   "source": [
    "print(\"점근표기법\")"
   ]
  },
  {
   "cell_type": "markdown",
   "metadata": {},
   "source": [
    "---\n",
    "### 문제2\n",
    "\n",
    "아래 문제와 이 문제를 풀기위한 알고리즘이 주어졌을때 최선의 경우에 시간복잡도를 빅오표기법으로 표기하시오.\n",
    "\n",
    "- 문제: N개의 서로 다른 숫자가 들어 있는 배열이 있다.  3이 있는 위치를 찾아라.\n",
    "\n",
    "- 알고리즘: 제일 왼쪽에서 부터  순차적으로 3이 있는지 확인.\n"
   ]
  },
  {
   "cell_type": "code",
   "execution_count": null,
   "metadata": {
    "ExecuteTime": {
     "end_time": "2022-10-23T11:14:06.271791Z",
     "start_time": "2022-10-23T11:14:06.254809Z"
    },
    "scrolled": true
   },
   "outputs": [],
   "source": [
    "print(\"O(N)\")"
   ]
  },
  {
   "cell_type": "markdown",
   "metadata": {},
   "source": [
    "---\n",
    "### 문제3\n",
    "\n",
    "아래 알고리즘의 수행시간을 빅오표기법으로 표현하시오.\n",
    "\n",
    "my_list 는 N개의 숫자가 들어 있는 리스트이다.\n",
    "\n",
    "```python\n",
    "def fun(my_list):\n",
    "    r = 0\n",
    "    for i in my_list:\n",
    "        r = r + i\n",
    "        if i > 0:\n",
    "            break\n",
    "```"
   ]
  },
  {
   "cell_type": "code",
   "execution_count": null,
   "metadata": {
    "ExecuteTime": {
     "end_time": "2022-10-23T11:39:13.225750Z",
     "start_time": "2022-10-23T11:39:13.218739Z"
    }
   },
   "outputs": [],
   "source": [
    "print(\"O(1)\")"
   ]
  },
  {
   "cell_type": "markdown",
   "metadata": {},
   "source": [
    "---\n",
    "### 문제4\n",
    "\n",
    "스택자료구조의 특징인 `LIFO` 를 영어로 풀어쓰시오.\n"
   ]
  },
  {
   "cell_type": "code",
   "execution_count": null,
   "metadata": {
    "ExecuteTime": {
     "end_time": "2022-10-23T13:21:07.667604Z",
     "start_time": "2022-10-23T13:21:07.655606Z"
    }
   },
   "outputs": [],
   "source": [
    "print(\"Last In First Out\")"
   ]
  },
  {
   "cell_type": "markdown",
   "metadata": {},
   "source": [
    "---\n",
    "### 문제5\n",
    "\n",
    "덱 자료구조에서 front 데이터(가장 앞에 있는 데이터)를 삭제하는 연산의 시간복잡도를 빅오표기법으로 쓰시오."
   ]
  },
  {
   "cell_type": "code",
   "execution_count": null,
   "metadata": {
    "ExecuteTime": {
     "end_time": "2022-10-23T13:23:59.535681Z",
     "start_time": "2022-10-23T13:23:59.527820Z"
    },
    "scrolled": true
   },
   "outputs": [],
   "source": [
    "print(\"O(1)\")"
   ]
  },
  {
   "cell_type": "markdown",
   "metadata": {},
   "source": [
    "----\n",
    "# O,X 문제\n",
    "1. 맞으면 `O`, 틀리면 `X`를 `print()`를 이용하여 출력하시오.\n",
    "1. 배점: 문제를 맞추면 6점, 비워두면 3점, 틀리면 0점"
   ]
  },
  {
   "cell_type": "markdown",
   "metadata": {},
   "source": [
    "---\n",
    "### 문제1\n",
    "\n",
    "아래는 식은 참이다.\n",
    "\n",
    "$3N^{2}+logN+2^N+2 = O(N^{2})$"
   ]
  },
  {
   "cell_type": "code",
   "execution_count": null,
   "metadata": {
    "ExecuteTime": {
     "end_time": "2022-10-23T11:11:19.811986Z",
     "start_time": "2022-10-23T11:11:19.798023Z"
    },
    "scrolled": true
   },
   "outputs": [],
   "source": [
    "print(\"X\")"
   ]
  },
  {
   "attachments": {
    "image.png": {
     "image/png": "[encoded data removed]"
    }
   },
   "cell_type": "markdown",
   "metadata": {},
   "source": [
    "---\n",
    "### 문제2\n",
    "\n",
    "![image.png](attachment:image.png)\n",
    "\n",
    "위 함수를 이용하여 factorial(5) 를 호출하여 5팩토리얼 값을 리턴 받았고 가정하자.\n",
    "\n",
    "factorial(5) 계산 과정에서 factorial(2)이 factorial(3)보다 먼저 리턴되었다."
   ]
  },
  {
   "cell_type": "code",
   "execution_count": null,
   "metadata": {
    "ExecuteTime": {
     "end_time": "2020-10-20T04:43:04.772725Z",
     "start_time": "2020-10-20T04:43:04.765744Z"
    }
   },
   "outputs": [],
   "source": [
    "print(\"O\")"
   ]
  },
  {
   "cell_type": "markdown",
   "metadata": {},
   "source": [
    "---\n",
    "### 문제3\n",
    "\n",
    "파라미터 N이 양의 정수 일때, 다음 함수의 시간복잡도는 O(N) 이다. \n",
    "\n",
    "```python\n",
    "def my_fun(N):\n",
    "    s = list(range(N))\n",
    "    while len(s) > 1:\n",
    "        s.pop(0)\n",
    "    return s[0]\n",
    "```\n",
    "\n"
   ]
  },
  {
   "cell_type": "code",
   "execution_count": null,
   "metadata": {
    "ExecuteTime": {
     "end_time": "2022-10-23T11:30:45.873721Z",
     "start_time": "2022-10-23T11:30:45.864744Z"
    }
   },
   "outputs": [],
   "source": [
    "print(\"O(N)\")"
   ]
  },
  {
   "cell_type": "markdown",
   "metadata": {},
   "source": [
    "---\n",
    "### 문제4\n",
    "\n",
    "스택 자료구조에서 top은 가장 최근에 삽입된 데이터이다."
   ]
  },
  {
   "cell_type": "code",
   "execution_count": null,
   "metadata": {
    "ExecuteTime": {
     "end_time": "2022-10-23T11:32:00.551719Z",
     "start_time": "2022-10-23T11:32:00.534765Z"
    },
    "scrolled": true
   },
   "outputs": [],
   "source": [
    "print(\"O\")"
   ]
  },
  {
   "cell_type": "markdown",
   "metadata": {},
   "source": [
    "---\n",
    "### 문제5\n",
    "\n",
    "큐 자료구조에서 가장 예전에 들어온 원소는 Front 이다."
   ]
  },
  {
   "cell_type": "code",
   "execution_count": null,
   "metadata": {
    "ExecuteTime": {
     "end_time": "2022-10-23T11:36:37.081669Z",
     "start_time": "2022-10-23T11:36:37.075685Z"
    },
    "scrolled": true
   },
   "outputs": [],
   "source": [
    "print(\"O\")"
   ]
  },
  {
   "cell_type": "markdown",
   "metadata": {},
   "source": [
    "---\n",
    "\n",
    "# 코딩 문제\n",
    "\n",
    "- 문제당 13점\n"
   ]
  },
  {
   "cell_type": "markdown",
   "metadata": {},
   "source": [
    "---\n",
    "### 문제1\n",
    "\n",
    "구구단 중에서 n단의 결과를 리스트 형태로 리턴하는 함수를 작성하시오.\n",
    "\n",
    "예시) n=3 인 경우,\n",
    "\n",
    "구구단에서 3단의 결과인 `[3, 6, 9, 12, 15, 18, 21, 24, 27]` 를 리턴한다.\n",
    "\n",
    "- 파라미터:\n",
    "    - n: 양의 정수\n",
    "- 리턴:\n",
    "    - 숫자들이 들어 있는 리스트\n",
    "    \n",
    "#### 결과\n",
    "\n",
    "```\n",
    "[3, 6, 9, 12, 15, 18, 21, 24, 27]\n",
    "[5, 10, 15, 20, 25, 30, 35, 40, 45]\n",
    "[8, 16, 24, 32, 40, 48, 56, 64, 72]\n",
    "```\n",
    "\n"
   ]
  },
  {
   "cell_type": "code",
   "execution_count": 2,
   "metadata": {
    "ExecuteTime": {
     "end_time": "2022-10-22T12:48:23.079295Z",
     "start_time": "2022-10-22T12:48:23.063285Z"
    }
   },
   "outputs": [
    {
     "name": "stdout",
     "output_type": "stream",
     "text": [
      "[3, 6, 9, 12, 15, 18, 21, 24, 27]\n",
      "[5, 10, 15, 20, 25, 30, 35, 40, 45]\n",
      "[8, 16, 24, 32, 40, 48, 56, 64, 72]\n"
     ]
    }
   ],
   "source": [
    "def my_gugu2(n):\n",
    "    return [n*i for i in range(1,10)]\n",
    "\n",
    "## 아래는 수정하지 마시오.\n",
    "print(my_gugu2(3)) # 2단의 결과 리턴\n",
    "print(my_gugu2(5)) # 5단의 결과 리턴\n",
    "print(my_gugu2(8)) # 8단의 결과 리턴"
   ]
  },
  {
   "cell_type": "markdown",
   "metadata": {},
   "source": [
    "---\n",
    "### 문제2\n",
    "\n",
    "MyNum 클래스를 완성하시오.\n",
    "\n",
    "- 만들어야 하는 메소드\n",
    "    - 생성자\n",
    "        - 파라미터\n",
    "            - value: 객체를 생성할 때 가지는 초기값\n",
    "    - double():\n",
    "        - 설명: 객체가 가지고 있는 값을 두배로 증가시킨다.\n",
    "        - 파라미터: 없음\n",
    "        - 리턴: 없음\n",
    "    - get_value():\n",
    "        - 설명: 객체가 가지고 있는 값을 리턴한다.\n",
    "        - 파라미터: 없음\n",
    "        - 리턴: 정수\n",
    "\n",
    "#### 결과\n",
    "\n",
    "```\n",
    "4\n",
    "8\n",
    "16\n",
    "```"
   ]
  },
  {
   "cell_type": "code",
   "execution_count": 4,
   "metadata": {
    "ExecuteTime": {
     "end_time": "2022-10-22T13:11:33.530721Z",
     "start_time": "2022-10-22T13:11:33.525703Z"
    }
   },
   "outputs": [
    {
     "name": "stdout",
     "output_type": "stream",
     "text": [
      "4\n",
      "8\n",
      "16\n"
     ]
    }
   ],
   "source": [
    "## MyNum 클래스를 작성하시오.\n",
    "class MyNum:\n",
    "    def __init__(self, value):\n",
    "        self.value = value\n",
    "    def double(self):\n",
    "        self.value *= 2\n",
    "    def get_value(self):\n",
    "        return self.value\n",
    "\n",
    "## 아래는 수정하지 마시오.\n",
    "mn = MyNum(2) # 초기값 2를 가지는 MyNum 객체 생성\n",
    "\n",
    "mn.double() # 값을 두배로 증가시킨다.\n",
    "print(mn.get_value()) # 객체의 값을 출력\n",
    "mn.double()\n",
    "print(mn.get_value())\n",
    "mn.double()\n",
    "print(mn.get_value())"
   ]
  },
  {
   "cell_type": "markdown",
   "metadata": {},
   "source": [
    "---\n",
    "### 문제3\n",
    "\n",
    "재귀적 방법을 이용하여 nums 원소들 중에서 짝수들만 리스트 형태로 리턴하는 함수를 작성하시오.\n",
    "\n",
    "- 파라미터:\n",
    "    - nums: 양의 정수가 들어 있는 리스트\n",
    "\n",
    "\n",
    "- 리턴: nums 원소들 중에서 짝수들을 리스트로 만든 것\n",
    "     \n",
    "- 주의) \n",
    "    - 반드시 재귀적 방법으로 작성\n",
    "    - 반복문 사용 불가\n",
    "\n",
    "#### 결과\n",
    "\n",
    "```\n",
    "[2, 4]\n",
    "[2, 4, 6]\n",
    "[2, 4, 6, 8]\n",
    "```"
   ]
  },
  {
   "cell_type": "code",
   "execution_count": 7,
   "metadata": {
    "ExecuteTime": {
     "end_time": "2022-10-22T13:17:53.077832Z",
     "start_time": "2022-10-22T13:17:53.068821Z"
    },
    "scrolled": true
   },
   "outputs": [
    {
     "name": "stdout",
     "output_type": "stream",
     "text": [
      "[2, 4]\n",
      "[2, 4, 6]\n",
      "[2, 4, 6, 8]\n"
     ]
    }
   ],
   "source": [
    "def get_even_nums(nums: list[int])-> list[int]:\n",
    "    if not nums: return []\n",
    "    if len(nums) <= 1:\n",
    "        return [] if nums[0] % 2 else [nums[0]]\n",
    "    return ([] if nums[0] % 2 else [nums[0]]) + get_even_nums(nums[1:])\n",
    "\n",
    "# 아래는 수정하지 마시오.\n",
    "print(get_even_nums([3,1,7,2,3,4,9]))\n",
    "print(get_even_nums([1,2,3,4,6]))\n",
    "print(get_even_nums([1,2,3,3,7,4,6,5,8]))\n"
   ]
  },
  {
   "cell_type": "markdown",
   "metadata": {},
   "source": [
    "---\n",
    "### 문제4\n",
    "\n",
    "LinkedList 클래스의 add_last() 메소드를 완성하시오.\n",
    "\n",
    "이 메소드는 연결리스트 마지막에 새로운 노드를 삽입한다.\n",
    "\n",
    "- 파라미터:\n",
    "    - data: 삽입해야하는 데이터\n",
    "- 리턴: 없음\n",
    "\n",
    "#### 결과\n",
    "\n",
    "```\n",
    "A->B->C\n",
    "A->B->C->D\n",
    "```"
   ]
  },
  {
   "cell_type": "code",
   "execution_count": 9,
   "metadata": {
    "ExecuteTime": {
     "end_time": "2022-10-23T10:54:42.520664Z",
     "start_time": "2022-10-23T10:54:42.496757Z"
    }
   },
   "outputs": [
    {
     "name": "stdout",
     "output_type": "stream",
     "text": [
      "A->B->C\n",
      "A->B->C->D\n"
     ]
    }
   ],
   "source": [
    "from __future__ import annotations\n",
    "from typing import Any\n",
    "\n",
    "class Node:\n",
    "    \"\"\"연결 리스트용 노드 클래스\"\"\"\n",
    "    def __init__(self, data: Any = None, next: Node = None):\n",
    "        \"\"\"초기화\"\"\"\n",
    "        self.data = data  # 데이터\n",
    "        self.next = next  # 뒤쪽 포인터\n",
    "\n",
    "class LinkedList:\n",
    "    \"\"\"연결 리스트 클래스\"\"\"\n",
    "\n",
    "    def __init__(self) -> None:\n",
    "        \"\"\"초기화\"\"\"\n",
    "        self.no = 0\n",
    "        self.head = None\n",
    "\n",
    "    def __len__(self) -> int:\n",
    "        \"\"\"연결 리스트의 노드 개수를 리턴\"\"\"\n",
    "        return self.no\n",
    "\n",
    "    def add_first(self, data: Any) -> None:\n",
    "        \"\"\"맨 앞에 노드를 삽입\"\"\"\n",
    "        ptr = self.head \n",
    "        self.head = Node(data, ptr)\n",
    "        self.no += 1\n",
    "\n",
    "    def add_last(self, data: Any):\n",
    "        \"\"\"맨 끝에 노드를 삽입\"\"\"\n",
    "        if not self.head:\n",
    "            self.head = Node(data)\n",
    "            return\n",
    "        ptr = self.head \n",
    "        pre = None\n",
    "        while ptr is not None:\n",
    "            pre = ptr\n",
    "            ptr = ptr.next\n",
    "        pre.next = Node(data)\n",
    "        self.no += 1\n",
    "\n",
    "    def print(self) -> None:\n",
    "        \"\"\"모든 노드를 출력\"\"\"\n",
    "        ptr = self.head\n",
    "\n",
    "        while ptr is not None:\n",
    "            print(ptr.data, end='')\n",
    "            if ptr.next is not None:\n",
    "                print('->', end='')\n",
    "            else:\n",
    "                print()\n",
    "            ptr = ptr.next\n",
    "\n",
    "        \n",
    "## 아래는 수정하지 마시오.\n",
    "my_list = LinkedList()\n",
    "my_list.add_last('A')\n",
    "my_list.add_last('B')\n",
    "my_list.add_last('C')\n",
    "my_list.print()\n",
    "my_list.add_last('D')\n",
    "my_list.print()\n"
   ]
  },
  {
   "cell_type": "markdown",
   "metadata": {},
   "source": [
    "---\n",
    "### 문제5\n",
    "\n",
    "LinkedListQueue 클래스의 dequeue2() 메소드를 작성하시오.\n",
    "\n",
    "dequeue2() 메소드는 큐에서 프런트 노드 뒤의 노드를 삭제하고 삭제된 노드의 데이터를 리턴하는 함수이다.\n",
    "\n",
    "이 메소드는 큐에 최소한 2개 이상의 노드가 있을 때에만 동작하고, 그렇지 않은 경우 노드를 삭제하지 않고 None를 리턴한다.\n",
    "\n",
    "- 파라미터:\n",
    "    - 없음\n",
    "- 리턴:\n",
    "    - 프런트 노드 뒤의 노드를 삭제하고 삭제한 노드의 데이터를 리턴한다.\n",
    "    \n",
    " \n",
    "#### 결과\n",
    "\n",
    "```\n",
    "Front: 1->2->3->4 :Rear\n",
    "2 deleted\n",
    "Front: 1->3->4 :Rear\n",
    "3 deleted\n",
    "Front: 1->4 :Rear\n",
    "4 deleted\n",
    "Front: 1 :Rear\n",
    "None deleted\n",
    "Front: 1 :Rear\n",
    "```"
   ]
  },
  {
   "cell_type": "code",
   "execution_count": 11,
   "metadata": {
    "ExecuteTime": {
     "end_time": "2022-10-23T10:52:29.261315Z",
     "start_time": "2022-10-23T10:52:29.243363Z"
    }
   },
   "outputs": [
    {
     "name": "stdout",
     "output_type": "stream",
     "text": [
      "Front: 1->2->3->4 :Rear\n",
      "2 deleted\n",
      "Front: 1->3->4 :Rear\n",
      "3 deleted\n",
      "Front: 1->4 :Rear\n",
      "4 deleted\n",
      "Front: 1 :Rear\n",
      "None deleted\n",
      "Front: 1 :Rear\n"
     ]
    }
   ],
   "source": [
    "from __future__ import annotations\n",
    "from typing import Any\n",
    "\n",
    "class Node:\n",
    "    \"\"\"연결 리스트용 노드 클래스\"\"\"\n",
    "    def __init__(self, data: Any = None, next: Node = None):\n",
    "        \"\"\"초기화\"\"\"\n",
    "        self.data = data  # 데이터\n",
    "        self.next = next  # 뒤쪽 포인터\n",
    "\n",
    "class LinkedListQueue:\n",
    "    \"\"\"연결리스트를 이용한 큐 클래스\"\"\"\n",
    "\n",
    "    def __init__(self) -> None:\n",
    "        \"\"\"초기화\"\"\"\n",
    "        self.no = 0 # 노드의 개수\n",
    "        self.front = None # 프런트 노드\n",
    "        self.rear = None # 리어 노드     \n",
    "\n",
    "    def __len__(self) -> int:\n",
    "        \"\"\"큐의 크기 반환\"\"\"\n",
    "        return self.no\n",
    "    \n",
    "    def is_empty(self) -> bool:\n",
    "        \"\"\"큐가 비어있는지 확인\"\"\"\n",
    "        return self.front is None\n",
    "\n",
    "    def enqueue(self, data: Any) -> None:\n",
    "        \"\"\"큐의 리어에 데이터를 삽입\"\"\"\n",
    "        node = Node(data)\n",
    "        if self.is_empty():\n",
    "            self.front = node\n",
    "            self.rear = node\n",
    "        else:\n",
    "            self.rear.next = node\n",
    "            self.rear = self.rear.next\n",
    "        self.no += 1\n",
    "        \n",
    "    def dequeue2(self) -> Any:\n",
    "        \"\"\"큐에서 프런트 뒤의 노드(2번째 노드)를 삭제\"\"\"\n",
    "        if self.no >= 2:\n",
    "            data = self.front.next.data\n",
    "            self.front.next = self.front.next.next\n",
    "            self.no -= 1\n",
    "            return data\n",
    "        else:\n",
    "            return\n",
    "    \n",
    "    def print(self) -> None:\n",
    "        \"\"\"큐의 모든 데이터를 프런트에서부터 출력\"\"\"\n",
    "        ptr = self.front\n",
    "        print(\"Front: \", end='')\n",
    "        while ptr is not None:\n",
    "            print(ptr.data, end='')\n",
    "            if ptr.next is not None:\n",
    "                print('->', end='')\n",
    "            ptr = ptr.next\n",
    "        print(' :Rear')\n",
    "\n",
    "# 아래는 수정하지 마시오.\n",
    "queue = LinkedListQueue()\n",
    "\n",
    "queue.enqueue(1)\n",
    "queue.enqueue(2)\n",
    "queue.enqueue(3)\n",
    "queue.enqueue(4)\n",
    "queue.print()\n",
    "\n",
    "print(queue.dequeue2(), 'deleted')\n",
    "queue.print()\n",
    "print(queue.dequeue2(), 'deleted')\n",
    "queue.print()\n",
    "print(queue.dequeue2(), 'deleted')\n",
    "queue.print()\n",
    "print(queue.dequeue2(), 'deleted')\n",
    "queue.print()\n"
   ]
  },
  {
   "cell_type": "markdown",
   "metadata": {},
   "source": [
    "---\n",
    "### 문제6\n",
    "```\n",
    "세계는 균형이 잘 잡혀있어야 한다. 양과 음, 빛과 어둠 그리고 왼쪽 괄호와 오른쪽 괄호처럼 말이다.\n",
    "\n",
    "정민이의 임무는 어떤 문자열이 주어졌을 때, 괄호들의 균형이 잘 맞춰져 있는지 판단하는 프로그램을 짜는 것이다.\n",
    "\n",
    "문자열에 포함되는 괄호는 소괄호(\"()\") 와 대괄호(\"[]\")로 2종류이고, 문자열이 균형을 이루는 조건은 아래와 같다.\n",
    "\n",
    "- 모든 왼쪽 소괄호(\"(\")는 오른쪽 소괄호(\")\")와만 짝을 이뤄야 한다.\n",
    "- 모든 왼쪽 대괄호(\"[\")는 오른쪽 대괄호(\"]\")와만 짝을 이뤄야 한다.\n",
    "- 모든 오른쪽 괄호들은 자신과 짝을 이룰 수 있는 왼쪽 괄호가 존재한다.\n",
    "- 모든 괄호들의 짝은 1:1 매칭만 가능하다. 즉, 괄호 하나가 둘 이상의 괄호와 짝지어지지 않는다.\n",
    "- 짝을 이루는 두 괄호가 있을 때, 그 사이에 있는 문자열도 균형이 잡혀야 한다.\n",
    "- 정민이를 도와 문자열이 주어졌을 때 균형잡힌 문자열인지 아닌지를 판단해보자.\n",
    "\n",
    "정민이를 도와 문자열이 주어졌을 때 균형잡힌 문자열인지 아닌지를 판단해보자.\n",
    "```\n",
    "\n",
    "- 파라미터:\n",
    "    - s: 문자열은 영문 알파벳, 공백, 소괄호(\"( )\"), 대괄호(\"[ ]\")로 이루어져 있다.\n",
    "- 리턴:\n",
    "    - 해당 문자열이 균형을 이루고 있으면 \"yes\"를, 아니면 \"no\"를 리턴한다.\n",
    "\n",
    "\n",
    "#### 결과\n",
    "\n",
    "```\n",
    "yes\n",
    "yes\n",
    "no\n",
    "no\n",
    "no\n",
    "yes\n",
    "yes\n",
    "yes\n",
    "```"
   ]
  },
  {
   "cell_type": "code",
   "execution_count": 13,
   "metadata": {
    "ExecuteTime": {
     "end_time": "2022-10-21T08:51:54.511660Z",
     "start_time": "2022-10-21T08:51:54.492713Z"
    }
   },
   "outputs": [
    {
     "name": "stdout",
     "output_type": "stream",
     "text": [
      "yes\n",
      "yes\n",
      "no\n",
      "no\n",
      "no\n",
      "yes\n",
      "yes\n",
      "yes\n"
     ]
    }
   ],
   "source": [
    "def p_balance(s: str) -> str:\n",
    "    stack = []\n",
    "    brackets = {'(':')','[':']'}\n",
    "    for c in s:\n",
    "        if c in brackets.keys():\n",
    "            stack.append(c)\n",
    "        elif c in brackets.values():\n",
    "            if not stack: return 'no'\n",
    "            bracket = stack.pop()\n",
    "            if brackets[bracket] != c:\n",
    "                return 'no'\n",
    "        \n",
    "    return 'yes'\n",
    "\n",
    "print(p_balance(\"So when I die (the [first] I will see in (heaven) is a score list)\"))\n",
    "print(p_balance(\"[ first in ] ( first out )\"))\n",
    "print(p_balance(\"Half Moon tonight (At least it is better than no Moon at all]\"))\n",
    "print(p_balance(\"A rope may form )( a trail in a maze\"))\n",
    "print(p_balance(\"Help( I[m being held prisoner in a fortune cookie factory)]\"))\n",
    "print(p_balance(\"( { [ ] { ) { }\"))\n",
    "print(p_balance(\"([ (([( [ ] ) ( ) (( ))] )) ])\"))\n",
    "print(p_balance(\" \"))\n",
    "    "
   ]
  },
  {
   "cell_type": "markdown",
   "metadata": {},
   "source": [
    "### 문제7\n",
    "\n",
    "```\n",
    "N장의 카드가 있다. 각각의 카드는 차례로 1부터 N까지의 번호가 붙어 있으며, 1번 카드가 제일 위에, N번 카드가 제일 아래인 상태로 순서대로 카드가 놓여 있다.\n",
    "\n",
    "이제 다음과 같은 동작을 모든 카드를 버릴 때까지 반복한다.\n",
    "우선, 제일 위에 있는 카드를 제일 아래에 있는 카드 밑으로 옮긴다. 그 다음, 제일 위에 있는 카드를 바닥에 버린다.\n",
    "\n",
    "예를 들어 N=4인 경우를 생각해 보자. 카드는 제일 위에서부터 1234 의 순서로 놓여있다. 1을 제일 아래로 옮기면 2341이 된다. 여기서 2를 버리면 341이 된다. 3을 제일 아래로 옮기면 413가 되고, 4를 버리면 13이 된다. 1를 제일 아래로 옮기면 31가 되고, 3을 버리면 1이 된다. 1를 제일 아래로 옮기면 1이 되고, 1를 버리면 모든 카드를 버리게 된다. 버린 카드들은 순서대로 2 4 3 1 이다. 최종적으로 리스트 [2, 4, 3, 1] 를 리턴 하면 된다.\n",
    "\n",
    "N이 주어졌을 때, 버린 카드들을 순서대로 저장한 리스트를 리턴하는 함수를 작성하시오.\n",
    "```\n",
    "\n",
    "- 파라미터:\n",
    "    - n: 양의 정수\n",
    "- 리턴:\n",
    "    - 버린카드의 번호들이 들어 있는 리스트\n",
    "    \n",
    "- 주의사항)\n",
    "    - O(N) 시간 안에 동작하도록 작성하시오.\n",
    "\n",
    "#### 결과\n",
    "```\n",
    "[2, 4, 3, 1]\n",
    "[2, 4, 6, 1, 5, 3, 7]\n",
    "```"
   ]
  },
  {
   "cell_type": "code",
   "execution_count": 15,
   "metadata": {
    "ExecuteTime": {
     "end_time": "2022-10-21T07:46:16.801692Z",
     "start_time": "2022-10-21T07:46:16.781013Z"
    },
    "scrolled": true
   },
   "outputs": [
    {
     "name": "stdout",
     "output_type": "stream",
     "text": [
      "[2, 4, 3, 1]\n",
      "[2, 4, 6, 1, 5, 3, 7]\n"
     ]
    }
   ],
   "source": [
    "from collections import deque\n",
    "def cards_play(n: int) -> list[int]:\n",
    "    cards = deque(range(1,n+1))\n",
    "    res = []\n",
    "    while len(cards) > 1:\n",
    "        cards.append(cards.popleft())\n",
    "        res.append(cards.popleft())\n",
    "    return res + [cards[0]]\n",
    "\n",
    "# 아래는 수정하지 마시오.\n",
    "print(cards_play(4))\n",
    "print(cards_play(7))"
   ]
  },
  {
   "cell_type": "markdown",
   "metadata": {},
   "source": [
    "### 수고하셨습니다.\n",
    "제출후 모든 파일을 반드시 삭제하세요."
   ]
  }
 ],
 "metadata": {
  "kernelspec": {
   "display_name": "Python 3",
   "language": "python",
   "name": "python3"
  },
  "language_info": {
   "codemirror_mode": {
    "name": "ipython",
    "version": 3
   },
   "file_extension": ".py",
   "mimetype": "text/x-python",
   "name": "python",
   "nbconvert_exporter": "python",
   "pygments_lexer": "ipython3",
   "version": "3.10.13"
  },
  "toc": {
   "base_numbering": 1,
   "nav_menu": {},
   "number_sections": true,
   "sideBar": true,
   "skip_h1_title": false,
   "title_cell": "Table of Contents",
   "title_sidebar": "Contents",
   "toc_cell": false,
   "toc_position": {},
   "toc_section_display": true,
   "toc_window_display": false
  }
 },
 "nbformat": 4,
 "nbformat_minor": 4
}
