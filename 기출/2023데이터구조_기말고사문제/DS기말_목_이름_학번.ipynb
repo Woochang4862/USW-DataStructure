{
 "cells": [
  {
   "cell_type": "code",
   "execution_count": 3,
   "metadata": {
    "ExecuteTime": {
     "end_time": "2023-12-09T00:09:14.219912Z",
     "start_time": "2023-12-09T00:09:14.207643Z"
    }
   },
   "outputs": [
    {
     "data": {
      "text/html": [
       "<style>.container { width:100% !important; }</style>"
      ],
      "text/plain": [
       "<IPython.core.display.HTML object>"
      ]
     },
     "metadata": {},
     "output_type": "display_data"
    },
    {
     "data": {
      "text/html": [
       "<style>\n",
       "div.CodeMirror, div.CodeMirror pre, div.CodeMirror-code,\n",
       "div.output_area pre, div.output_wrapper pre,\n",
       ".text_cell_render, .text_cell_render *\n",
       "{ font-family: Consolas; font-size: 15pt; line-height: 140%;}\n",
       "</style>"
      ],
      "text/plain": [
       "<IPython.core.display.HTML object>"
      ]
     },
     "metadata": {},
     "output_type": "display_data"
    }
   ],
   "source": [
    "from IPython.display import display, HTML, Markdown\n",
    "display(HTML(\"<style>.container { width:100% !important; }</style>\"))\n",
    "display(HTML(\"\"\"<style>\n",
    "div.CodeMirror, div.CodeMirror pre, div.CodeMirror-code,\n",
    "div.output_area pre, div.output_wrapper pre,\n",
    ".text_cell_render, .text_cell_render *\n",
    "{ font-family: Consolas; font-size: 15pt; line-height: 140%;}\n",
    "</style>\"\"\"))"
   ]
  },
  {
   "cell_type": "markdown",
   "metadata": {},
   "source": [
    "# 2023 데이터구조 (목) 기말고사\n",
    "\n",
    "\n",
    "- 주의 사항\n",
    "    1. 시험시간 11:40 ~ 13:00\n",
    "    1. 부분점수는 없습니다.\n",
    "    1. 휴대폰의 전원을 끄세요.\n",
    "    1. 개인 전자기기를 사용할 수 없습니다.\n",
    "    1. 이 시험은 closed book 입니다.\n",
    "        1. 모든 인터넷을 사용할 수 없습니다.\n",
    "        1. 모든 자료를 볼 수 없습니다.\n",
    "    1. 수시로 저장하세요.\n",
    "    1. 셀을 실행시켰을 때, 멈추지 않는다면, 주피터노트북 메뉴에 있는 정지버튼을 누르거나 Kernel 메뉴에서 restart를 누르세요.\n",
    "        - 그래도 동작하지 않는 경우에는 주피터노트북을 다시 시작하세요.\n",
    "- 제출 방법\n",
    "    1. 단 한번만 제출 할 수 있습니다.\n",
    "        1. 다시 제출해야 할 경우 시험 감독에게 문의하세요.\n",
    "    1. `잘못된 파일을 제출했을 경우 기본 점수로 채점됩니다.`\n",
    "    1. 파일 이름에서 '학번'을 자신의 학번으로, '이름'을 자신의 이름으로 고치시오.\n",
    "    1. 캔버스에 주피터노트북 파일(.ipynb)을 제출하세요.\n",
    "        1. 캔버스 사용이 불가능한 경우, 이메일로 아래 주소로 제출 하세요.\n",
    "            - ydhwang@suwon.ac.kr\n",
    "            - 메일제목: `[데이터구조] 홍길동`\n",
    "    1. `제출후 모든 파일을 반드시 삭제하세요.`\n"
   ]
  },
  {
   "cell_type": "markdown",
   "metadata": {},
   "source": [
    "## 아래 셀을 실행시키시오."
   ]
  },
  {
   "cell_type": "code",
   "execution_count": 1,
   "metadata": {
    "ExecuteTime": {
     "end_time": "2023-12-09T00:10:32.900033Z",
     "start_time": "2023-12-09T00:10:32.891235Z"
    }
   },
   "outputs": [
    {
     "name": "stdout",
     "output_type": "stream",
     "text": [
      "Time: 20:33:26\n",
      "IP address: 127.0.0.1\n"
     ]
    }
   ],
   "source": [
    "# 이 셀을 실행시키세요.\n",
    "from __future__ import annotations\n",
    "from typing import Any, Sequence\n",
    "from collections import deque\n",
    "from datetime import datetime\n",
    "import socket\n",
    "now = datetime.now()\n",
    "current_time = now.strftime(\"%H:%M:%S\")\n",
    "print(f\"Time: {current_time}\")\n",
    "print(f\"IP address: {socket.gethostbyname(socket.gethostname())}\")\n",
    "class Node:\n",
    "    pass"
   ]
  },
  {
   "cell_type": "markdown",
   "metadata": {
    "ExecuteTime": {
     "end_time": "2019-10-22T07:55:36.236793Z",
     "start_time": "2019-10-22T07:55:36.231780Z"
    }
   },
   "source": [
    "---\n",
    "# 주관식 문제\n",
    "\n",
    "- 문제당 6점"
   ]
  },
  {
   "cell_type": "markdown",
   "metadata": {},
   "source": [
    "---\n",
    "### 문제1\n",
    "\n",
    "이것은 해싱에서 키를 인덱스로 변환시키는 함수이다. 이 함수를 무엇이라고 하는가?\n"
   ]
  },
  {
   "cell_type": "code",
   "execution_count": 2,
   "metadata": {
    "ExecuteTime": {
     "end_time": "2023-12-09T00:16:36.268323Z",
     "start_time": "2023-12-09T00:16:36.265578Z"
    }
   },
   "outputs": [
    {
     "name": "stdout",
     "output_type": "stream",
     "text": [
      "해시함수\n"
     ]
    }
   ],
   "source": [
    "print(\"해시함수\")"
   ]
  },
  {
   "cell_type": "markdown",
   "metadata": {},
   "source": [
    "---\n",
    "### 문제2\n",
    "\n",
    "높이가 2인 완전이진트리가 가질 수 있는 최소 노드 수는 얼마인가?"
   ]
  },
  {
   "cell_type": "code",
   "execution_count": 34,
   "metadata": {
    "ExecuteTime": {
     "end_time": "2023-12-09T00:24:19.703047Z",
     "start_time": "2023-12-09T00:24:19.699234Z"
    },
    "scrolled": true
   },
   "outputs": [
    {
     "name": "stdout",
     "output_type": "stream",
     "text": [
      "4\n"
     ]
    }
   ],
   "source": [
    "h=2\n",
    "print(f\"{2**((h-1)+1)-1+1}\")"
   ]
  },
  {
   "cell_type": "code",
   "execution_count": 5,
   "metadata": {
    "ExecuteTime": {
     "end_time": "2023-12-09T08:56:57.134310Z",
     "start_time": "2023-12-09T08:56:57.131209Z"
    }
   },
   "outputs": [
    {
     "name": "stdout",
     "output_type": "stream",
     "text": [
      "13426875\n"
     ]
    }
   ],
   "source": [
    "print(\"13426875\")"
   ]
  },
  {
   "cell_type": "markdown",
   "metadata": {},
   "source": [
    "---\n",
    "### 문제4\n",
    "\n",
    "입력에 상관없이 O(NlogN) 시간복잡도를 가지는 정렬 알고리즘은 무엇인가?"
   ]
  },
  {
   "cell_type": "code",
   "execution_count": 6,
   "metadata": {
    "ExecuteTime": {
     "end_time": "2023-12-09T09:00:57.136157Z",
     "start_time": "2023-12-09T09:00:57.132786Z"
    }
   },
   "outputs": [
    {
     "name": "stdout",
     "output_type": "stream",
     "text": [
      "합병정렬\n"
     ]
    }
   ],
   "source": [
    "print(\"합병정렬\")"
   ]
  },
  {
   "cell_type": "markdown",
   "metadata": {},
   "source": [
    "---\n",
    "### 문제5\n",
    "\n",
    "아래는 어떤 방향그래프의 인접리스트를 파이썬 딕셔너리로 구현한 것이다.\n",
    "\n",
    "아래 인접리스트에서 노드 2의 진입 차수는 얼마인가?\n",
    "\n",
    "```python\n",
    "graph = {\n",
    "\t0: [1, 2],\n",
    "\t1: [2, 3],\n",
    "\t2: [0, 1, 3],\n",
    "\t3: [ ]\n",
    "}\n",
    "```"
   ]
  },
  {
   "cell_type": "code",
   "execution_count": 7,
   "metadata": {
    "ExecuteTime": {
     "end_time": "2023-12-09T09:02:31.990339Z",
     "start_time": "2023-12-09T09:02:31.986911Z"
    },
    "scrolled": true
   },
   "outputs": [
    {
     "name": "stdout",
     "output_type": "stream",
     "text": [
      "2\n"
     ]
    }
   ],
   "source": [
    "print(\"2\")"
   ]
  },
  {
   "cell_type": "markdown",
   "metadata": {},
   "source": [
    "----\n",
    "# O,X 문제\n",
    "1. 맞으면 `O`, 틀리면 `X`를 `print()`를 이용하여 출력하시오.\n",
    "1. 배점: 문제를 맞추면 6점, 비워두면 3점, 틀리면 0점"
   ]
  },
  {
   "cell_type": "markdown",
   "metadata": {},
   "source": [
    "---\n",
    "### 문제1\n",
    "\n",
    "이진탐색의 최선의경우의 시간복잡도는 O(1) 이다."
   ]
  },
  {
   "cell_type": "code",
   "execution_count": 8,
   "metadata": {
    "ExecuteTime": {
     "end_time": "2023-12-09T00:18:57.134686Z",
     "start_time": "2023-12-09T00:18:57.131232Z"
    },
    "scrolled": true
   },
   "outputs": [
    {
     "name": "stdout",
     "output_type": "stream",
     "text": [
      "O\n"
     ]
    }
   ],
   "source": [
    "print(\"O\")"
   ]
  },
  {
   "cell_type": "markdown",
   "metadata": {},
   "source": [
    "---\n",
    "### 문제2\n",
    "\n",
    "어떠한 비교정렬 알고리즘이라도 최소 Ω(NlogN) 만큼의 원소 비교를 수행하지 않으면, 알고리즘의 결과가 항상 정렬되어 있다는 보장을 할 수 없다."
   ]
  },
  {
   "cell_type": "code",
   "execution_count": 9,
   "metadata": {
    "ExecuteTime": {
     "end_time": "2023-12-09T09:04:45.797354Z",
     "start_time": "2023-12-09T09:04:45.794764Z"
    }
   },
   "outputs": [
    {
     "name": "stdout",
     "output_type": "stream",
     "text": [
      "O\n"
     ]
    }
   ],
   "source": [
    "print(\"O\")"
   ]
  },
  {
   "attachments": {
    "image.png": {
     "image/png": "[encoded data removed]"
    }
   },
   "cell_type": "markdown",
   "metadata": {},
   "source": [
    "---\n",
    "### 문제3\n",
    "\n",
    "아래 트리에서 노드 D의 조상노드들의 개수는 3이다.\n",
    "![image.png](attachment:image.png)"
   ]
  },
  {
   "cell_type": "code",
   "execution_count": 10,
   "metadata": {
    "ExecuteTime": {
     "end_time": "2023-12-09T09:07:31.123122Z",
     "start_time": "2023-12-09T09:07:31.120346Z"
    }
   },
   "outputs": [
    {
     "name": "stdout",
     "output_type": "stream",
     "text": [
      "X\n"
     ]
    }
   ],
   "source": [
    "print(\"X\")"
   ]
  },
  {
   "cell_type": "markdown",
   "metadata": {},
   "source": [
    "---\n",
    "### 문제4\n",
    "\n",
    "이진탐색트리에서 최악의경우에 최대키 탐색의 시간복잡도는 O(logN)이다."
   ]
  },
  {
   "cell_type": "code",
   "execution_count": 11,
   "metadata": {
    "ExecuteTime": {
     "end_time": "2023-12-09T09:11:08.984662Z",
     "start_time": "2023-12-09T09:11:08.981252Z"
    },
    "scrolled": true
   },
   "outputs": [
    {
     "name": "stdout",
     "output_type": "stream",
     "text": [
      "X O(N)\n"
     ]
    }
   ],
   "source": [
    "print(\"X O(N)\")"
   ]
  },
  {
   "attachments": {
    "image.png": {
     "image/png": "[encoded data removed]"
    }
   },
   "cell_type": "markdown",
   "metadata": {},
   "source": [
    "---\n",
    "### 문제5\n",
    "\n",
    "아래 그래프는 트리가 아니다.\n",
    "![image.png](attachment:image.png)"
   ]
  },
  {
   "cell_type": "code",
   "execution_count": 13,
   "metadata": {
    "ExecuteTime": {
     "end_time": "2023-12-09T09:13:33.621437Z",
     "start_time": "2023-12-09T09:13:33.618570Z"
    },
    "scrolled": true
   },
   "outputs": [
    {
     "name": "stdout",
     "output_type": "stream",
     "text": [
      "O (방향, 부모가 두개)\n"
     ]
    }
   ],
   "source": [
    "print(\"O (방향, 부모가 두개)\")"
   ]
  },
  {
   "cell_type": "markdown",
   "metadata": {},
   "source": [
    "---\n",
    "\n",
    "# 코딩 문제\n",
    "\n",
    "- 문제당 13점\n"
   ]
  },
  {
   "cell_type": "markdown",
   "metadata": {},
   "source": [
    "---\n",
    "### 문제1\n",
    "\n",
    "재귀적방법을 이용하여 이진탐색을 구현하시오.\n",
    "\n",
    "binary_search_recursive2() 함수는 재귀적이진탐색을 통해 target의 위치를 리턴한다.\n",
    "\n",
    "만약 target이 검색범위에 존재하지 않으면 -1을 리턴한다.\n",
    "\n",
    "- 파라미터:\n",
    "    - seq: 정렬되어 있는 시퀀스\n",
    "    - target: 탐색하는 키값\n",
    "    - left: 탐색범위 중 가장 작은 인덱스값\n",
    "    - right: 탐색범위 중 가장 큰 인덱스값\n",
    "- 리턴: target이 들어 있는 위치 index 값\n",
    "\n",
    "### 결과\n",
    "\n",
    "```\n",
    "6\n",
    "4\n",
    "-1\n",
    "```\n"
   ]
  },
  {
   "cell_type": "code",
   "execution_count": 18,
   "metadata": {
    "ExecuteTime": {
     "end_time": "2022-10-22T12:48:23.079295Z",
     "start_time": "2022-10-22T12:48:23.063285Z"
    }
   },
   "outputs": [
    {
     "name": "stdout",
     "output_type": "stream",
     "text": [
      "6\n",
      "4\n",
      "-1\n"
     ]
    }
   ],
   "source": [
    "from typing import Any, Sequence\n",
    "def binary_search_recursive2(seq: Sequence, target: Any, left: int, right: int) -> int:\n",
    "    if left > right: return -1\n",
    "    mid = (left+right)//2\n",
    "    if seq[mid] == target:\n",
    "        return mid\n",
    "    elif seq[mid] > target:\n",
    "        return binary_search_recursive2(seq,target,left,mid-1)\n",
    "    else:\n",
    "        return binary_search_recursive2(seq,target,mid+1,right)\n",
    "\n",
    "# 아래는 수정하지 마시오.\n",
    "nums = [0, 1, 3, 4, 5, 6, 8, 9]\n",
    "print(binary_search_recursive2(nums, 8, 0, len(nums)))\n",
    "print(binary_search_recursive2(nums, 5, 0, len(nums)))\n",
    "print(binary_search_recursive2(nums, 7, 0, len(nums)))"
   ]
  },
  {
   "attachments": {
    "image-2.png": {
     "image/png": "[encoded data removed]"
    }
   },
   "cell_type": "markdown",
   "metadata": {},
   "source": [
    "---\n",
    "### 문제2\n",
    "\n",
    "배열을 이용하여 완전이진트리를 구현 할 때,\n",
    "\n",
    "특정 노드의 자식의 수를 리턴해 주는 get_num_children() 함수를 작성하시오.\n",
    "\n",
    "단, index 위치에 노드가 없는 경우에는 None을 리턴한다.\n",
    "\n",
    "![image-2.png](attachment:image-2.png)\n",
    "\n",
    "- 파라미터:\n",
    "    - cbt: 배열로 구현된 완전이진트리\n",
    "    - index: 자식수를 구해야 하는 노드의 인덱스 \n",
    "- 리턴:\n",
    "    - 자식의 수\n",
    "\n",
    "#### 결과\n",
    "\n",
    "```\n",
    "2\n",
    "1\n",
    "0\n",
    "None\n",
    "```"
   ]
  },
  {
   "cell_type": "code",
   "execution_count": 19,
   "metadata": {
    "ExecuteTime": {
     "end_time": "2022-10-22T13:11:33.530721Z",
     "start_time": "2022-10-22T13:11:33.525703Z"
    }
   },
   "outputs": [
    {
     "name": "stdout",
     "output_type": "stream",
     "text": [
      "2\n",
      "1\n",
      "0\n",
      "None\n"
     ]
    }
   ],
   "source": [
    "def get_num_children(cbt, index):\n",
    "    if 0<=index<len(cbt) and cbt[index]:\n",
    "        return (index*2+1 < len(cbt)) + (index*2 < len(cbt))\n",
    "    else:\n",
    "        return\n",
    "\n",
    "# 아래는 수정하지 마시오.\n",
    "cbt = [None, 'A', 'B', 'C', 'D', 'E', 'F', 'G', 'H', 'I', 'J']\n",
    "print(get_num_children(cbt, index=1))  \n",
    "print(get_num_children(cbt, index=5))\n",
    "print(get_num_children(cbt, index=6)) \n",
    "print(get_num_children(cbt, index=11))\n"
   ]
  },
  {
   "cell_type": "markdown",
   "metadata": {},
   "source": [
    "---\n",
    "### 문제3\n",
    "\n",
    "이진탐색트리를 구현한 BinarySearchTree 클래스에서 get_level() 메소드를 완성하시오.\n",
    "\n",
    "get_level()는 전체트리에서 key 를 키값으로 가지는 노드의 레벨을 리턴한다.\n",
    "\n",
    "만약, 해당 key를 키값으로 가지는 노드가 존재하지 않으면 -1을 리턴한다.\n",
    "\n",
    "주의) 반복적 방법으로 작성하시오.\n",
    "\n",
    "- 파라미터:\n",
    "    - key: 노드의 키값\n",
    "- 리턴:\n",
    "    - 노드의 레벨\n",
    "\n",
    "#### 결과\n",
    "\n",
    "```\n",
    "|           ┌──── 11\n",
    "|     ┌──── 10\n",
    "└──── 9\n",
    "      |           ┌──── 8\n",
    "      |     ┌──── 7\n",
    "      |     |     └──── 6\n",
    "      └──── 5\n",
    "            |     ┌──── 4\n",
    "            |     |     └──── 3\n",
    "            └──── 2\n",
    "                  └──── 1\n",
    "0\n",
    "1\n",
    "2\n",
    "3\n",
    "4\n",
    "-1\n",
    "```"
   ]
  },
  {
   "cell_type": "code",
   "execution_count": 21,
   "metadata": {
    "ExecuteTime": {
     "end_time": "2022-10-22T13:17:53.077832Z",
     "start_time": "2022-10-22T13:17:53.068821Z"
    },
    "scrolled": true
   },
   "outputs": [
    {
     "name": "stdout",
     "output_type": "stream",
     "text": [
      "|           ┌──── 11\n",
      "|     ┌──── 10\n",
      "└──── 9\n",
      "      |           ┌──── 8\n",
      "      |     ┌──── 7\n",
      "      |     |     └──── 6\n",
      "      └──── 5\n",
      "            |     ┌──── 4\n",
      "            |     |     └──── 3\n",
      "            └──── 2\n",
      "                  └──── 1\n",
      "0\n",
      "1\n",
      "2\n",
      "3\n",
      "4\n",
      "-1\n"
     ]
    }
   ],
   "source": [
    "from __future__ import annotations\n",
    "from typing import Any\n",
    "from collections import deque\n",
    "\n",
    "class Node:\n",
    "    def __init__(self, key: int, value: Any):\n",
    "        self.key = key # 키\n",
    "        self.value = value # 값\n",
    "        self.left = None # 왼쪽자식\n",
    "        self.right = None # 오른쪽자식\n",
    "\n",
    "\n",
    "class BinarySearchTree:\n",
    "    def __init__(self):\n",
    "        self.root = None\n",
    "\n",
    "    def insert(self, key: int, value: Any) -> None:\n",
    "        \"\"\"전체트리에 노드 삽입\"\"\"\n",
    "        if self.root: # 루트노드가 있다면\n",
    "            self.insert_to_subtree(key, value, self.root)\n",
    "        else: # 루트노드가 없다면\n",
    "            self.root = Node(key, value)\n",
    "\n",
    "    def insert_to_subtree(self, key: int, value: Any, sroot: Node) -> None:\n",
    "        \"\"\"서브트리에 노드 삽입\"\"\"\n",
    "        if key < sroot.key:\n",
    "            if sroot.left:\n",
    "                self.insert_to_subtree(key, value, sroot.left)\n",
    "            else: \n",
    "                sroot.left = Node(key, value)\n",
    "        elif key > sroot.key:\n",
    "            if sroot.right: \n",
    "                self.insert_to_subtree(key, value, sroot.right)\n",
    "            else:\n",
    "                sroot.right = Node(key, value)\n",
    "    \n",
    "    def print_tree(self, sroot: Node, prefix=\"\", is_left=True):\n",
    "        \"\"\"트리출력\"\"\"\n",
    "        if not sroot:\n",
    "            return\n",
    "        if sroot.right: # 오른쪽 자식이 있으면\n",
    "            indent = \"|     \" if is_left else \"      \"\n",
    "            self.print_tree(sroot.right, prefix+indent, False)\n",
    "        print(prefix, \"└──── \" if is_left else \"┌──── \", sroot.key, sep=\"\") # 노드의 키값 출력\n",
    "        if sroot.left: # 왼쪽 자식이 있으면\n",
    "            indent = \"      \" if is_left else \"|     \"\n",
    "            self.print_tree(sroot.left, prefix+indent, True)\n",
    "    \n",
    "    def get_level(self, key: int) -> int:\n",
    "        \"\"\"특정 키값을 가지는 노드의 레벨을 리턴\"\"\"\n",
    "        if self.root is None: return -1\n",
    "        queue = deque([self.root])\n",
    "        level = 0\n",
    "        while queue:\n",
    "            node = queue.popleft()\n",
    "            if node.key == key: return level\n",
    "            elif node.key > key:\n",
    "                if node.left: queue.append(node.left)\n",
    "            else:\n",
    "                if node.right: queue.append(node.right)\n",
    "            level += 1\n",
    "        return -1\n",
    "            \n",
    "                    \n",
    "\n",
    "# 아래는 수정하지 마시오.\n",
    "arr = [(9, 'I'), (5, 'E'), (10, 'J'), (2, 'B'), (7, 'G'), (11, 'K'), (1, 'A'), (4, 'D'), (6, 'F'), (8, 'H'), (3, 'C'), (5, 'X')]\n",
    "bst = BinarySearchTree()\n",
    "for i in arr:\n",
    "    bst.insert(i[0], i[1])\n",
    "bst.print_tree(bst.root)\n",
    "print(bst.get_level(9))\n",
    "print(bst.get_level(5))\n",
    "print(bst.get_level(11))\n",
    "print(bst.get_level(1))\n",
    "print(bst.get_level(3))\n",
    "print(bst.get_level(100))\n",
    "    \n"
   ]
  },
  {
   "cell_type": "markdown",
   "metadata": {},
   "source": [
    "---\n",
    "### 문제4\n",
    "\n",
    "이진탐색트리를 구현한 BinarySearchTree 클래스에서,\n",
    "\n",
    "서브트리에 있는 엣지 수를  리턴하는 edgecount_subtree() 메소드를 작성하시오.\n",
    "\n",
    "- 파라미터:\n",
    "    - sroot: 서브트리의 루트노드\n",
    "- 리턴: 서브트리 안에 있는 엣지 수\n",
    "\n",
    "### 결과\n",
    "\n",
    "```\n",
    "|           ┌──── 11\n",
    "|     ┌──── 10\n",
    "└──── 9\n",
    "      |           ┌──── 8\n",
    "      |     ┌──── 7\n",
    "      |     |     └──── 6\n",
    "      └──── 5\n",
    "            |     ┌──── 4\n",
    "            |     |     └──── 3\n",
    "            └──── 2\n",
    "                  └──── 1\n",
    "10\n",
    "7\n",
    "1\n",
    "0\n",
    "```\n"
   ]
  },
  {
   "cell_type": "code",
   "execution_count": 23,
   "metadata": {
    "ExecuteTime": {
     "end_time": "2022-10-23T10:54:42.520664Z",
     "start_time": "2022-10-23T10:54:42.496757Z"
    }
   },
   "outputs": [
    {
     "name": "stdout",
     "output_type": "stream",
     "text": [
      "|           ┌──── 11\n",
      "|     ┌──── 10\n",
      "└──── 9\n",
      "      |           ┌──── 8\n",
      "      |     ┌──── 7\n",
      "      |     |     └──── 6\n",
      "      └──── 5\n",
      "            |     ┌──── 4\n",
      "            |     |     └──── 3\n",
      "            └──── 2\n",
      "                  └──── 1\n",
      "10\n",
      "7\n",
      "1\n",
      "0\n"
     ]
    }
   ],
   "source": [
    "from __future__ import annotations\n",
    "from typing import Any\n",
    "from collections import deque\n",
    "\n",
    "class Node:\n",
    "    def __init__(self, key: int, value: Any):\n",
    "        self.key = key # 키\n",
    "        self.value = value # 값\n",
    "        self.left = None # 왼쪽자식\n",
    "        self.right = None # 오른쪽자식\n",
    "\n",
    "\n",
    "class BinarySearchTree:\n",
    "    def __init__(self):\n",
    "        self.root = None\n",
    "\n",
    "    def insert(self, key: int, value: Any):\n",
    "        \"\"\"전체트리에 노드 삽입\"\"\"\n",
    "        if self.root: # 루트노드가 있다면\n",
    "            self.insert_to_subtree(key, value, self.root)\n",
    "        else: # 루트노드가 없다면\n",
    "            self.root = Node(key, value)\n",
    "\n",
    "    def insert_to_subtree(self, key: int, value: Any, sroot: Node):\n",
    "        \"\"\"서브트리에 노드 삽입\"\"\"\n",
    "        if key < sroot.key: # key가 서브트리의 루트의 키보다 작다면\n",
    "            if sroot.left:\n",
    "                # sroot의 왼쪽자식이 있으면, sroot의 왼쪽서브트리에 노드 삽입\n",
    "                self.insert_to_subtree(key, value, sroot.left)\n",
    "            else: \n",
    "                # sroot의 왼쪽자식이 없으면, sroot의 왼쪽자식으로 노드 삽입\n",
    "                sroot.left = Node(key, value)\n",
    "        elif key > sroot.key: # key가 서브트리의 루트의 키보다 크면\n",
    "            if sroot.right: \n",
    "                # sroot의 오른쪽자식이 있으면, sroot의 오른쪽서브트리에 노드 삽입\n",
    "                self.insert_to_subtree(key, value, sroot.right)\n",
    "            else: \n",
    "                # sroot의 오른쪽자식이 없으면, sroot의 오른쪽자식으로 노드 삽입\n",
    "                sroot.right = Node(key, value)\n",
    "    \n",
    "    def print_tree(self, sroot: Node, prefix=\"\", is_left=True):\n",
    "        \"\"\"트리출력\"\"\"\n",
    "        if not sroot:\n",
    "            return\n",
    "        if sroot.right: # n의 오른쪽 자식이 있으면\n",
    "            indent = \"|     \" if is_left else \"      \"\n",
    "            self.print_tree(sroot.right, prefix+indent, False)\n",
    "        print(prefix, \"└──── \" if is_left else \"┌──── \", sroot.key, sep=\"\") # n 노드의 키값 출력\n",
    "        if sroot.left: # i의 왼쪽 자식이 있으면\n",
    "            indent = \"      \" if is_left else \"|     \"\n",
    "            self.print_tree(sroot.left, prefix+indent, True)\n",
    "    \n",
    "    def edgecount_subtree(self, sroot: Node) -> int:\n",
    "        \"\"\"서브트리의 엣지 수를 리턴\"\"\"\n",
    "        if sroot is None: return 0\n",
    "        edgecount = 0\n",
    "        if sroot.left and sroot.right:\n",
    "            edgecount += self.edgecount_subtree(sroot.left)+self.edgecount_subtree(sroot.right)+2\n",
    "        elif sroot.left:\n",
    "            edgecount += self.edgecount_subtree(sroot.left)+1\n",
    "        elif sroot.right:\n",
    "            edgecount += self.edgecount_subtree(sroot.right)+1\n",
    "        else:\n",
    "            return 0\n",
    "        return edgecount\n",
    "\n",
    "# 아래는 수정하지 마시오.\n",
    "arr = [(9, 'I'), (5, 'E'), (10, 'J'), (2, 'B'), (7, 'G'), (11, 'K'), (1, 'A'), (4, 'D'), (6, 'F'), (8, 'H'), (3, 'C')]\n",
    "bst = BinarySearchTree()\n",
    "for i in arr:\n",
    "    bst.insert(i[0], i[1])\n",
    "    \n",
    "bst.print_tree(bst.root)\n",
    "print(bst.edgecount_subtree(bst.root))\n",
    "print(bst.edgecount_subtree(bst.root.left)) \n",
    "print(bst.edgecount_subtree(bst.root.right)) \n",
    "print(bst.edgecount_subtree(bst.root.right.right)) \n",
    "    \n"
   ]
  },
  {
   "cell_type": "markdown",
   "metadata": {},
   "source": [
    "---\n",
    "### 문제5\n",
    "\n",
    "퀵정렬 함수를 완성하시오.\n",
    "\n",
    "- partition()\n",
    "    - 파라미터:\n",
    "        - seq: 시퀀스\n",
    "        - start: 정렬을 시작하는 인덱스\n",
    "        - end: 정렬하는 마지막 인덱스\n",
    "    - 리턴:\n",
    "        - 피벗의 인덱스\n",
    "\n",
    "   \n",
    " \n",
    "#### 결과\n",
    "\n",
    "```\n",
    "True\n",
    "[0, 1, 1, 2, 2, 3, 4, 5, 6, 6, 7, 7]\n",
    "```"
   ]
  },
  {
   "cell_type": "code",
   "execution_count": 28,
   "metadata": {
    "ExecuteTime": {
     "end_time": "2022-10-23T10:52:29.261315Z",
     "start_time": "2022-10-23T10:52:29.243363Z"
    }
   },
   "outputs": [
    {
     "name": "stdout",
     "output_type": "stream",
     "text": [
      "True\n",
      "[0, 1, 1, 2, 2, 3, 4, 5, 6, 6, 7, 7]\n"
     ]
    }
   ],
   "source": [
    "def quick_sort(seq: list) -> None:\n",
    "    \"\"\"퀵 정렬\"\"\"\n",
    "    def partition(start: int, end: int) -> int:\n",
    "        \"\"\"피벗의 인덱스 리턴\"\"\"\n",
    "        pivot = start\n",
    "        i = start+1\n",
    "        j = end\n",
    "        while True:\n",
    "            while i <= end and seq[i] <= seq[pivot]: i += 1\n",
    "            while start+1 <= j and seq[j] > seq[pivot]: j -= 1\n",
    "\n",
    "            if i > j:\n",
    "                seq[j], seq[pivot] = seq[pivot], seq[j]\n",
    "                return j\n",
    "            seq[i], seq[j] = seq[j], seq[i]\n",
    "    \n",
    "    def sort(start: int, end: int) -> None:\n",
    "        if start < end:\n",
    "            pivot = partition(start, end)\n",
    "            sort(start, pivot - 1)\n",
    "            sort(pivot + 1, end)\n",
    "\n",
    "    sort(0, len(seq) - 1) # 정렬 수행\n",
    "\n",
    "# 아래는 수정하지 마시오.\n",
    "arr = [7,2,1,0,6,3,4,5,7,2,1,6]\n",
    "sorted_arr = sorted(arr)\n",
    "quick_sort(arr)\n",
    "print(arr == sorted_arr)\n",
    "print(arr)"
   ]
  },
  {
   "cell_type": "markdown",
   "metadata": {},
   "source": [
    "---\n",
    "### 문제6\n",
    "\n",
    "주어진 merge() 함수를 이용하여 합병정렬을 구현한 merge_sort() 함수를 작성하시오.\n",
    "\n",
    "- 파라미터:\n",
    "    - seq: 리스트\n",
    "- 리턴:\n",
    "    - 없음\n",
    "\n",
    "#### 결과\n",
    "\n",
    "```\n",
    "True\n",
    "[1, 2, 2, 3, 4, 4, 5, 5, 6, 7, 8, 9]\n",
    "```"
   ]
  },
  {
   "cell_type": "code",
   "execution_count": 31,
   "metadata": {
    "ExecuteTime": {
     "end_time": "2022-10-21T08:51:54.511660Z",
     "start_time": "2022-10-21T08:51:54.492713Z"
    }
   },
   "outputs": [
    {
     "name": "stdout",
     "output_type": "stream",
     "text": [
      "True\n",
      "[1, 2, 2, 3, 4, 4, 5, 5, 6, 7, 8, 9]\n"
     ]
    }
   ],
   "source": [
    "def merge(left: list, right: list) -> list:\n",
    "    \"\"\"합병\"\"\"\n",
    "    result = [None] * (len(left) + len(right))\n",
    "    i = 0 \n",
    "    j = 0 \n",
    "    for k in range(len(result)):\n",
    "        if i < len(left) and j < len(right):\n",
    "            if left[i] <= right[j]: \n",
    "                result[k] = left[i]\n",
    "                i += 1\n",
    "            else:\n",
    "                result[k] = right[j] \n",
    "                j += 1\n",
    "        elif i >= len(left): \n",
    "            result[k] = right[j]\n",
    "            j += 1\n",
    "        elif j >= len(right):\n",
    "            result[k] = left[i]\n",
    "            i += 1\n",
    "    return result\n",
    "\n",
    "def merge_sort(seq: list) -> None:\n",
    "    \"\"\"합병 정렬\"\"\"\n",
    "    if len(seq) <= 1: return seq\n",
    "    mid = len(seq)//2\n",
    "    left = seq[:mid]\n",
    "    right = seq[mid:]\n",
    "\n",
    "    merge_sort(left)\n",
    "    merge_sort(right)\n",
    "\n",
    "    merged = merge(left,right)\n",
    "    for i in range(len(seq)):\n",
    "        seq[i] = merged[i]\n",
    "\n",
    "# 아래는 수정하지 마시오.\n",
    "arr = [1,5,2,6,7,2,4,8,9,4,5,3]\n",
    "sorted_arr = sorted(arr)\n",
    "merge_sort(arr)\n",
    "print(arr == sorted_arr)\n",
    "print(arr)"
   ]
  },
  {
   "cell_type": "markdown",
   "metadata": {},
   "source": [
    "### 문제7\n",
    "\n",
    "그리드맵에서 1이상의 값은 육지의 높이이고, 0은 물이다. 육지들은 상하좌우만로 연결될 수 있다.\n",
    "\n",
    "이때 그리드맵에 있는 모든 섬에 대해서 높이를 구하고 결과를 정렬하여 리스트로 리턴하는 함수 heights_island()를 작상하시오.\n",
    "\n",
    "섬의 높이는 섬을 이루고 있는 육지들 중에서 가장 높은 높이 값이다.\n",
    "\n",
    "- 파라미터:\n",
    "    - grid: 이중리스트로 된 그리드 맵\n",
    "- 리턴:\n",
    "    - 섬의 높이들이 들어 있는 리스트(오름차순으로 정렬되어야 함)\n",
    "\n",
    "### 결과\n",
    "```\n",
    "[3, 4]\n",
    "[2, 3, 6]\n",
    "```\n"
   ]
  },
  {
   "cell_type": "code",
   "execution_count": 45,
   "metadata": {
    "ExecuteTime": {
     "end_time": "2022-10-21T07:46:16.801692Z",
     "start_time": "2022-10-21T07:46:16.781013Z"
    }
   },
   "outputs": [
    {
     "name": "stdout",
     "output_type": "stream",
     "text": [
      "[3, 4]\n",
      "[2, 3, 6]\n"
     ]
    }
   ],
   "source": [
    "from typing import Any\n",
    "\n",
    "def heights_island(grid: list[list[int]]) -> int:\n",
    "    n_rows = len(grid)\n",
    "    n_cols = len(grid[0])\n",
    "    visited = [[False]*n_cols for _ in range(n_rows)]\n",
    "\n",
    "    dxdy = [(0,1),(0,-1),(1,0),(-1,0)]\n",
    "    \n",
    "    def is_promising(row: int, col: int) -> bool:\n",
    "        \"\"\"grid[row][col]이 유망한지 확인\"\"\"\n",
    "        return 0 <= row < n_rows and 0 <= col < n_cols and grid[row][col] >= 1 and not visited[row][col]\n",
    "        \n",
    "    def dfs(row: int, col: int) -> int:\n",
    "        \"\"\"grid[row][col]을 깊이우선탐색하여 방문한 육지중에서 가장 높은 높이를 리턴\"\"\"\n",
    "        x,y = row,col\n",
    "        order = [grid[x][y]]\n",
    "        visited[x][y] = True\n",
    "        \n",
    "        for dx, dy in dxdy:\n",
    "            nx, ny = x + dx, y + dy\n",
    "            if is_promising(nx, ny):\n",
    "                order.append(dfs(nx, ny))\n",
    "        \n",
    "        return max(order)\n",
    "            \n",
    "    heights = []\n",
    "    for row in range(n_rows):\n",
    "        for col in range(n_cols):\n",
    "            if is_promising(row, col):\n",
    "                heights.append(dfs(row, col))\n",
    "\n",
    "    return heights\n",
    "\n",
    "\n",
    "# 아래는 수정하지 마시오.\n",
    "grid = [\n",
    "    [1,2,0,0,0],\n",
    "    [2,3,0,0,0],\n",
    "    [0,0,1,3,2],\n",
    "    [0,0,0,1,4],\n",
    "]\n",
    "print(heights_island(grid)) # 높이가 3인 섬과 높이가 4인 섬이 있어서 정렬하여 [3,4] 를 리턴\n",
    "\n",
    "grid = [\n",
    "    [2,1,0,2,3],\n",
    "    [1,2,0,0,0],\n",
    "    [0,0,1,2,5],\n",
    "    [0,0,0,6,2],\n",
    "    [0,0,1,4,2],\n",
    "]\n",
    "print(heights_island(grid))"
   ]
  },
  {
   "cell_type": "markdown",
   "metadata": {},
   "source": [
    "### 수고하셨습니다.\n",
    "제출후 모든 파일을 반드시 삭제하세요."
   ]
  }
 ],
 "metadata": {
  "kernelspec": {
   "display_name": "3.10.13",
   "language": "python",
   "name": "python3"
  },
  "language_info": {
   "codemirror_mode": {
    "name": "ipython",
    "version": 3
   },
   "file_extension": ".py",
   "mimetype": "text/x-python",
   "name": "python",
   "nbconvert_exporter": "python",
   "pygments_lexer": "ipython3",
   "version": "3.10.13"
  },
  "toc": {
   "base_numbering": 1,
   "nav_menu": {},
   "number_sections": true,
   "sideBar": true,
   "skip_h1_title": false,
   "title_cell": "Table of Contents",
   "title_sidebar": "Contents",
   "toc_cell": false,
   "toc_position": {},
   "toc_section_display": true,
   "toc_window_display": false
  }
 },
 "nbformat": 4,
 "nbformat_minor": 4
}
